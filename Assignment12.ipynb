{
 "cells": [
  {
   "cell_type": "markdown",
   "id": "dc5593a0-2319-4e97-9da9-4cad10d545dc",
   "metadata": {},
   "source": [
    "# Q1 "
   ]
  },
  {
   "cell_type": "markdown",
   "id": "d7d00420-4abc-435b-80bc-ebca18f69a4d",
   "metadata": {},
   "source": [
    "In Python, an exception is a runtime error that occurs when the program encounters an unexpected condition or situation. When an exception is raised, the program stops executing and an error message is displayed.\n",
    "\n",
    "Types of Exception error are as Follows:\n",
    "\n",
    "ValueError \n",
    "\n",
    "Type Error \n",
    "\n",
    "Name Error\n",
    "\n",
    "ZeroDivisionError"
   ]
  },
  {
   "cell_type": "markdown",
   "id": "ad5b4737-dd7c-4227-b9a2-9083b737bf47",
   "metadata": {},
   "source": [
    "A syntax error is a compile-time error that occurs when the program contains invalid syntax. This error is detected by the Python interpreter before the program is executed, so the program will not run until the syntax error is corrected. "
   ]
  },
  {
   "cell_type": "code",
   "execution_count": null,
   "id": "ba509849-39eb-4b85-a3e5-40ddf39d3bba",
   "metadata": {},
   "outputs": [],
   "source": [
    "#EXAMPLE OF SYNTAX ERROR\n",
    "primt(\"Hello\") #wrong print spelling"
   ]
  },
  {
   "cell_type": "code",
   "execution_count": null,
   "id": "f784e8c8-b130-4d89-86b2-f7df77c20b85",
   "metadata": {},
   "outputs": [],
   "source": [
    "# This will raise a ZeroDivisionError\n",
    "a = 1\n",
    "b = 0\n",
    "c = a/b"
   ]
  },
  {
   "cell_type": "markdown",
   "id": "52068e15-17db-499b-9090-d466754adca4",
   "metadata": {},
   "source": [
    "# Q2"
   ]
  },
  {
   "cell_type": "markdown",
   "id": "d70fdc4c-a153-4a81-9b8a-ee21b7dc3c0c",
   "metadata": {},
   "source": [
    "When an exception is not handled, it will cause the program to terminate and display an error message that describes the exception that was raised. This is known as an \"unhandled exception\" and can be problematic because it can cause the program to crash or stop functioning as intended."
   ]
  },
  {
   "cell_type": "code",
   "execution_count": 2,
   "id": "6f546f06-3713-4929-8bb5-8b1733cd9c10",
   "metadata": {},
   "outputs": [
    {
     "name": "stdout",
     "output_type": "stream",
     "text": [
      "An exception occurred division by zero\n"
     ]
    }
   ],
   "source": [
    "try:\n",
    "    x = 1 / 0\n",
    "except Exception as e:\n",
    "    print(\"An exception occurred\",e)\n"
   ]
  },
  {
   "cell_type": "markdown",
   "id": "f4f0e21a-665a-4ced-aa93-a8c10f7422b4",
   "metadata": {},
   "source": [
    "# Q 3"
   ]
  },
  {
   "cell_type": "markdown",
   "id": "bf866e18-9dc4-4c82-b3cc-1187ef9323ec",
   "metadata": {},
   "source": [
    "In Python, you can catch and handle exceptions using the try-except statement. The basic syntax of a try-except block"
   ]
  },
  {
   "cell_type": "code",
   "execution_count": 3,
   "id": "eea06e08-0fbc-4afa-902b-d79a330ca7a3",
   "metadata": {},
   "outputs": [
    {
     "name": "stdout",
     "output_type": "stream",
     "text": [
      "Error: division by zero\n"
     ]
    }
   ],
   "source": [
    "a = 10\n",
    "b = 0\n",
    "\n",
    "try:\n",
    "    c = a / b\n",
    "except ZeroDivisionError:\n",
    "    print(\"Error: division by zero\")\n"
   ]
  },
  {
   "cell_type": "markdown",
   "id": "aeef0070-937e-43f1-8833-72297c30ef68",
   "metadata": {},
   "source": [
    "# Q4"
   ]
  },
  {
   "cell_type": "markdown",
   "id": "337a5163-b2de-4f3a-b100-c5178faf603a",
   "metadata": {},
   "source": [
    "## TRY AND ELSE"
   ]
  },
  {
   "cell_type": "code",
   "execution_count": 4,
   "id": "4d2e28ce-5ba6-4d32-917b-919853d36592",
   "metadata": {},
   "outputs": [
    {
     "name": "stdin",
     "output_type": "stream",
     "text": [
      "Enter a number:  12\n"
     ]
    },
    {
     "name": "stdout",
     "output_type": "stream",
     "text": [
      "Good Job\n"
     ]
    }
   ],
   "source": [
    "try:\n",
    "    x = int(input(\"Enter a number: \"))\n",
    "except ValueError:\n",
    "    print(\"Invalid input\")\n",
    "else:\n",
    "    print(\"Good Job\")\n",
    "    \n",
    "# AS WE CAN SEE THE PROGRAM DOESENT EXECUTE THE EXCEPT BLOCK AND DIRECTLY SHIFTS TO ELSE BLOCK ONCE TRY CONDITION IS \n",
    "# SATISFIED\n"
   ]
  },
  {
   "cell_type": "markdown",
   "id": "e9f63928-793f-4d4b-881d-19ba7a18eb12",
   "metadata": {},
   "source": [
    " \n",
    " \n",
    "## FINALLY "
   ]
  },
  {
   "cell_type": "markdown",
   "id": "e356e003-6086-4014-a79b-f7f1b5fe7301",
   "metadata": {},
   "source": [
    "The finally block is typically used to define clean-up code that should always be executed, regardless of whether or not an exception occurred."
   ]
  },
  {
   "cell_type": "code",
   "execution_count": null,
   "id": "9a45df17-2e3e-4242-a0cd-5fd1a46c8d92",
   "metadata": {},
   "outputs": [],
   "source": [
    "try:\n",
    "    file = open(\"example.txt\", \"r\")\n",
    "    content = file.read()\n",
    "    print(content)\n",
    "except FileNotFoundError:\n",
    "    print(\"File not found\")\n",
    "finally:\n",
    "    file.close()"
   ]
  },
  {
   "cell_type": "markdown",
   "id": "e9e0d681-baed-43b5-bb4f-4df8cbd4988e",
   "metadata": {},
   "source": [
    "## Raise"
   ]
  },
  {
   "cell_type": "markdown",
   "id": "308bd88b-276d-4505-8874-900be824ab9a",
   "metadata": {},
   "source": [
    "The raise statement is used to raise an exception explicitly. This can be useful in situations where we want to handle a specific error condition in our code by raising a custom exception."
   ]
  },
  {
   "cell_type": "code",
   "execution_count": 6,
   "id": "c6c63651-9baf-488a-a34c-55e1d91d1335",
   "metadata": {},
   "outputs": [
    {
     "name": "stdout",
     "output_type": "stream",
     "text": [
      "Cannot divide by zero\n"
     ]
    }
   ],
   "source": [
    "def divide(x, y):\n",
    "    if y == 0:\n",
    "        raise ValueError(\"Cannot divide by zero\")\n",
    "    return x / y\n",
    "\n",
    "try:\n",
    "    result = divide(10, 0)\n",
    "    print(result)\n",
    "except ValueError as e:\n",
    "    print(e)\n"
   ]
  },
  {
   "cell_type": "markdown",
   "id": "0c9fa55d-4113-4bca-a28c-31c24968cf45",
   "metadata": {},
   "source": [
    "# Q5"
   ]
  },
  {
   "cell_type": "markdown",
   "id": "20989932-61c5-452a-86ca-ac2a74e1e753",
   "metadata": {},
   "source": [
    "In Python, you can create custom exceptions by defining your own exception classes. This can be useful when you want to create a specific type of exception that is not already defined in Python's built-in exception hierarchy."
   ]
  },
  {
   "cell_type": "code",
   "execution_count": 4,
   "id": "da5c5b0f-27a8-4ca0-9acc-7f84b2f177c8",
   "metadata": {},
   "outputs": [],
   "source": [
    "class CustomException(Exception):\n",
    "    pass"
   ]
  },
  {
   "cell_type": "code",
   "execution_count": 8,
   "id": "7d623d09-3738-4cd0-ac39-dd936e765f1d",
   "metadata": {},
   "outputs": [
    {
     "name": "stdout",
     "output_type": "stream",
     "text": [
      "Here's a exception\n"
     ]
    }
   ],
   "source": [
    "def function():\n",
    "    raise CustomException(\"Here's a exception\")\n",
    "\n",
    "try:\n",
    "    \n",
    "    function()\n",
    "\n",
    "except CustomException as e:\n",
    "    \n",
    "    \n",
    "    print(e)\n"
   ]
  },
  {
   "cell_type": "markdown",
   "id": "38efb455-9f58-45fd-a847-56e33920bf16",
   "metadata": {},
   "source": [
    "# Q6"
   ]
  },
  {
   "cell_type": "code",
   "execution_count": 10,
   "id": "e3637f1d-06ba-4c4f-9d4f-aba4e7bbdad9",
   "metadata": {},
   "outputs": [
    {
     "name": "stdout",
     "output_type": "stream",
     "text": [
      "Number cannot be negative\n"
     ]
    }
   ],
   "source": [
    "class CustomException(Exception):\n",
    "    def __init__(self, sms):\n",
    "        self.message = sms\n",
    "\n",
    "def work(x):\n",
    "    if x < 0:\n",
    "        raise CustomException(\"Number cannot be negative\")\n",
    "    else:\n",
    "        print(\"Number is:\", x)\n",
    "\n",
    "try:\n",
    "    work(-1)\n",
    "except CustomException as e:\n",
    "    print(e.message)"
   ]
  }
 ],
 "metadata": {
  "kernelspec": {
   "display_name": "Python 3 (ipykernel)",
   "language": "python",
   "name": "python3"
  },
  "language_info": {
   "codemirror_mode": {
    "name": "ipython",
    "version": 3
   },
   "file_extension": ".py",
   "mimetype": "text/x-python",
   "name": "python",
   "nbconvert_exporter": "python",
   "pygments_lexer": "ipython3",
   "version": "3.10.8"
  }
 },
 "nbformat": 4,
 "nbformat_minor": 5
}
