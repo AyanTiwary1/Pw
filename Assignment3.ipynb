{
 "cells": [
  {
   "cell_type": "markdown",
   "id": "372a5421-1a5d-437d-9d6e-01a309121bd5",
   "metadata": {},
   "source": [
    "# Q1"
   ]
  },
  {
   "cell_type": "markdown",
   "id": "21076d2e-9000-40ef-b427-9232f7629bc9",
   "metadata": {},
   "source": [
    "In Python the def keyword is used for creating functions.\n",
    "\n",
    "To Create a function which will return us a list of odd numbers from range 1 to 25"
   ]
  },
  {
   "cell_type": "code",
   "execution_count": 25,
   "id": "dc7a2f70-9924-45ce-bf9d-ef78f44a02ec",
   "metadata": {},
   "outputs": [],
   "source": [
    "lis1=[]\n",
    "def ayan():\n",
    "    \n",
    "    for i in range(25):\n",
    "        \n",
    "        if i%2 != 0:\n",
    "            lis1.append(i)\n",
    "        else:\n",
    "            continue\n",
    "    print(lis1)\n",
    "            \n",
    "    \n",
    "    "
   ]
  },
  {
   "cell_type": "code",
   "execution_count": 24,
   "id": "dc6e847d-6fef-4589-a03d-c82bd018e058",
   "metadata": {},
   "outputs": [
    {
     "name": "stdout",
     "output_type": "stream",
     "text": [
      "[1, 3, 5, 7, 9, 11, 13, 15, 17, 19, 21, 23]\n"
     ]
    }
   ],
   "source": [
    "ayan()"
   ]
  },
  {
   "cell_type": "markdown",
   "id": "7eb5fe6b-dcee-4608-b99e-a417de6d9bc7",
   "metadata": {},
   "source": [
    "# Q2"
   ]
  },
  {
   "cell_type": "markdown",
   "id": "0a725c91-0e41-4be8-a945-57b66dee2a2c",
   "metadata": {},
   "source": [
    "The use of *args and **kwargs in a function definition is a way to pass a variable number of arguments to the function. The syntax *args is used to send a non-keyworded variable length argument list to the function, and **kwargs allows you to pass keyworded variable length of arguments to a function."
   ]
  },
  {
   "cell_type": "code",
   "execution_count": 28,
   "id": "0c8ebfd3-aa13-4b40-a55d-a57f8ec791b3",
   "metadata": {},
   "outputs": [],
   "source": [
    "#To Create a function for *args and **kwargs\n",
    "def arf(*args):\n",
    "    for i in args:\n",
    "        print(i)"
   ]
  },
  {
   "cell_type": "code",
   "execution_count": 30,
   "id": "7970ce19-f19a-4dd7-98ff-726e37cce9df",
   "metadata": {},
   "outputs": [
    {
     "name": "stdout",
     "output_type": "stream",
     "text": [
      "1\n",
      "2\n",
      "3\n",
      "4\n",
      "5\n"
     ]
    }
   ],
   "source": [
    "arf(1,2,3,4,5)"
   ]
  },
  {
   "cell_type": "markdown",
   "id": "09aebb40-0bd3-44d1-b0e7-de2e7437c37b",
   "metadata": {},
   "source": [
    "# Example for **kwargs"
   ]
  },
  {
   "cell_type": "code",
   "execution_count": 31,
   "id": "d79035fe-b29a-453b-af77-59a18c5010e5",
   "metadata": {},
   "outputs": [
    {
     "name": "stdout",
     "output_type": "stream",
     "text": [
      "first_name: Ayan\n",
      "last_name: Tiwary\n",
      "age: 21\n"
     ]
    }
   ],
   "source": [
    "def giga(**kwargs):\n",
    "    for key, value in kwargs.items():\n",
    "        print(f\"{key}: {value}\")\n",
    "\n",
    "giga(first_name=\"Ayan\", last_name=\"Tiwary\", age=21)\n"
   ]
  },
  {
   "cell_type": "markdown",
   "id": "fd12a412-f734-4b39-86d4-7f79f196c6e7",
   "metadata": {},
   "source": [
    "# Q3"
   ]
  },
  {
   "cell_type": "markdown",
   "id": "893a410b-315e-44c0-9f93-eed0062696f1",
   "metadata": {},
   "source": [
    "An iterator in Python is an object that implements the iterator protocol, which consists of two methods: __iter__() and __next__().\n",
    "\n",
    "Can be used to access the elements of the iterable one by one."
   ]
  },
  {
   "cell_type": "code",
   "execution_count": 33,
   "id": "88b05980-16c9-4387-b44c-be25a4cb74b4",
   "metadata": {},
   "outputs": [
    {
     "name": "stdout",
     "output_type": "stream",
     "text": [
      "2\n",
      "4\n",
      "6\n",
      "8\n",
      "10\n"
     ]
    }
   ],
   "source": [
    "lis3=[2, 4, 6, 8, 10, 12, 14, 16, 18, 20]\n",
    "weIterate = iter(lis3)\n",
    "\n",
    "print(next(weIterate)) # output = 2\n",
    "print(next(weIterate)) # output = 4\n",
    "print(next(weIterate)) # output = 6\n",
    "print(next(weIterate)) # output = 8 \n",
    "print(next(weIterate)) # output = 10\n"
   ]
  },
  {
   "cell_type": "markdown",
   "id": "89861034-6c04-40e8-8024-8402268ad1f7",
   "metadata": {},
   "source": [
    "We can also do this by using loop"
   ]
  },
  {
   "cell_type": "code",
   "execution_count": 43,
   "id": "1a4a7b7b-0d06-42a0-a86b-6cc901143d58",
   "metadata": {},
   "outputs": [
    {
     "name": "stdout",
     "output_type": "stream",
     "text": [
      "[2, 4, 6, 8, 10]\n"
     ]
    }
   ],
   "source": [
    "k=4\n",
    "lot=[]\n",
    "for i in lis3:\n",
    "    if k>=0:\n",
    "        lot.append(i)\n",
    "        k=k-1\n",
    "    else:\n",
    "        continue\n",
    "print(lot)\n",
    "        \n",
    "    "
   ]
  },
  {
   "cell_type": "markdown",
   "id": "288bd34c-6c87-46a1-8f6e-2942edecfbc4",
   "metadata": {},
   "source": [
    "# Q4"
   ]
  },
  {
   "cell_type": "markdown",
   "id": "a5ca34ed-649b-4138-9646-5ea79d2f09f0",
   "metadata": {},
   "source": [
    "A generator function in Python is a special type of function that allows you to generate a sequence of values, one at a time, instead of computing all of its results at once and returning them as a list. \n",
    "\n",
    "This basically saves time and saves a lot of memory which can be very helpfull for programmers for efficient programming"
   ]
  },
  {
   "cell_type": "markdown",
   "id": "1a8c3972-eabc-406c-ba71-98b1f75f0444",
   "metadata": {},
   "source": [
    "The yield keyword is used in a generator function to return a value and then pause the function's execution, allowing the caller to resume execution from where it left off the next time the function is called."
   ]
  },
  {
   "cell_type": "markdown",
   "id": "f859fcf0-53c0-4745-8309-c4b055c646a0",
   "metadata": {},
   "source": [
    "As sir in class gave us an example"
   ]
  },
  {
   "cell_type": "code",
   "execution_count": 47,
   "id": "da9516af-3244-447e-9a68-197d0394be74",
   "metadata": {},
   "outputs": [
    {
     "name": "stdout",
     "output_type": "stream",
     "text": [
      "0\n",
      "1\n",
      "1\n",
      "2\n",
      "3\n",
      "5\n",
      "8\n",
      "13\n",
      "21\n",
      "34\n"
     ]
    }
   ],
   "source": [
    "def fibonacci(n):\n",
    "    a, b = 0, 1\n",
    "    for i in range(n):\n",
    "        yield a\n",
    "        a, b = b, a + b\n",
    "\n",
    "# Generate the first 10 Fibonacci numbers\n",
    "for num in fibonacci(10):\n",
    "    print(num)\n"
   ]
  },
  {
   "cell_type": "markdown",
   "id": "1ec199d6-7167-4f02-b656-5ce9838cf683",
   "metadata": {},
   "source": [
    "# Q5"
   ]
  },
  {
   "cell_type": "code",
   "execution_count": 49,
   "id": "70433d35-f2d0-419a-86dd-2adfc78ae9b9",
   "metadata": {},
   "outputs": [],
   "source": [
    "def prime_numbers(n):\n",
    "    def is_prime(x):\n",
    "        if x < 2:\n",
    "            return False\n",
    "        for i in range(2, x):\n",
    "            if x % i == 0:\n",
    "                return False\n",
    "        return True\n",
    "    \n",
    "    for i in range(2, n):\n",
    "        if is_prime(i):\n",
    "            yield i"
   ]
  },
  {
   "cell_type": "code",
   "execution_count": 50,
   "id": "4f3f289a-2827-4fad-855c-3e91df0c0a47",
   "metadata": {},
   "outputs": [
    {
     "name": "stdout",
     "output_type": "stream",
     "text": [
      "2\n",
      "3\n",
      "5\n",
      "7\n",
      "11\n",
      "13\n",
      "17\n",
      "19\n",
      "23\n",
      "29\n",
      "31\n",
      "37\n",
      "41\n",
      "43\n",
      "47\n",
      "53\n",
      "59\n",
      "61\n",
      "67\n",
      "71\n"
     ]
    }
   ],
   "source": [
    "prime_gen = prime_numbers(1000)\n",
    "for i in range(20):\n",
    "    print(next(prime_gen))"
   ]
  }
 ],
 "metadata": {
  "kernelspec": {
   "display_name": "Python 3 (ipykernel)",
   "language": "python",
   "name": "python3"
  },
  "language_info": {
   "codemirror_mode": {
    "name": "ipython",
    "version": 3
   },
   "file_extension": ".py",
   "mimetype": "text/x-python",
   "name": "python",
   "nbconvert_exporter": "python",
   "pygments_lexer": "ipython3",
   "version": "3.10.8"
  }
 },
 "nbformat": 4,
 "nbformat_minor": 5
}
