{
 "cells": [
  {
   "cell_type": "markdown",
   "id": "a227770c-e91b-487f-9b67-2aa5d786e980",
   "metadata": {},
   "source": [
    "# Assignment "
   ]
  },
  {
   "cell_type": "markdown",
   "id": "6118fbcc-4c45-4382-9286-12210c061eea",
   "metadata": {},
   "source": [
    "# 18th Feb"
   ]
  },
  {
   "cell_type": "markdown",
   "id": "f0f6e24f-c164-437e-9fef-b895b0d0a888",
   "metadata": {},
   "source": [
    "# Q1"
   ]
  },
  {
   "cell_type": "markdown",
   "id": "d619bfda-6cef-4846-88bd-03032e9fe07c",
   "metadata": {},
   "source": [
    "API stands for Application Programming Interface. It is a set of protocols, routines, and tools used for building software applications. An API specifies how software components should interact and allows different applications to communicate with each other"
   ]
  },
  {
   "cell_type": "markdown",
   "id": "8e6ad30d-f57e-4974-a06e-32c72f3d53f8",
   "metadata": {},
   "source": [
    "Api are used in our everyday lives like the example which sir presented in class that the communication between google pay \n",
    "and Banks , Both of which are written in different lannguages , can communicate with each other through the help of api"
   ]
  },
  {
   "cell_type": "markdown",
   "id": "5e4fa9ca-3a48-4e5e-a317-24d4039c6435",
   "metadata": {},
   "source": [
    "Another example is the Google Maps API, which allows developers to integrate Google Maps into their own applications. This API provides a set of tools for developers to display maps, search for locations, and provide driving directions within their own apps."
   ]
  },
  {
   "cell_type": "markdown",
   "id": "43377498-ed68-4672-8f40-bdb0a19f0ba6",
   "metadata": {},
   "source": [
    "# Q2"
   ]
  },
  {
   "cell_type": "markdown",
   "id": "12e34752-9e2b-43ce-a6e7-9569f5effa77",
   "metadata": {},
   "source": [
    "Advantages:\n",
    "\n",
    "Integration: APIs make it easier for different software applications to communicate with each other and exchange data, which makes it easier to integrate various systems and services.\n",
    "\n",
    "Efficiency: By using an API, developers can save time and resources by not having to build certain functionalities from scratch. Instead, they can use pre-built APIs to access the functionality they need.\n",
    "\n",
    "Scalability: APIs allow for greater scalability, as they can be used to manage large amounts of data and traffic without overloading the server.\n",
    "\n",
    "Innovation: APIs enable developers to create new and innovative applications by combining different data sources and services."
   ]
  },
  {
   "cell_type": "markdown",
   "id": "f018f819-93b8-40e2-aae7-dc68d79e041b",
   "metadata": {
    "tags": []
   },
   "source": [
    "DISADVANTAGE"
   ]
  },
  {
   "cell_type": "markdown",
   "id": "dc3e8321-9338-4818-a866-4dad4d89c1dd",
   "metadata": {},
   "source": [
    "\n",
    "\n",
    "Complexity: APIs can be complex and difficult to understand, especially for beginners. It requires a certain level of technical knowledge to use and implement them correctly.\n",
    "\n",
    "Security risks: Exposing APIs to the internet can create potential security vulnerabilities, as hackers may try to exploit them. Developers need to ensure proper authentication and access controls are in place.\n",
    "\n",
    "Dependence on third-party providers: When using an API from a third-party provider, developers are dependent on the provider's uptime, reliability, and maintenance. If the provider goes offline or changes the API, it can have a significant impact on the functionality of the application.\n",
    "\n",
    "Compatibility issues: API versions can change over time, and old versions may not be compatible with new ones. This can cause compatibility issues and may require developers to update their code or rebuild their application."
   ]
  },
  {
   "cell_type": "markdown",
   "id": "f97f6f34-7bc2-4253-bf17-c9b229d69b94",
   "metadata": {},
   "source": [
    "# Q3"
   ]
  },
  {
   "cell_type": "markdown",
   "id": "27b83d42-bc16-4126-8513-6220d1c43030",
   "metadata": {},
   "source": [
    "The main difference between an API and a Web API is that an API is a general term used to describe a set of protocols and tools that allow different software components to interact with each other. In contrast, a Web API is a specific type of API that uses HTTP to communicate between web applications.\n",
    "\n",
    "Another difference is that while APIs can be used for different types of applications, including mobile and desktop applications, Web APIs are designed specifically for web-based applications. Web APIs use standard web protocols and formats like HTTP, URLs, and JSON or XML for data transfer."
   ]
  },
  {
   "cell_type": "markdown",
   "id": "1d68e78c-1fb7-42b3-8a01-40cc9bc522f0",
   "metadata": {},
   "source": [
    "# Q4"
   ]
  },
  {
   "cell_type": "markdown",
   "id": "db1425b0-aa6a-42f5-80b4-015fa867867b",
   "metadata": {},
   "source": [
    "REST Architecture:\n",
    "REST is a style of web architecture that uses HTTP to transfer data between the client and the server. It uses HTTP verbs such as GET, POST, PUT, and DELETE to perform operations on the data resources. REST is based on a client-server model, where the client sends a request to the server, and the server sends a response back to the client in a predefined format, such as JSON or XML. REST is often used for building scalable and lightweight web services that can handle large amounts of data."
   ]
  },
  {
   "cell_type": "markdown",
   "id": "9759bb7b-3d3c-4237-a81d-09d0c625cc40",
   "metadata": {},
   "source": [
    "."
   ]
  },
  {
   "cell_type": "markdown",
   "id": "0983603e-b358-4256-b065-b091428c904e",
   "metadata": {},
   "source": [
    "SOAP Architecture:\n",
    "SOAP is an XML-based protocol used for exchanging structured information between different systems. It uses the XML format to send messages over a network, and it typically uses the HTTP protocol for transport. SOAP is based on the concept of sending and receiving messages between the client and the server, and it defines a set of rules for how messages should be structured and how they should be exchanged between different systems. SOAP is often used for building enterprise-level web services, where security and reliability are critical."
   ]
  },
  {
   "cell_type": "markdown",
   "id": "82821869-0bd2-4869-8a6f-a5e75d48fccd",
   "metadata": {},
   "source": [
    "."
   ]
  },
  {
   "cell_type": "markdown",
   "id": "6461dbfd-74b6-4bc5-9f06-f74e127eb889",
   "metadata": {},
   "source": [
    "Short comings of soap"
   ]
  },
  {
   "cell_type": "markdown",
   "id": "9b2de649-7cb5-4447-97d2-659a2217f95f",
   "metadata": {},
   "source": [
    "Performance: SOAP can be slower than REST because of the additional processing required to parse the XML messages. This can be a problem for high-traffic or latency-sensitive applications.\n",
    "\n",
    "Scalability: Because SOAP messages are typically larger than REST messages due to the XML format, they may require more bandwidth and processing power, which can limit scalability.\n",
    "\n",
    "Flexibility: SOAP has a more rigid structure compared to REST, which can make it less flexible and harder to modify or extend over time."
   ]
  },
  {
   "cell_type": "markdown",
   "id": "a503b1b1-f053-48fb-86ea-17cdf71dcccc",
   "metadata": {},
   "source": [
    "# Q5"
   ]
  },
  {
   "cell_type": "markdown",
   "id": "e13aef27-17d3-4283-af85-d57cdd03edf6",
   "metadata": {},
   "source": [
    "Communication Protocol:\n",
    "REST uses simple HTTP protocols such as GET, POST, PUT, and DELETE to communicate with the server, whereas SOAP uses a more complex XML-based protocol for communication.\n",
    "\n",
    "Message Format:\n",
    "REST typically uses JSON or XML format to transmit data between the client and server, while SOAP uses only XML format.\n",
    "\n",
    "Response Size:\n",
    "REST typically has a smaller response size compared to SOAP because of the JSON or XML format used for data transmission. SOAP messages can be larger because of the additional XML tags and headers required.\n",
    "\n",
    "Caching:\n",
    "REST supports caching, which can help to reduce network traffic and improve performance, while SOAP does not have any built-in caching mechanism.\n",
    "\n",
    "Security:\n",
    "SOAP provides a more standardized security framework, with built-in support for security features such as encryption and digital signatures. REST does not have a standardized security framework, but security can be implemented using various methods such as OAuth or SSL/TLS."
   ]
  }
 ],
 "metadata": {
  "kernelspec": {
   "display_name": "Python 3 (ipykernel)",
   "language": "python",
   "name": "python3"
  },
  "language_info": {
   "codemirror_mode": {
    "name": "ipython",
    "version": 3
   },
   "file_extension": ".py",
   "mimetype": "text/x-python",
   "name": "python",
   "nbconvert_exporter": "python",
   "pygments_lexer": "ipython3",
   "version": "3.11.2"
  }
 },
 "nbformat": 4,
 "nbformat_minor": 5
}
