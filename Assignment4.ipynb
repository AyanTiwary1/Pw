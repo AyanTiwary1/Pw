{
 "cells": [
  {
   "cell_type": "markdown",
   "id": "3452d629-7e33-4f5f-b9f0-c1f4e1271313",
   "metadata": {},
   "source": [
    "# Q1"
   ]
  },
  {
   "cell_type": "code",
   "execution_count": null,
   "id": "9aa13d07-14b6-4c86-ad39-f3bd2184b791",
   "metadata": {},
   "outputs": [],
   "source": [
    "# To sort the given list of tuples based on integer value"
   ]
  },
  {
   "cell_type": "code",
   "execution_count": 40,
   "id": "2b0248c7-bbe5-4779-a09d-507aa82cfd47",
   "metadata": {},
   "outputs": [
    {
     "name": "stdout",
     "output_type": "stream",
     "text": [
      "[('Sachin Tendulkar', 34357), ('Ricky Ponting', 27483), ('Jack Kallis', 25534), ('Virat Kohli', 24936)]\n"
     ]
    }
   ],
   "source": [
    "lst = [('Sachin Tendulkar', 34357), ('Ricky Ponting', 27483), ('Jack Kallis', 25534), ('Virat Kohli', 24936)]\n",
    "\n",
    "\n",
    "sorting_the_lst = sorted(lst, key=lambda x: x[1], reverse=True)\n",
    "\n",
    "\n",
    "print(sorting_the_lst)"
   ]
  },
  {
   "cell_type": "markdown",
   "id": "c38301f4-b0fb-4c4f-8a57-6547dc92712d",
   "metadata": {},
   "source": [
    "# Q2"
   ]
  },
  {
   "cell_type": "code",
   "execution_count": 2,
   "id": "f2d007d5-ce92-4077-8e65-e280e336d7d2",
   "metadata": {},
   "outputs": [],
   "source": [
    "# To Print Square of all the numbers given inside the list"
   ]
  },
  {
   "cell_type": "code",
   "execution_count": 1,
   "id": "15dccf83-4f53-4bbc-9a7f-d35e09046511",
   "metadata": {},
   "outputs": [
    {
     "name": "stdout",
     "output_type": "stream",
     "text": [
      "[1, 4, 9, 16, 25, 36, 49, 64, 81, 100]\n"
     ]
    }
   ],
   "source": [
    "lis=[1, 2, 3, 4, 5, 6, 7, 8, 9, 10]\n",
    "a=list(map(lambda x:x**2 , lis))\n",
    "print(a)"
   ]
  },
  {
   "cell_type": "markdown",
   "id": "81c7f606-4216-4484-a798-7c616f27ea87",
   "metadata": {},
   "source": [
    "# Q3"
   ]
  },
  {
   "cell_type": "code",
   "execution_count": 4,
   "id": "1f1159a4-75b4-4473-bff7-f96fc184f001",
   "metadata": {},
   "outputs": [],
   "source": [
    "# To convert a given list into string within a tuple"
   ]
  },
  {
   "cell_type": "code",
   "execution_count": 3,
   "id": "42be9faf-1449-426d-8bce-5268e3855db5",
   "metadata": {},
   "outputs": [
    {
     "name": "stdout",
     "output_type": "stream",
     "text": [
      "('1', '2', '3', '4', '5', '6', '7', '8', '9', '10')\n"
     ]
    }
   ],
   "source": [
    "l=[1, 2, 3, 4, 5, 6, 7, 8, 9, 10]\n",
    "c=tuple(map(lambda x:str(x),l))\n",
    "print(c)"
   ]
  },
  {
   "cell_type": "markdown",
   "id": "bee44fe4-f860-44cf-aaa8-f4c05a5fe521",
   "metadata": {},
   "source": [
    "# Q4"
   ]
  },
  {
   "cell_type": "code",
   "execution_count": 5,
   "id": "81a671b9-0387-46a9-8d82-4c917f38fe01",
   "metadata": {},
   "outputs": [],
   "source": [
    "# Product of list from 1 to 25 using reduce function"
   ]
  },
  {
   "cell_type": "code",
   "execution_count": 7,
   "id": "6c817db2-4915-41f4-a3a4-bcbe5c044881",
   "metadata": {},
   "outputs": [],
   "source": [
    "from functools import reduce"
   ]
  },
  {
   "cell_type": "code",
   "execution_count": 8,
   "id": "2b0103ab-1892-41a6-a061-9cad78f73845",
   "metadata": {},
   "outputs": [
    {
     "name": "stdout",
     "output_type": "stream",
     "text": [
      "15511210043330985984000000\n"
     ]
    }
   ],
   "source": [
    "lot = [1,2,3,4,5,6,7,8,9,10,11,12,13,14,15,16,17,18,19,20,21,22,23,24,25]\n",
    "r = reduce(lambda x,y:x*y , lot)\n",
    "print(r)"
   ]
  },
  {
   "cell_type": "markdown",
   "id": "a21369bf-1f2c-4f20-9ea2-fa0ebf9efa4c",
   "metadata": {},
   "source": [
    "# Q5"
   ]
  },
  {
   "cell_type": "code",
   "execution_count": 41,
   "id": "d04edf6a-c5ae-48b0-a29d-251084960c03",
   "metadata": {},
   "outputs": [],
   "source": [
    "# To filter a list of numbers divisible by 3 and 2 both from a goven list"
   ]
  },
  {
   "cell_type": "code",
   "execution_count": 20,
   "id": "e2d20e25-fd71-40a0-9999-66981c6c4ce1",
   "metadata": {},
   "outputs": [
    {
     "name": "stdout",
     "output_type": "stream",
     "text": [
      "2 is Not divisible by 2 and 3 both\n",
      "3 is Not divisible by 2 and 3 both\n",
      "9 is Not divisible by 2 and 3 both\n",
      "27 is Not divisible by 2 and 3 both\n",
      "55 is Not divisible by 2 and 3 both\n",
      "46 is Not divisible by 2 and 3 both\n"
     ]
    }
   ],
   "source": [
    "fil=[2, 3, 6, 9, 27, 60, 90, 120, 55, 46]\n",
    "q=list(filter(lambda x: x if x%2==0 and x%3==0 else print(f\"{x} is Not divisible by 2 and 3 both\"), fil))\n"
   ]
  },
  {
   "cell_type": "code",
   "execution_count": 21,
   "id": "f59b4bca-d7f0-4800-8940-204d194a4e60",
   "metadata": {},
   "outputs": [
    {
     "name": "stdout",
     "output_type": "stream",
     "text": [
      "[6, 60, 90, 120]\n"
     ]
    }
   ],
   "source": [
    "print(q)"
   ]
  },
  {
   "cell_type": "markdown",
   "id": "dd802677-ef04-40cb-a1c1-616d3ac54cdc",
   "metadata": {},
   "source": [
    "# Q6"
   ]
  },
  {
   "cell_type": "code",
   "execution_count": 39,
   "id": "07094e37-8faf-4118-a8b4-3478550de538",
   "metadata": {},
   "outputs": [],
   "source": [
    "# To filter palindrome from the given list"
   ]
  },
  {
   "cell_type": "code",
   "execution_count": 38,
   "id": "56f469c9-d5a7-4f23-a8d7-a412d8e1cbbf",
   "metadata": {},
   "outputs": [
    {
     "data": {
      "text/plain": [
       "['php', 'aba', 'radar', 'level']"
      ]
     },
     "execution_count": 38,
     "metadata": {},
     "output_type": "execute_result"
    }
   ],
   "source": [
    "yo=['python', 'php', 'aba', 'radar', 'level']\n",
    "list(filter(lambda x: x == x[::-1] , yo ))"
   ]
  }
 ],
 "metadata": {
  "kernelspec": {
   "display_name": "Python 3 (ipykernel)",
   "language": "python",
   "name": "python3"
  },
  "language_info": {
   "codemirror_mode": {
    "name": "ipython",
    "version": 3
   },
   "file_extension": ".py",
   "mimetype": "text/x-python",
   "name": "python",
   "nbconvert_exporter": "python",
   "pygments_lexer": "ipython3",
   "version": "3.10.8"
  }
 },
 "nbformat": 4,
 "nbformat_minor": 5
}
