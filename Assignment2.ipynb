{
 "cells": [
  {
   "cell_type": "markdown",
   "id": "89649a46-2377-4931-b45d-c9f4976a354a",
   "metadata": {},
   "source": [
    "# Q1"
   ]
  },
  {
   "cell_type": "markdown",
   "id": "b727f74f-67e9-4eb0-b674-a6bcb8d14fc8",
   "metadata": {},
   "source": [
    "The characterstics of tuple are:\n",
    "1) Tuples are indexed\n",
    "2) Tuples are ordered\n",
    "3) Unlike sets Tuple can carry muliple similiar things\n",
    "\n",
    "And we also know that tuples aren't mutable Hence they are called as immutable"
   ]
  },
  {
   "cell_type": "markdown",
   "id": "bde6b8b6-f612-43f5-ae82-abb8e9a3c928",
   "metadata": {},
   "source": [
    "# Q2"
   ]
  },
  {
   "cell_type": "markdown",
   "id": "06c673a7-de97-40ef-bb80-dd851e13f38f",
   "metadata": {},
   "source": [
    "The two methods of tuple a tuple are:\n",
    "1) count\n",
    "2) Index\n",
    "We can see these functions if we press tab after creating a tuple."
   ]
  },
  {
   "cell_type": "markdown",
   "id": "2f0990f5-3de8-4de1-8ebb-a7d997beb8a6",
   "metadata": {},
   "source": [
    "By using the count function We can find How  many times a simiiar value is present inside a tuple.\n",
    "Example is presnted below"
   ]
  },
  {
   "cell_type": "code",
   "execution_count": 3,
   "id": "b76af0fa-5b99-44ed-9591-cfeaaa8de438",
   "metadata": {},
   "outputs": [
    {
     "data": {
      "text/plain": [
       "2"
      ]
     },
     "execution_count": 3,
     "metadata": {},
     "output_type": "execute_result"
    }
   ],
   "source": [
    "a=(1,2,3,2)\n",
    "a.count(2)  # On Pressing Tab after the dot we can see the methods of tuple "
   ]
  },
  {
   "cell_type": "markdown",
   "id": "c74bd098-8435-4e05-ac2a-31f2f9bcafb5",
   "metadata": {},
   "source": [
    "As we know tuple are indexed so by using the index method we get the value of that index inside the tuple which we created. Example is presented below"
   ]
  },
  {
   "cell_type": "code",
   "execution_count": 5,
   "id": "719391f8-bfc0-4c80-8c98-eb3a19159d37",
   "metadata": {},
   "outputs": [
    {
     "data": {
      "text/plain": [
       "2"
      ]
     },
     "execution_count": 5,
     "metadata": {},
     "output_type": "execute_result"
    }
   ],
   "source": [
    "a.index(3)"
   ]
  },
  {
   "cell_type": "markdown",
   "id": "753e3eba-06e4-4bff-8832-ae89971a6b6c",
   "metadata": {},
   "source": [
    "Compared to list tuples have only two methods as it's main pourpose is to increase the efficiency of the programer by\n",
    "removing unwanted things out of the way."
   ]
  },
  {
   "cell_type": "markdown",
   "id": "cddbd0b4-d502-4d56-bfef-289766c0dc4c",
   "metadata": {},
   "source": [
    "# Q3"
   ]
  },
  {
   "cell_type": "markdown",
   "id": "44f10780-bb11-4c50-ab7e-262ed3e71566",
   "metadata": {},
   "source": [
    "Sets dont allow duplicate data types"
   ]
  },
  {
   "cell_type": "code",
   "execution_count": 7,
   "id": "1074ee01-4501-4adf-8c1e-59b0f786c6b8",
   "metadata": {},
   "outputs": [],
   "source": [
    "List = [1, 1, 1, 2, 1, 3, 1, 4, 2, 1, 2, 2, 2, 3, 2, 4, 3, 1, 3, 2, 3, 3, 3, 4, 4, 1, 4, 2, 4, 3, 4, 4]\n",
    "sett={1,1,2,2}\n",
    "sett.union"
   ]
  },
  {
   "cell_type": "code",
   "execution_count": 20,
   "id": "dddee348-cd3d-452d-9fd8-ab2821a38d64",
   "metadata": {},
   "outputs": [
    {
     "name": "stdout",
     "output_type": "stream",
     "text": [
      "{1, 2, 3, 4, 'Duplicates are Gone'}\n"
     ]
    }
   ],
   "source": [
    "serr={'Duplicates are Gone'}\n",
    "for i in List:\n",
    "    serr.add(i)\n",
    "print(serr)\n",
    "    \n",
    "    "
   ]
  },
  {
   "cell_type": "markdown",
   "id": "f5854742-2c1a-40f5-ae2c-f70c5e3789de",
   "metadata": {},
   "source": [
    "# Q4"
   ]
  },
  {
   "cell_type": "markdown",
   "id": "be2b5f75-00a6-415b-82fe-6a4e8352f9be",
   "metadata": {},
   "source": [
    "The union() method and the update() method are two different ways to combine two sets in Python.\n",
    "\n",
    "union() method returns a set that contains all items from the original set and all items from the set(s) specified as arguments, without any duplicates. example"
   ]
  },
  {
   "cell_type": "code",
   "execution_count": 22,
   "id": "628415be-bcac-4ffe-9cab-f2d955490bae",
   "metadata": {},
   "outputs": [
    {
     "data": {
      "text/plain": [
       "{1, 2, 3, 4, 5}"
      ]
     },
     "execution_count": 22,
     "metadata": {},
     "output_type": "execute_result"
    }
   ],
   "source": [
    "set1 = {1, 2, 3}\n",
    "set2 = {3, 4, 5}\n",
    "set1.union(set2)"
   ]
  },
  {
   "cell_type": "code",
   "execution_count": 23,
   "id": "9ed84989-8bad-4881-abae-e516fdb54e9a",
   "metadata": {},
   "outputs": [
    {
     "data": {
      "text/plain": [
       "{1, 2, 3, 4, 5}"
      ]
     },
     "execution_count": 23,
     "metadata": {},
     "output_type": "execute_result"
    }
   ],
   "source": [
    "set1 = {1, 2, 3}\n",
    "set2 = {3, 4, 5}\n",
    "set1.update(set2)\n",
    "set1"
   ]
  },
  {
   "cell_type": "markdown",
   "id": "5d83bd4b-0c3f-4157-b0cf-d2961929a8ea",
   "metadata": {},
   "source": [
    "# Q5"
   ]
  },
  {
   "cell_type": "markdown",
   "id": "914ae36e-fd58-4ea4-9022-eedfd2643681",
   "metadata": {},
   "source": [
    "A dictionary in python is used to store data as key and value pair in python programming language, A dictionary dosent allow duplicates, A dictionary retrives the value when key is called."
   ]
  },
  {
   "cell_type": "code",
   "execution_count": 27,
   "id": "48fb4ac0-18a7-4c3f-b8b6-3eab6b42d252",
   "metadata": {},
   "outputs": [
    {
     "name": "stdout",
     "output_type": "stream",
     "text": [
      "{'ayan': 'Mumbai', 'bhavya': 'Madras'}\n",
      "<class 'dict'>\n"
     ]
    }
   ],
   "source": [
    "# example of a dictionary\n",
    "a={\"ayan\":\"Mumbai\",\"bhavya\":\"Madras\"}\n",
    "print(a)\n",
    "print(type(a))"
   ]
  },
  {
   "cell_type": "markdown",
   "id": "cdb5c51f-efde-4bae-99ff-3caeb76c2629",
   "metadata": {},
   "source": [
    "# Q6"
   ]
  },
  {
   "cell_type": "markdown",
   "id": "9bacf744-33b9-4245-99f4-b939eaacecfc",
   "metadata": {},
   "source": [
    "Yes Creation of nested dictionary is possible:\n",
    "\n",
    "For example"
   ]
  },
  {
   "cell_type": "code",
   "execution_count": 32,
   "id": "258e2e75-886f-4cc9-bed2-ed2687181cd0",
   "metadata": {},
   "outputs": [
    {
     "name": "stdout",
     "output_type": "stream",
     "text": [
      "{'a': {'b': 2, 'c': 2}}\n"
     ]
    }
   ],
   "source": [
    "you={\"a\":{\"b\":2,\"c\":2}}\n",
    "print(you)"
   ]
  },
  {
   "cell_type": "markdown",
   "id": "c5256dff-3fce-4b22-b0bf-b53560f0bccb",
   "metadata": {},
   "source": [
    "# Q7"
   ]
  },
  {
   "cell_type": "code",
   "execution_count": 42,
   "id": "89c11a36-cc19-4c41-9b19-56e8b8ba3fcc",
   "metadata": {},
   "outputs": [
    {
     "name": "stdout",
     "output_type": "stream",
     "text": [
      "{'language': 'Python', 'course': 'Data Science Masters', 'Topics': ['Python', 'Machine Learning', 'Deep Learning']}\n"
     ]
    }
   ],
   "source": [
    "dict2 = {'language' : 'Python', 'course': 'Data Science Masters'}\n",
    "dict2.setdefault(\"Topics\",['Python', 'Machine Learning', 'Deep Learning'])\n",
    "print(dict2)"
   ]
  },
  {
   "cell_type": "markdown",
   "id": "787c74d4-c46c-4d33-9564-a2afa4c18584",
   "metadata": {},
   "source": [
    "# Q8"
   ]
  },
  {
   "cell_type": "markdown",
   "id": "a052ca49-7180-4803-b852-de56b95c1553",
   "metadata": {},
   "source": [
    "The Three view objects in Python are:\n",
    "\n",
    "The keys( ) view object returns a view of all the keys in the dictionary.\n",
    "\n",
    "The values( ) view object returns a view of all the values in the dictionary.\n",
    "\n",
    "The items( ) view object returns a view of all the key-value pairs in the dictionary."
   ]
  },
  {
   "cell_type": "code",
   "execution_count": null,
   "id": "fa16cbc9-bb0f-4be3-89e9-0f0ae4c7a2ab",
   "metadata": {},
   "outputs": [],
   "source": [
    "dict1 = {'Sport': 'Cricket' , 'Teams': ['India', 'Australia', 'England', 'South Africa', 'Sri Lanka', 'New Zealand']}\n",
    "a=dict1.keys()\n",
    "b=dict1.values()\n",
    "c=dict1.items()\n",
    "print(\" The keys are :\" , a)"
   ]
  }
 ],
 "metadata": {
  "kernelspec": {
   "display_name": "Python 3 (ipykernel)",
   "language": "python",
   "name": "python3"
  },
  "language_info": {
   "codemirror_mode": {
    "name": "ipython",
    "version": 3
   },
   "file_extension": ".py",
   "mimetype": "text/x-python",
   "name": "python",
   "nbconvert_exporter": "python",
   "pygments_lexer": "ipython3",
   "version": "3.10.8"
  }
 },
 "nbformat": 4,
 "nbformat_minor": 5
}
