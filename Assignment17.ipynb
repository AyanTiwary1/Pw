{
 "cells": [
  {
   "cell_type": "markdown",
   "id": "1a5000ce-3016-42df-9deb-aef656dd8c9c",
   "metadata": {},
   "source": [
    "# Assignment 17"
   ]
  },
  {
   "cell_type": "markdown",
   "id": "b57a1263-cd2f-4fab-879b-ab4e6ab910ab",
   "metadata": {},
   "source": [
    "# Q1"
   ]
  },
  {
   "cell_type": "markdown",
   "id": "64b0d4ab-8925-4978-9ca6-c7e150e9831b",
   "metadata": {},
   "source": [
    "MongoDB is a popular open-source document-oriented NoSQL database that uses a JSON-like format to store and manage data. It is designed to provide flexible and scalable storage for unstructured and semi-structured data, making it a popular choice for applications that require high performance and horizontal scalability."
   ]
  },
  {
   "cell_type": "markdown",
   "id": "57334002-13f3-40cb-98ef-fcbd569a8f05",
   "metadata": {},
   "source": [
    "MongoDB is preferred over SQL databases in scenarios where the data is unstructured, changing rapidly, or needs to be horizontally scalable. It is commonly used for web applications, big data processing, and real-time analytics. MongoDB provides a flexible schema, making it easier to store and manage complex data structures, and it has built-in support for sharding and replication, which allows it to scale horizontally and ensure high availability"
   ]
  },
  {
   "cell_type": "markdown",
   "id": "59f3178f-cd4d-498c-b0f2-d13c9de30c65",
   "metadata": {},
   "source": [
    "Non-relational databases, or NoSQL databases, are databases that do not use the traditional relational model used by SQL databases. NoSQL databases are designed to handle large volumes of unstructured data and provide more flexibility in terms of data modeling, scaling, and availability"
   ]
  },
  {
   "cell_type": "markdown",
   "id": "abae457f-2268-473e-a3f8-a79e890c8e37",
   "metadata": {},
   "source": [
    "# Q2"
   ]
  },
  {
   "cell_type": "markdown",
   "id": "9f6e0081-0243-433a-80ec-18f561d24498",
   "metadata": {},
   "source": [
    "Document-Oriented: MongoDB is a document-oriented database that stores data in flexible and dynamic documents that can contain nested data structures. This makes it easier to store and manage complex data types, as opposed to the rigid structure of tables and rows used in SQL databases.\n",
    "\n",
    "Scalability: MongoDB provides built-in support for sharding and replication, allowing it to scale horizontally across multiple servers and provide high availability and fault tolerance.\n",
    "\n",
    "Flexible Schema: MongoDB's flexible schema allows it to adapt to changing data models, making it easier to manage evolving data structures over time.\n",
    "\n",
    "Indexing: MongoDB supports a wide variety of indexing options, including compound indexes, text indexes, and geospatial indexes. This allows for efficient query execution and improved application performance.\n",
    "\n",
    "Aggregation Framework: MongoDB provides a powerful aggregation framework that allows for complex queries and data analysis, including grouping, filtering, and map-reduce operations.\n",
    "\n",
    "Rich Query Language: MongoDB's query language supports a wide variety of operators, including comparison operators, logical operators, and regular expressions. This makes it easier to write complex queries and perform data analysis.\n",
    "\n",
    "Security: MongoDB provides robust security features, including role-based access control, authentication, and encryption. This ensures that only authorized users have access to sensitive data."
   ]
  },
  {
   "cell_type": "markdown",
   "id": "1bee5dfd-2cc7-4ab8-87b9-6b13fa7aece9",
   "metadata": {},
   "source": [
    "# Q3"
   ]
  },
  {
   "cell_type": "code",
   "execution_count": null,
   "id": "6d144171-d18d-4ad1-be36-396ba66b620b",
   "metadata": {},
   "outputs": [],
   "source": [
    "import pymongo\n",
    "client = pymongo.MongoClient(\"mongodb+srv://ayanbhavya125:<password>@cluster0.o4ijlwd.mongodb.net/?retryWrites=true&w=majority\")\n",
    "db = client.test\n"
   ]
  },
  {
   "cell_type": "code",
   "execution_count": null,
   "id": "adf2689a-f3ed-4085-a7b3-ac0399c25bc5",
   "metadata": {},
   "outputs": [],
   "source": [
    "db=client['pwskills'] #DataBase"
   ]
  },
  {
   "cell_type": "code",
   "execution_count": null,
   "id": "2df446a6-749d-4810-80e0-bc6edbac7687",
   "metadata": {},
   "outputs": [],
   "source": [
    "coll_create =  db[\"My_Collection\"]"
   ]
  },
  {
   "cell_type": "markdown",
   "id": "031ab304-4ffe-49f5-8edb-f5be42f08e9e",
   "metadata": {},
   "source": [
    "# Q4"
   ]
  },
  {
   "cell_type": "markdown",
   "id": "6f045538-e4f8-4a47-a5cc-3e8a93d8183d",
   "metadata": {},
   "source": [
    "To insert One Record"
   ]
  },
  {
   "cell_type": "code",
   "execution_count": 1,
   "id": "6314587c-956f-4b38-9a3f-389c68c96419",
   "metadata": {},
   "outputs": [],
   "source": [
    "data1={\"Name\":\"AYAN\",\n",
    "       \"NUM\":7878\n",
    "}"
   ]
  },
  {
   "cell_type": "code",
   "execution_count": null,
   "id": "4ee9dd4d-b2ab-411d-8d3f-c5f4f1e55e0c",
   "metadata": {},
   "outputs": [],
   "source": [
    "coll_create.insert_one(data1)"
   ]
  },
  {
   "cell_type": "markdown",
   "id": "1c9257be-0df4-4fd6-b75d-afbaa8edfc6f",
   "metadata": {},
   "source": [
    "To insert Many Record"
   ]
  },
  {
   "cell_type": "code",
   "execution_count": 2,
   "id": "118998e9-e327-4163-8b6f-1f8441995207",
   "metadata": {},
   "outputs": [],
   "source": [
    " data3 = [\n",
    "  { \"name\": \"Amy\", \"address\": \"Apple st 652\" },\n",
    "  { \"name\": \"Hannah\", \"address\": \"Mountain 21\" },\n",
    "  { \"name\": \"Michael\", \"address\": \"Valley 345\" },\n",
    "  { \"name\": \"Sandy\", \"address\": \"Ocean blvd 2\" },\n",
    "  { \"name\": \"Betty\", \"address\": \"Green Grass 1\" },\n",
    "  { \"name\": \"Richard\", \"address\": \"Sky st 331\" },\n",
    "  { \"name\": \"Susan\", \"address\": \"One way 98\" },\n",
    "  { \"name\": \"Vicky\", \"address\": \"Yellow Garden 2\" },\n",
    "  { \"name\": \"Ben\", \"address\": \"Park Lane 38\" },\n",
    "  { \"name\": \"William\", \"address\": \"Central st 954\" },\n",
    "  { \"name\": \"Chuck\", \"address\": \"Main Road 989\" },\n",
    "  { \"name\": \"Viola\", \"address\": \"Sideway 1633\" }\n",
    "]"
   ]
  },
  {
   "cell_type": "code",
   "execution_count": null,
   "id": "f133e97c-9b23-4304-b3fe-13cabde90e33",
   "metadata": {},
   "outputs": [],
   "source": [
    "coll_create.insert_many(data3)"
   ]
  },
  {
   "cell_type": "markdown",
   "id": "1fe6f00c-44e9-4c79-b3c6-f580cfca6234",
   "metadata": {},
   "source": [
    "# Q5"
   ]
  },
  {
   "cell_type": "markdown",
   "id": "4a8f0731-bf32-4a19-a896-553d95400b44",
   "metadata": {},
   "source": [
    "The code to use find() "
   ]
  },
  {
   "cell_type": "code",
   "execution_count": null,
   "id": "6b41b3b4-2401-4f14-b80f-1fffb9fe01c3",
   "metadata": {},
   "outputs": [],
   "source": [
    "for j in coll_create.find():\n",
    "    print(j)"
   ]
  },
  {
   "cell_type": "markdown",
   "id": "d4aef953-3649-4165-826f-c5f666f8c65d",
   "metadata": {},
   "source": [
    "To Use Find for Query"
   ]
  },
  {
   "cell_type": "code",
   "execution_count": null,
   "id": "bf82f6aa-5ce6-4c1f-80e3-b888e9a43354",
   "metadata": {},
   "outputs": [],
   "source": [
    "for i in coll_create.find({\"NAME\":\"AYAN\"}):\n",
    "    print(i)"
   ]
  },
  {
   "cell_type": "code",
   "execution_count": null,
   "id": "2ccb55bd-8a08-4054-9074-1e8bae05c3de",
   "metadata": {},
   "outputs": [],
   "source": [
    " for i in coll_create.find({\"_id\":{\"$gte\":\"4\"}}): #gte means greater than equal to \n",
    "        print(i)"
   ]
  },
  {
   "cell_type": "markdown",
   "id": "cd8f44c6-5779-42f2-b570-5e21f1886e1a",
   "metadata": {},
   "source": [
    "# Q6"
   ]
  },
  {
   "cell_type": "markdown",
   "id": "e2000ba9-9b4e-4df8-b8b9-8af011c7543e",
   "metadata": {},
   "source": [
    "In MongoDB, the sort() method is used to sort the results of a query in ascending or descending order based on one or more fields. The sort() method takes a sort document as its parameter that specifies the fields to sort on and the sort order.\n",
    "\n",
    "The sort document is a dictionary that contains one or more key-value pairs, where each key is the name of a field to sort on, and the corresponding value is either 1 to sort in ascending order or -1 to sort in descending order."
   ]
  },
  {
   "cell_type": "markdown",
   "id": "9f59eef6-eaca-4ec7-92f4-5b8176a9e54e",
   "metadata": {},
   "source": [
    "By this code we can use sort in  MongoDb"
   ]
  },
  {
   "cell_type": "code",
   "execution_count": null,
   "id": "20539de7-c822-4917-a029-266e5714e818",
   "metadata": {},
   "outputs": [],
   "source": [
    "cursor = coll_create.find().sort([(\"NUM\", 1), (\"NAME\", -1)])\n"
   ]
  },
  {
   "cell_type": "markdown",
   "id": "6bd93a68-1966-49e2-8536-1bf16f77d0e5",
   "metadata": {},
   "source": [
    "# Q7"
   ]
  },
  {
   "cell_type": "markdown",
   "id": "cb23531f-a461-4ee5-b978-480353655f0b",
   "metadata": {},
   "source": [
    "The delete_one() method is used to remove a single document from a collection that matches a specified filter. It takes a filter document as its parameter, which specifies the criteria for the document to be deleted. If multiple documents match the filter, only the first one will be deleted.\n",
    "\n",
    "The delete_many() method is used to remove all documents from a collection that match a specified filter. It takes a filter document as its parameter, which specifies the criteria for the documents to be deleted.\n",
    "\n",
    "The drop() method is used to remove an entire collection from a database. It does not take any parameters, but simply removes the entire collection and all its documents."
   ]
  }
 ],
 "metadata": {
  "kernelspec": {
   "display_name": "Python 3 (ipykernel)",
   "language": "python",
   "name": "python3"
  },
  "language_info": {
   "codemirror_mode": {
    "name": "ipython",
    "version": 3
   },
   "file_extension": ".py",
   "mimetype": "text/x-python",
   "name": "python",
   "nbconvert_exporter": "python",
   "pygments_lexer": "ipython3",
   "version": "3.10.8"
  }
 },
 "nbformat": 4,
 "nbformat_minor": 5
}
