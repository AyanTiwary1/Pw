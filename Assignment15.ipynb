{
 "cells": [
  {
   "cell_type": "markdown",
   "id": "69224b6c-cda1-46c2-9c41-ea86ee7afe04",
   "metadata": {},
   "source": [
    "# Assignment 15"
   ]
  },
  {
   "cell_type": "markdown",
   "id": "ca5f2809-b298-4c7a-b42b-ae2aea3bdf19",
   "metadata": {},
   "source": [
    "# Q1"
   ]
  },
  {
   "cell_type": "markdown",
   "id": "90fedd86-91b9-4efe-855e-779079fccde5",
   "metadata": {},
   "source": [
    "Multiprocessing in Python is a way of using multiple CPU cores to execute tasks simultaneously, thereby improving the performance of a program. \n",
    "\n",
    "It allows you to perform parallel processing by creating a separate process for each CPU core available on the machine."
   ]
  },
  {
   "cell_type": "markdown",
   "id": "c4d3faa4-4639-43e4-96fe-ecc876930033",
   "metadata": {},
   "source": [
    " It offers a simple and consistent interface to parallelism, allowing developers to write concurrent programs with minimal effort."
   ]
  },
  {
   "cell_type": "markdown",
   "id": "139b20de-f3e2-40e1-85ea-794f69f738b8",
   "metadata": {},
   "source": [
    "# Q2"
   ]
  },
  {
   "cell_type": "markdown",
   "id": "900f3fca-6f82-495c-b799-b7a8c879905d",
   "metadata": {},
   "source": [
    "The main differences between multiprocessing and multithreading are:\n",
    "\n",
    "Execution model: Multiprocessing uses multiple processes, where each process has its own memory space and executes independently, while multithreading uses multiple threads within a single process, sharing the same memory space.\n",
    "\n",
    "Resource consumption: Multiprocessing creates multiple processes that consume more system resources, such as memory and CPU time, while multithreading creates multiple threads that share the same resources and consume less memory.\n",
    "\n",
    "Parallelism: Multiprocessing can achieve true parallelism by utilizing multiple CPU cores, while multithreading achieves concurrency but not necessarily parallelism, as multiple threads may compete for a single CPU core.\n",
    "\n",
    "Communication: Communication between processes in multiprocessing is typically done through inter-process communication (IPC) mechanisms such as pipes or sockets, while communication between threads in multithreading is done through shared memory.\n",
    "\n",
    "Scalability: Multiprocessing can scale better as it can utilize multiple CPUs, while multithreading has limitations in scaling due to contention and synchronization issues that arise with large numbers of threads."
   ]
  },
  {
   "cell_type": "markdown",
   "id": "65694f02-3d76-48c0-856d-d7e36c7f54e5",
   "metadata": {},
   "source": [
    "# Q3"
   ]
  },
  {
   "cell_type": "code",
   "execution_count": 1,
   "id": "d1b67d37-1664-4549-963c-862488f62cad",
   "metadata": {},
   "outputs": [
    {
     "name": "stdout",
     "output_type": "stream",
     "text": [
      "0.05465960502624512\n"
     ]
    }
   ],
   "source": [
    "import multiprocessing as mp\n",
    "import math\n",
    "import time\n",
    "result_a=[]\n",
    "result_b=[]\n",
    "result_c=[]\n",
    "\n",
    "def make_calculation_one(numbers):\n",
    "    for number in numbers:\n",
    "        result_a.append(math.sqrt(number**3))\n",
    "def make_calculation_two(numbers):\n",
    "    for number in numbers:\n",
    "        result_b.append(math.sqrt(number**4))\n",
    "def make_calculation_three(numbers):\n",
    "    for number in numbers:\n",
    "        result_c.append(math.sqrt(number**5))\n",
    "        \n",
    "if __name__ == '__main__':\n",
    "    numbers_list=list(range(10000000))\n",
    "    \n",
    "    p1=mp.Process(target=make_calculation_one, args=(numbers_list,))\n",
    "    p2=mp.Process(target=make_calculation_two, args=(numbers_list,))\n",
    "    p3=mp.Process(target=make_calculation_three, args=(numbers_list,))\n",
    "    \n",
    "    start=time.time()\n",
    "    p1.start()\n",
    "    p2.start()\n",
    "    p3.start()\n",
    "    end=time.time()\n",
    "    print(end-start)"
   ]
  },
  {
   "cell_type": "markdown",
   "id": "7c42e502-151a-478f-b134-3b068b6948b2",
   "metadata": {},
   "source": [
    "# Q4"
   ]
  },
  {
   "cell_type": "markdown",
   "id": "517ba4ba-56f0-43b3-ab7a-3a7e2e5e45ca",
   "metadata": {},
   "source": [
    "A multiprocessing pool in Python is a way to perform parallel processing by distributing a task to a pool of worker processes, with each process handling a subset of the data. The pool provides a simple and efficient way to execute a function on a large set of inputs in parallel.\n",
    "\n",
    "The multiprocessing pool in Python is created using the multiprocessing.Pool() class, which allows you to specify the number of worker processes to use. Once the pool is created, you can submit tasks to it using the apply(), map(), or imap() methods."
   ]
  },
  {
   "cell_type": "markdown",
   "id": "fe92a6ad-5aa2-412f-93d8-0fc0a01d1770",
   "metadata": {},
   "source": [
    "The multiprocessing pool is used to speed up the execution of tasks that are CPU-intensive, such as data processing, machine learning, and numerical simulations. By distributing the task to multiple worker processes, "
   ]
  },
  {
   "cell_type": "markdown",
   "id": "95b676cd-cd96-49a2-9918-d7138f898df1",
   "metadata": {},
   "source": [
    "# Q5"
   ]
  },
  {
   "cell_type": "code",
   "execution_count": 2,
   "id": "14b396ba-5a7e-4746-aa76-82e25cced8b8",
   "metadata": {},
   "outputs": [
    {
     "name": "stdout",
     "output_type": "stream",
     "text": [
      "[2, 24, 720, 40320, 3628800, 479001600, 87178291200, 20922789888000, 6402373705728000, 2432902008176640000]\n"
     ]
    }
   ],
   "source": [
    "import multiprocessing as pm\n",
    "import math\n",
    "import time\n",
    "def square(n):\n",
    "    return math.factorial(n*2)\n",
    "if __name__ =='__main__':\n",
    "    with pm.Pool(processes=5) as pool:\n",
    "        out = pool.map(square,[1,2,3,4,5,6,7,8,9,10])\n",
    "        print(out)"
   ]
  },
  {
   "cell_type": "markdown",
   "id": "3e9d77a2-c9d2-429d-914d-02507202adc5",
   "metadata": {},
   "source": [
    "# Q6"
   ]
  },
  {
   "cell_type": "code",
   "execution_count": 16,
   "id": "c0f75855-9e20-4c99-9a11-2a85980ef810",
   "metadata": {},
   "outputs": [
    {
     "name": "stdout",
     "output_type": "stream",
     "text": [
      "ForkPoolWorker-61ForkPoolWorker-62ForkPoolWorker-64ForkPoolWorker-63\n",
      "\n",
      "\n",
      "\n",
      " The  Current Process is 1  The  Current Process is 2  The  Current Process is 3  The  Current Process is 4 \n",
      "\n",
      "\n",
      "\n"
     ]
    }
   ],
   "source": [
    "import multiprocessing as ay\n",
    "\n",
    "def print_num(n):\n",
    "    print(ay.current_process().name)\n",
    "    print(f\" The  Current Process is {n} \" )\n",
    "if __name__=='__main__':\n",
    "    pool = ay.Pool(processes=4)\n",
    "    \n",
    "    pool.apply_async(print_num, args=(1,))\n",
    "    \n",
    "    pool.apply_async(print_num, args=(2,))\n",
    "    pool.apply_async(print_num, args=(3,))\n",
    "    pool.apply_async(print_num, args=(4,))\n",
    "    \n",
    "    pool.close()\n",
    "    pool.join()\n",
    "    "
   ]
  },
  {
   "cell_type": "code",
   "execution_count": null,
   "id": "40a2f116-2e15-452e-8a7e-d88f1d470dbd",
   "metadata": {},
   "outputs": [],
   "source": []
  },
  {
   "cell_type": "code",
   "execution_count": null,
   "id": "6f3c4e5a-9bec-41d3-855e-2ea325a423b6",
   "metadata": {},
   "outputs": [],
   "source": []
  }
 ],
 "metadata": {
  "kernelspec": {
   "display_name": "Python 3 (ipykernel)",
   "language": "python",
   "name": "python3"
  },
  "language_info": {
   "codemirror_mode": {
    "name": "ipython",
    "version": 3
   },
   "file_extension": ".py",
   "mimetype": "text/x-python",
   "name": "python",
   "nbconvert_exporter": "python",
   "pygments_lexer": "ipython3",
   "version": "3.10.8"
  }
 },
 "nbformat": 4,
 "nbformat_minor": 5
}
