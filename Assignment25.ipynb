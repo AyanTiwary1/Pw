{
 "cells": [
  {
   "cell_type": "markdown",
   "id": "ee1205d2-0cd4-4eb9-9f9c-6fcba8c3fff3",
   "metadata": {},
   "source": [
    "# Assignment 25"
   ]
  },
  {
   "cell_type": "markdown",
   "id": "3bb59827-53c3-4769-be4b-1a5f8ff02dff",
   "metadata": {},
   "source": [
    "# Q1"
   ]
  },
  {
   "cell_type": "code",
   "execution_count": 2,
   "id": "8c9f7ab3-097a-488c-b5c5-4cc2b35ba149",
   "metadata": {},
   "outputs": [
    {
     "data": {
      "text/plain": [
       "course_name    Machine Learning\n",
       "duration                      3\n",
       "Name: 1, dtype: object"
      ]
     },
     "execution_count": 2,
     "metadata": {},
     "output_type": "execute_result"
    }
   ],
   "source": [
    "import pandas as pd\n",
    "course_name = ['Data Science', 'Machine Learning', 'Big Data', 'Data Engineer']\n",
    "duration = [2,3,6,4]\n",
    "df = pd.DataFrame(data = {'course_name' : course_name, 'duration' : duration})\n",
    "df.iloc[1]"
   ]
  },
  {
   "cell_type": "markdown",
   "id": "af4f44f3-5ea4-45bb-85b0-34714a819fed",
   "metadata": {},
   "source": [
    "# Q2"
   ]
  },
  {
   "cell_type": "markdown",
   "id": "9a234503-0864-49c2-bddf-767883006190",
   "metadata": {},
   "source": [
    "loc is used to select rows and columns based on their labels. It accepts label-based indices as input and returns a view of the DataFrame that includes only the rows and columns with the specified labels"
   ]
  },
  {
   "cell_type": "markdown",
   "id": "6df91b4c-018c-4680-b608-c17b29eec94b",
   "metadata": {},
   "source": [
    "iloc, on the other hand, is used to select rows and columns based on their integer positions. It accepts integer-based indices as input and returns a view of the DataFrame that includes only the rows and columns with the specified positions. "
   ]
  },
  {
   "cell_type": "markdown",
   "id": "268cfacb-c3c3-4f1f-a868-b6c9b94e65e5",
   "metadata": {},
   "source": [
    "# Q3"
   ]
  },
  {
   "cell_type": "code",
   "execution_count": 21,
   "id": "fbcdd781-3e6b-47d8-afac-d9a41a320e13",
   "metadata": {},
   "outputs": [
    {
     "data": {
      "text/plain": [
       "course_name    Data Engineer\n",
       "duration                   4\n",
       "Name: 2, dtype: object"
      ]
     },
     "execution_count": 21,
     "metadata": {},
     "output_type": "execute_result"
    }
   ],
   "source": [
    "reindex = [3,0,1,2]\n",
    "new_df = pd.DataFrame(data = {'course_name' : course_name, 'duration' : duration},index = reindex)\n",
    "new_df.loc[2]\n"
   ]
  },
  {
   "cell_type": "code",
   "execution_count": 40,
   "id": "fcf33b03-f039-42ad-9407-542461554a9c",
   "metadata": {},
   "outputs": [
    {
     "data": {
      "text/plain": [
       "course_name    Big Data\n",
       "duration              6\n",
       "Name: 2, dtype: object"
      ]
     },
     "execution_count": 40,
     "metadata": {},
     "output_type": "execute_result"
    }
   ],
   "source": [
    "df.iloc[2]"
   ]
  },
  {
   "cell_type": "code",
   "execution_count": 39,
   "id": "9e79dad9-1a3c-41c5-9c84-77d543ead05e",
   "metadata": {},
   "outputs": [
    {
     "data": {
      "text/html": [
       "<div>\n",
       "<style scoped>\n",
       "    .dataframe tbody tr th:only-of-type {\n",
       "        vertical-align: middle;\n",
       "    }\n",
       "\n",
       "    .dataframe tbody tr th {\n",
       "        vertical-align: top;\n",
       "    }\n",
       "\n",
       "    .dataframe thead th {\n",
       "        text-align: right;\n",
       "    }\n",
       "</style>\n",
       "<table border=\"1\" class=\"dataframe\">\n",
       "  <thead>\n",
       "    <tr style=\"text-align: right;\">\n",
       "      <th></th>\n",
       "      <th>course_name</th>\n",
       "      <th>duration</th>\n",
       "    </tr>\n",
       "  </thead>\n",
       "  <tbody>\n",
       "    <tr>\n",
       "      <th>0</th>\n",
       "      <td>Data Science</td>\n",
       "      <td>2</td>\n",
       "    </tr>\n",
       "    <tr>\n",
       "      <th>1</th>\n",
       "      <td>Machine Learning</td>\n",
       "      <td>3</td>\n",
       "    </tr>\n",
       "    <tr>\n",
       "      <th>2</th>\n",
       "      <td>Big Data</td>\n",
       "      <td>6</td>\n",
       "    </tr>\n",
       "    <tr>\n",
       "      <th>3</th>\n",
       "      <td>Data Engineer</td>\n",
       "      <td>4</td>\n",
       "    </tr>\n",
       "  </tbody>\n",
       "</table>\n",
       "</div>"
      ],
      "text/plain": [
       "        course_name  duration\n",
       "0      Data Science         2\n",
       "1  Machine Learning         3\n",
       "2          Big Data         6\n",
       "3     Data Engineer         4"
      ]
     },
     "execution_count": 39,
     "metadata": {},
     "output_type": "execute_result"
    }
   ],
   "source": [
    "df"
   ]
  },
  {
   "cell_type": "markdown",
   "id": "3518ea59-7263-4de9-be77-ecf8fdf82277",
   "metadata": {},
   "source": [
    " As we can see when we use new_df.loc[2] We get details of row which has the index 2 which we gave it ourselfes\n",
    " While in df.iloc[2] , It prints the row details of index 2 by using default index which we didnt provide it was already there"
   ]
  },
  {
   "cell_type": "markdown",
   "id": "8be834f2-19a1-43ae-8672-ae0be452d6c8",
   "metadata": {},
   "source": [
    "# Q4"
   ]
  },
  {
   "cell_type": "code",
   "execution_count": 32,
   "id": "9ca9810b-b5b1-4380-9df0-d5caa9dcfaf7",
   "metadata": {},
   "outputs": [],
   "source": [
    "import pandas as pd\n",
    "import numpy as np\n",
    "columns = ['column_1', 'column_2', 'column_3', 'column_4', 'column_5', 'column_6']\n",
    "indices = [1,2,3,4,5,6]\n",
    "#Creating a dataframe:\n",
    "df1 = pd.DataFrame(np.random.rand(6,6), columns = columns, index = indices)"
   ]
  },
  {
   "cell_type": "code",
   "execution_count": 34,
   "id": "e446f45c-1fb4-4934-888c-27661041f0ac",
   "metadata": {},
   "outputs": [
    {
     "data": {
      "text/plain": [
       "column_1    0.592129\n",
       "column_2    0.736252\n",
       "column_3    0.486542\n",
       "column_4    0.434953\n",
       "column_5    0.439728\n",
       "column_6    0.554243\n",
       "dtype: float64"
      ]
     },
     "execution_count": 34,
     "metadata": {},
     "output_type": "execute_result"
    }
   ],
   "source": [
    "df1.mean()"
   ]
  },
  {
   "cell_type": "code",
   "execution_count": 35,
   "id": "540d9273-269b-48d7-a85b-9031b0b96944",
   "metadata": {},
   "outputs": [
    {
     "data": {
      "text/plain": [
       "0.2576275442063851"
      ]
     },
     "execution_count": 35,
     "metadata": {},
     "output_type": "execute_result"
    }
   ],
   "source": [
    "df1[\"column_2\"].std()"
   ]
  },
  {
   "cell_type": "markdown",
   "id": "4c8867e3-c572-40fa-8ace-301e57770427",
   "metadata": {},
   "source": [
    "# Q5"
   ]
  },
  {
   "cell_type": "code",
   "execution_count": 44,
   "id": "710c30ae-5e59-4eda-a726-3f889bdb6d5e",
   "metadata": {},
   "outputs": [],
   "source": [
    "df1[\"column_2\"].loc[2] = \"Ayan\""
   ]
  },
  {
   "cell_type": "code",
   "execution_count": null,
   "id": "19b5778b-394c-4660-8841-0b152b8688bc",
   "metadata": {},
   "outputs": [],
   "source": [
    "df1[\"column_2\"].mean() #On using this code we  will get error "
   ]
  },
  {
   "cell_type": "markdown",
   "id": "9d14c0e0-fa62-4427-bb90-db4d2dea34f4",
   "metadata": {},
   "source": [
    "The reason for error is that mean of string is not possible"
   ]
  },
  {
   "cell_type": "markdown",
   "id": "c77205d6-52e5-4ed4-9e42-7c9dd270e560",
   "metadata": {},
   "source": [
    "# Q6"
   ]
  },
  {
   "cell_type": "markdown",
   "id": "5ac3490b-7895-4049-8583-0eb9208b6ee2",
   "metadata": {},
   "source": [
    "In Pandas, a window function is used to perform a calculation on a specified set of rows in a DataFrame, based on a sliding window of rows. The window function is applied to each row in the DataFrame, using the rows in the sliding window as the input to the function.\n",
    "\n",
    "Window functions are useful for performing rolling calculations on time-series data, such as moving averages or rolling sums.\n",
    "\n",
    "There are several types of window functions in Pandas, including:\n",
    "\n",
    "Rolling: Calculates a rolling window of a specified size and performs a calculation on the values in the window. This can be used to calculate moving averages, rolling sums, or other rolling statistics.\n",
    "\n",
    "Expanding: Calculates a cumulative calculation on the values in the DataFrame, expanding the window with each row. This can be used to calculate cumulative sums, or other cumulative statistics.\n",
    "\n",
    "EWM (Exponentially Weighted Moving): Calculates a weighted average of the values in the DataFrame, with more weight given to recent values. This can be used to calculate exponentially weighted moving averages.\n",
    "\n",
    "Groupby: Calculates a window function on a per-group basis, allowing you to perform calculations on subsets of the DataFrame."
   ]
  },
  {
   "cell_type": "markdown",
   "id": "b6c0e55d-f6f4-4cdd-8e21-1e346749281f",
   "metadata": {},
   "source": [
    "# Q7"
   ]
  },
  {
   "cell_type": "code",
   "execution_count": 53,
   "id": "a8e34fa4-fb2e-40f5-b7e9-361d92857374",
   "metadata": {},
   "outputs": [
    {
     "name": "stdout",
     "output_type": "stream",
     "text": [
      "2023-03-12 19:52:42.170520\n",
      "The current year is 2023 And The  current month is  3\n"
     ]
    }
   ],
   "source": [
    "import datetime\n",
    "wow =  datetime.datetime.now()\n",
    "print(wow)\n",
    "print(f\"The current year is {wow.year} And The  current month is  {wow.month}\")"
   ]
  },
  {
   "cell_type": "markdown",
   "id": "08308504-ead3-492d-839d-0ba5ee5dc0eb",
   "metadata": {},
   "source": [
    "# Q8"
   ]
  },
  {
   "cell_type": "code",
   "execution_count": 58,
   "id": "07b25309-efe8-4f39-808c-7033873e7d82",
   "metadata": {},
   "outputs": [
    {
     "name": "stdin",
     "output_type": "stream",
     "text": [
      "Enter the first date (YYYY-MM-DD):  2022-2-20\n",
      "Enter the second date (YYYY-MM-DD):  2022-2-27\n"
     ]
    },
    {
     "name": "stdout",
     "output_type": "stream",
     "text": [
      "The difference between 2022-02-20 and 2022-02-27 is 7 days, 0 hours, and 0 minutes.\n"
     ]
    }
   ],
   "source": [
    "import pandas as pd\n",
    "\n",
    "# Prompt the user for the first date\n",
    "date1_str = input(\"Enter the first date (YYYY-MM-DD): \")\n",
    "date1 = pd.to_datetime(date1_str)\n",
    "\n",
    "# Prompt the user for the second date\n",
    "date2_str = input(\"Enter the second date (YYYY-MM-DD): \")\n",
    "date2 = pd.to_datetime(date2_str)\n",
    "\n",
    "# Calculate the difference between the dates\n",
    "delta = date2 - date1\n",
    "\n",
    "# Extract the number of days, hours, and minutes from the timedelta object\n",
    "days = delta.days\n",
    "hours = delta.seconds // 3600\n",
    "minutes = (delta.seconds % 3600) // 60\n",
    "\n",
    "# Display the result\n",
    "print(f\"The difference between {date1.date()} and {date2.date()} is {days} days, {hours} hours, and {minutes} minutes.\")\n"
   ]
  },
  {
   "cell_type": "markdown",
   "id": "9f728e20-8647-4b08-ae47-277ea35da8ae",
   "metadata": {},
   "source": [
    "# Q9"
   ]
  },
  {
   "cell_type": "code",
   "execution_count": 68,
   "id": "af907a05-d27f-4a42-8cad-7eb97ff32530",
   "metadata": {},
   "outputs": [
    {
     "name": "stdin",
     "output_type": "stream",
     "text": [
      "Enter file path:  titanic_data.csv\n",
      "Enter column name:  Survived\n",
      "Enter category order (comma-separated):  11\n"
     ]
    },
    {
     "data": {
      "text/html": [
       "<div>\n",
       "<style scoped>\n",
       "    .dataframe tbody tr th:only-of-type {\n",
       "        vertical-align: middle;\n",
       "    }\n",
       "\n",
       "    .dataframe tbody tr th {\n",
       "        vertical-align: top;\n",
       "    }\n",
       "\n",
       "    .dataframe thead th {\n",
       "        text-align: right;\n",
       "    }\n",
       "</style>\n",
       "<table border=\"1\" class=\"dataframe\">\n",
       "  <thead>\n",
       "    <tr style=\"text-align: right;\">\n",
       "      <th></th>\n",
       "      <th>PassengerId</th>\n",
       "      <th>Survived</th>\n",
       "      <th>Pclass</th>\n",
       "      <th>Name</th>\n",
       "      <th>Sex</th>\n",
       "      <th>Age</th>\n",
       "      <th>SibSp</th>\n",
       "      <th>Parch</th>\n",
       "      <th>Ticket</th>\n",
       "      <th>Fare</th>\n",
       "      <th>Cabin</th>\n",
       "      <th>Embarked</th>\n",
       "      <th>column</th>\n",
       "    </tr>\n",
       "  </thead>\n",
       "  <tbody>\n",
       "    <tr>\n",
       "      <th>630</th>\n",
       "      <td>631</td>\n",
       "      <td>1</td>\n",
       "      <td>1</td>\n",
       "      <td>Barkworth, Mr. Algernon Henry Wilson</td>\n",
       "      <td>male</td>\n",
       "      <td>80.0</td>\n",
       "      <td>0</td>\n",
       "      <td>0</td>\n",
       "      <td>27042</td>\n",
       "      <td>30.0000</td>\n",
       "      <td>A23</td>\n",
       "      <td>S</td>\n",
       "      <td>1</td>\n",
       "    </tr>\n",
       "    <tr>\n",
       "      <th>851</th>\n",
       "      <td>852</td>\n",
       "      <td>0</td>\n",
       "      <td>3</td>\n",
       "      <td>Svensson, Mr. Johan</td>\n",
       "      <td>male</td>\n",
       "      <td>74.0</td>\n",
       "      <td>0</td>\n",
       "      <td>0</td>\n",
       "      <td>347060</td>\n",
       "      <td>7.7750</td>\n",
       "      <td>NaN</td>\n",
       "      <td>S</td>\n",
       "      <td>0</td>\n",
       "    </tr>\n",
       "    <tr>\n",
       "      <th>493</th>\n",
       "      <td>494</td>\n",
       "      <td>0</td>\n",
       "      <td>1</td>\n",
       "      <td>Artagaveytia, Mr. Ramon</td>\n",
       "      <td>male</td>\n",
       "      <td>71.0</td>\n",
       "      <td>0</td>\n",
       "      <td>0</td>\n",
       "      <td>PC 17609</td>\n",
       "      <td>49.5042</td>\n",
       "      <td>NaN</td>\n",
       "      <td>C</td>\n",
       "      <td>0</td>\n",
       "    </tr>\n",
       "    <tr>\n",
       "      <th>96</th>\n",
       "      <td>97</td>\n",
       "      <td>0</td>\n",
       "      <td>1</td>\n",
       "      <td>Goldschmidt, Mr. George B</td>\n",
       "      <td>male</td>\n",
       "      <td>71.0</td>\n",
       "      <td>0</td>\n",
       "      <td>0</td>\n",
       "      <td>PC 17754</td>\n",
       "      <td>34.6542</td>\n",
       "      <td>A5</td>\n",
       "      <td>C</td>\n",
       "      <td>0</td>\n",
       "    </tr>\n",
       "    <tr>\n",
       "      <th>116</th>\n",
       "      <td>117</td>\n",
       "      <td>0</td>\n",
       "      <td>3</td>\n",
       "      <td>Connors, Mr. Patrick</td>\n",
       "      <td>male</td>\n",
       "      <td>70.5</td>\n",
       "      <td>0</td>\n",
       "      <td>0</td>\n",
       "      <td>370369</td>\n",
       "      <td>7.7500</td>\n",
       "      <td>NaN</td>\n",
       "      <td>Q</td>\n",
       "      <td>0</td>\n",
       "    </tr>\n",
       "    <tr>\n",
       "      <th>...</th>\n",
       "      <td>...</td>\n",
       "      <td>...</td>\n",
       "      <td>...</td>\n",
       "      <td>...</td>\n",
       "      <td>...</td>\n",
       "      <td>...</td>\n",
       "      <td>...</td>\n",
       "      <td>...</td>\n",
       "      <td>...</td>\n",
       "      <td>...</td>\n",
       "      <td>...</td>\n",
       "      <td>...</td>\n",
       "      <td>...</td>\n",
       "    </tr>\n",
       "    <tr>\n",
       "      <th>481</th>\n",
       "      <td>482</td>\n",
       "      <td>0</td>\n",
       "      <td>2</td>\n",
       "      <td>Frost, Mr. Anthony Wood \"Archie\"</td>\n",
       "      <td>male</td>\n",
       "      <td>NaN</td>\n",
       "      <td>0</td>\n",
       "      <td>0</td>\n",
       "      <td>239854</td>\n",
       "      <td>0.0000</td>\n",
       "      <td>NaN</td>\n",
       "      <td>S</td>\n",
       "      <td>0</td>\n",
       "    </tr>\n",
       "    <tr>\n",
       "      <th>633</th>\n",
       "      <td>634</td>\n",
       "      <td>0</td>\n",
       "      <td>1</td>\n",
       "      <td>Parr, Mr. William Henry Marsh</td>\n",
       "      <td>male</td>\n",
       "      <td>NaN</td>\n",
       "      <td>0</td>\n",
       "      <td>0</td>\n",
       "      <td>112052</td>\n",
       "      <td>0.0000</td>\n",
       "      <td>NaN</td>\n",
       "      <td>S</td>\n",
       "      <td>0</td>\n",
       "    </tr>\n",
       "    <tr>\n",
       "      <th>674</th>\n",
       "      <td>675</td>\n",
       "      <td>0</td>\n",
       "      <td>2</td>\n",
       "      <td>Watson, Mr. Ennis Hastings</td>\n",
       "      <td>male</td>\n",
       "      <td>NaN</td>\n",
       "      <td>0</td>\n",
       "      <td>0</td>\n",
       "      <td>239856</td>\n",
       "      <td>0.0000</td>\n",
       "      <td>NaN</td>\n",
       "      <td>S</td>\n",
       "      <td>0</td>\n",
       "    </tr>\n",
       "    <tr>\n",
       "      <th>732</th>\n",
       "      <td>733</td>\n",
       "      <td>0</td>\n",
       "      <td>2</td>\n",
       "      <td>Knight, Mr. Robert J</td>\n",
       "      <td>male</td>\n",
       "      <td>NaN</td>\n",
       "      <td>0</td>\n",
       "      <td>0</td>\n",
       "      <td>239855</td>\n",
       "      <td>0.0000</td>\n",
       "      <td>NaN</td>\n",
       "      <td>S</td>\n",
       "      <td>0</td>\n",
       "    </tr>\n",
       "    <tr>\n",
       "      <th>815</th>\n",
       "      <td>816</td>\n",
       "      <td>0</td>\n",
       "      <td>1</td>\n",
       "      <td>Fry, Mr. Richard</td>\n",
       "      <td>male</td>\n",
       "      <td>NaN</td>\n",
       "      <td>0</td>\n",
       "      <td>0</td>\n",
       "      <td>112058</td>\n",
       "      <td>0.0000</td>\n",
       "      <td>B102</td>\n",
       "      <td>S</td>\n",
       "      <td>0</td>\n",
       "    </tr>\n",
       "  </tbody>\n",
       "</table>\n",
       "<p>891 rows × 13 columns</p>\n",
       "</div>"
      ],
      "text/plain": [
       "     PassengerId  Survived  Pclass                                  Name  \\\n",
       "630          631         1       1  Barkworth, Mr. Algernon Henry Wilson   \n",
       "851          852         0       3                   Svensson, Mr. Johan   \n",
       "493          494         0       1               Artagaveytia, Mr. Ramon   \n",
       "96            97         0       1             Goldschmidt, Mr. George B   \n",
       "116          117         0       3                  Connors, Mr. Patrick   \n",
       "..           ...       ...     ...                                   ...   \n",
       "481          482         0       2      Frost, Mr. Anthony Wood \"Archie\"   \n",
       "633          634         0       1         Parr, Mr. William Henry Marsh   \n",
       "674          675         0       2            Watson, Mr. Ennis Hastings   \n",
       "732          733         0       2                  Knight, Mr. Robert J   \n",
       "815          816         0       1                      Fry, Mr. Richard   \n",
       "\n",
       "      Sex   Age  SibSp  Parch    Ticket     Fare Cabin Embarked column  \n",
       "630  male  80.0      0      0     27042  30.0000   A23        S      1  \n",
       "851  male  74.0      0      0    347060   7.7750   NaN        S      0  \n",
       "493  male  71.0      0      0  PC 17609  49.5042   NaN        C      0  \n",
       "96   male  71.0      0      0  PC 17754  34.6542    A5        C      0  \n",
       "116  male  70.5      0      0    370369   7.7500   NaN        Q      0  \n",
       "..    ...   ...    ...    ...       ...      ...   ...      ...    ...  \n",
       "481  male   NaN      0      0    239854   0.0000   NaN        S      0  \n",
       "633  male   NaN      0      0    112052   0.0000   NaN        S      0  \n",
       "674  male   NaN      0      0    239856   0.0000   NaN        S      0  \n",
       "732  male   NaN      0      0    239855   0.0000   NaN        S      0  \n",
       "815  male   NaN      0      0    112058   0.0000  B102        S      0  \n",
       "\n",
       "[891 rows x 13 columns]"
      ]
     },
     "execution_count": 68,
     "metadata": {},
     "output_type": "execute_result"
    }
   ],
   "source": [
    "import pandas as pd\n",
    "\n",
    "# Prompt user for file path, column name, and category order\n",
    "file_path = input(\"Enter file path: \")\n",
    "column_name = input(\"Enter column name: \")\n",
    "categories = input(\"Enter category order (comma-separated): \").split(\",\")\n",
    "\n",
    "# Load CSV file into a DataFrame\n",
    "df = pd.read_csv(file_path)\n",
    "\n",
    "# Convert specified column to categorical data type with specified category order\n",
    "df[\"column\"] = pd.Categorical(df[column_name], ordered=True)\n",
    "\n",
    "# Sort the DataFrame by the specified column\n",
    "df = df.sort_values(by=['Age','Fare'],ascending=False)\n",
    "#df=df.sort_values(\"Age\",ascending=False)\n",
    "\n",
    "# Display the sorted data\n",
    "df\n"
   ]
  },
  {
   "cell_type": "markdown",
   "id": "e3fa8c5d-bdc6-4009-838d-bcb9df81bd54",
   "metadata": {},
   "source": [
    "# Q 10"
   ]
  },
  {
   "cell_type": "code",
   "execution_count": 34,
   "id": "af1a41fc-a914-4c26-a1a1-f2b1277d5123",
   "metadata": {},
   "outputs": [
    {
     "name": "stdin",
     "output_type": "stream",
     "text": [
      "Enter the name of File :  yay.csv\n"
     ]
    },
    {
     "data": {
      "text/plain": [
       "<AxesSubplot: xlabel='Date'>"
      ]
     },
     "execution_count": 34,
     "metadata": {},
     "output_type": "execute_result"
    },
    {
     "data": {
      "image/png": "[encoded data removed]",
      "text/plain": [
       "<Figure size 500x300 with 1 Axes>"
      ]
     },
     "metadata": {},
     "output_type": "display_data"
    }
   ],
   "source": [
    "import matplotlib.pyplot as plt\n",
    "import pandas as pd\n",
    "File = input(\"Enter the name of File : \")\n",
    "fg = pd.read_csv(File)\n",
    "fg =fg.set_index(\"Date\")\n",
    "\n",
    "\n",
    "\n",
    "\n",
    "ax = fg.plot(kind='bar', stacked=True, figsize=(5, 3))\n",
    "for container in ax.containers:\n",
    "    ax.bar_label(container,  fontsize=10)\n",
    "ax\n",
    "\n"
   ]
  },
  {
   "cell_type": "markdown",
   "id": "c19031b1-557e-45b6-8132-672fd359acdb",
   "metadata": {},
   "source": [
    "# Q11"
   ]
  },
  {
   "cell_type": "code",
   "execution_count": 5,
   "id": "7065d7ff-eca9-493b-bd37-deb9aca4b2d9",
   "metadata": {},
   "outputs": [
    {
     "name": "stdin",
     "output_type": "stream",
     "text": [
      " Enter the name of the file :  student.csv\n"
     ]
    },
    {
     "name": "stdout",
     "output_type": "stream",
     "text": [
      "The Mean is  83.5\n",
      "The Median is  85.0\n",
      "The Mode is  0    85\n",
      "Name: Test_Score, dtype: int64\n"
     ]
    }
   ],
   "source": [
    "#stt = {\"Student_id\" : [1,2,3,4,5,6,7,8,9,10],\n",
    "       #\"Test_Score\" : [85,90,80,75,85,82,78,85,90,85]}\n",
    "#qq =  pd.DataFrame(stt)\n",
    "#qq.to_csv(\"student.csv\",index=False)\n",
    "file = input(\" Enter the name of the file : \")\n",
    "r = pd.read_csv(file)\n",
    "mean= r[\"Test_Score\"].mean()\n",
    "Mode = r[\"Test_Score\"].mode()\n",
    "Median  =  r[\"Test_Score\"].median()\n",
    "#print(f\"The mode is {Mode} the median is {Median} and the mean is {mean}\" )\n",
    "\n",
    "print(\"The Mean is \",mean)\n",
    "print(\"The Median is \",Median)\n",
    "print(\"The Mode is \", Mode)"
   ]
  }
 ],
 "metadata": {
  "kernelspec": {
   "display_name": "Python 3 (ipykernel)",
   "language": "python",
   "name": "python3"
  },
  "language_info": {
   "codemirror_mode": {
    "name": "ipython",
    "version": 3
   },
   "file_extension": ".py",
   "mimetype": "text/x-python",
   "name": "python",
   "nbconvert_exporter": "python",
   "pygments_lexer": "ipython3",
   "version": "3.10.8"
  }
 },
 "nbformat": 4,
 "nbformat_minor": 5
}
