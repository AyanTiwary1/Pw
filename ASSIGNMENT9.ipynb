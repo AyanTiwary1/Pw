{
 "cells": [
  {
   "cell_type": "markdown",
   "id": "6f226c64-a00e-4bf0-880a-5b68e57bbb02",
   "metadata": {},
   "source": [
    "# Assignment 09"
   ]
  },
  {
   "cell_type": "markdown",
   "id": "96e1f748-175d-4532-b723-effd5688b26f",
   "metadata": {},
   "source": [
    "# Q1"
   ]
  },
  {
   "cell_type": "markdown",
   "id": "6e8f7065-2b8c-4552-8dbb-0ad483f9aed1",
   "metadata": {},
   "source": [
    "Q1, Create a vehicle class with an init method having instance variables as name_of_vehicle, max_speed\n",
    "and average_of_vehicle."
   ]
  },
  {
   "cell_type": "code",
   "execution_count": 41,
   "id": "fb4855b7-7638-4365-a487-3da4b456efef",
   "metadata": {},
   "outputs": [],
   "source": [
    "class vechile:\n",
    "    def __init__(self, name_of_vechile, max_speed, average_of_vechile):\n",
    "        self.name = name_of_vechile\n",
    "        self.MaxSpeed=max_speed\n",
    "        self.average=average_of_vechile\n",
    "    def Details(self):\n",
    "        print(\"[The name is {}]\\n [The Max speed is {}]  . [The average is {}]\".format(self.name,self.MaxSpeed,self.average))"
   ]
  },
  {
   "cell_type": "code",
   "execution_count": 42,
   "id": "e437fd96-0c13-4dcd-9fb3-57d2bc3f0f5f",
   "metadata": {},
   "outputs": [],
   "source": [
    "ayan=vechile(\"Honda\",220,22)"
   ]
  },
  {
   "cell_type": "code",
   "execution_count": 43,
   "id": "a819911d-bf71-4b72-8482-f1f61b45dc0c",
   "metadata": {},
   "outputs": [
    {
     "name": "stdout",
     "output_type": "stream",
     "text": [
      "[The name is Honda]\n",
      " [The Max speed is 220]  . [The average is 22]\n"
     ]
    }
   ],
   "source": [
    "ayan.Details()"
   ]
  },
  {
   "cell_type": "markdown",
   "id": "d98ffd94-cf63-4dd1-8f0f-eb8f77d388e6",
   "metadata": {},
   "source": [
    "# Q2"
   ]
  },
  {
   "cell_type": "markdown",
   "id": "4e6622c8-4fb8-442e-a934-8efeb6735c48",
   "metadata": {},
   "source": [
    "Create a child class car from the vehicle class created in Que 1, which will inherit the vehicle class.\n",
    "Create a method named seating_capacity which takes capacity as an argument and returns the name of\n",
    "the vehicle and its seating capacity."
   ]
  },
  {
   "cell_type": "code",
   "execution_count": 52,
   "id": "1944a8ca-c96b-4b56-b84c-201bcedb6b36",
   "metadata": {},
   "outputs": [],
   "source": [
    "class car(vechile):\n",
    "    def seating_capicity(self, capacity):\n",
    "        self.seats=capacity\n",
    "        return f\"The vechile name is {self.name} and has a seating capacity of {self.seats}\""
   ]
  },
  {
   "cell_type": "code",
   "execution_count": 54,
   "id": "2c54b549-23ef-4a20-b5c5-4f054e6c96d8",
   "metadata": {},
   "outputs": [],
   "source": [
    "Enquiry=car(\"Lamburgani\",770,7)"
   ]
  },
  {
   "cell_type": "code",
   "execution_count": 55,
   "id": "af6379ae-88cf-4855-9e4f-c42910ea1f6b",
   "metadata": {},
   "outputs": [
    {
     "data": {
      "text/plain": [
       "'The vechile name is Lamburgani and has a seating capacity of 2'"
      ]
     },
     "execution_count": 55,
     "metadata": {},
     "output_type": "execute_result"
    }
   ],
   "source": [
    "Enquiry.seating_capicity(2)"
   ]
  },
  {
   "cell_type": "code",
   "execution_count": 51,
   "id": "92d02bb7-d592-464c-af62-a51531e525a7",
   "metadata": {},
   "outputs": [
    {
     "name": "stdout",
     "output_type": "stream",
     "text": [
      "2\n"
     ]
    }
   ],
   "source": [
    "print(Enquiry.seats)"
   ]
  },
  {
   "cell_type": "markdown",
   "id": "5cfb3c35-619b-468f-bace-169810e74734",
   "metadata": {},
   "source": [
    "# Q3"
   ]
  },
  {
   "cell_type": "markdown",
   "id": "bbc26acb-739d-47a0-ab74-4f756dfc5d6a",
   "metadata": {},
   "source": [
    "What is multiple inheritance? Write a python code to demonstrate multiple inheritance."
   ]
  },
  {
   "cell_type": "markdown",
   "id": "cd662b39-d880-481b-a29b-62e0d4ceda66",
   "metadata": {},
   "source": [
    "Multiple inheritance is a feature of object-oriented programming in which a class can inherit attributes and methods from more than one parent class. This allows for greater code reusability and can be useful in situations where a subclass requires functionality from multiple unrelated parent classes."
   ]
  },
  {
   "cell_type": "code",
   "execution_count": 69,
   "id": "ad81d135-7000-4d4b-bbcf-51c06d9ed719",
   "metadata": {},
   "outputs": [
    {
     "name": "stdout",
     "output_type": "stream",
     "text": [
      "Father : ALEX\n",
      "Mother : ALEXA\n"
     ]
    }
   ],
   "source": [
    "class Mom:\n",
    "    Momname = \"\"\n",
    "\n",
    "    def Mom(self):\n",
    "        print(self.Momname)\n",
    "\n",
    "# Base class2\n",
    "\n",
    "\n",
    "class Pops:\n",
    "    Popsname = \"\"\n",
    "\n",
    "    def Pops(self):\n",
    "        print(self.Popsname)\n",
    "\n",
    "# Derived class\n",
    "\n",
    "\n",
    "class Beta(Mom, Pops):\n",
    "    def parents(self):\n",
    "        print(\"Father :\", self.Popsname)\n",
    "        print(\"Mother :\", self.Momname)\n",
    "\n",
    "\n",
    "# Driver's code\n",
    "s1 = Beta()\n",
    "s1.Popsname = \"ALEX\"\n",
    "s1.Momname = \"ALEXA\"\n",
    "s1.parents()"
   ]
  },
  {
   "cell_type": "markdown",
   "id": "dcb8a26e-7a87-4075-836f-25778296629f",
   "metadata": {},
   "source": [
    "# Q4"
   ]
  },
  {
   "cell_type": "markdown",
   "id": "c5dde00a-7d91-4508-bf50-e3f2f48ed80c",
   "metadata": {},
   "source": [
    "What are getter and setter in python? Create a class and create a getter and a setter method in this\n",
    "class."
   ]
  },
  {
   "cell_type": "markdown",
   "id": "91eb3e54-30bb-40b4-9164-29fc92c241c3",
   "metadata": {},
   "source": [
    "Getter and setter methods are used to get and set the values of class attributes, respectively. They are also known as accessor and mutator methods, respectively."
   ]
  },
  {
   "cell_type": "code",
   "execution_count": 72,
   "id": "8b522467-fc34-49f8-9f70-3ef0b1f5d5de",
   "metadata": {},
   "outputs": [],
   "source": [
    "class student:\n",
    "    def __init__(self, name,Section):\n",
    "        self.__name= name\n",
    "        self.__section=Section\n",
    "        \n",
    "    def get_details(self):\n",
    "        return self.__name , self.__section\n",
    "    def set_details(self,nam,sec):\n",
    "        self.__name= nam\n",
    "        self.__section=sec\n",
    "        \n",
    "        \n",
    "    \n",
    "    "
   ]
  },
  {
   "cell_type": "code",
   "execution_count": 73,
   "id": "38c678ab-4ac6-4c67-ab83-674ac2402fcc",
   "metadata": {},
   "outputs": [],
   "source": [
    "Bh=student(\"Bhavya\",\"E\")"
   ]
  },
  {
   "cell_type": "code",
   "execution_count": 75,
   "id": "c256af94-f1b3-41be-a50a-263aba4ed842",
   "metadata": {},
   "outputs": [
    {
     "data": {
      "text/plain": [
       "('Bhavya', 'E')"
      ]
     },
     "execution_count": 75,
     "metadata": {},
     "output_type": "execute_result"
    }
   ],
   "source": [
    "Bh.get_details()"
   ]
  },
  {
   "cell_type": "code",
   "execution_count": 76,
   "id": "8b9a7ab0-a322-4170-bd6b-72e367f1cc15",
   "metadata": {},
   "outputs": [],
   "source": [
    "Bh.set_details(\"Arpita\",\"B\")"
   ]
  },
  {
   "cell_type": "code",
   "execution_count": 77,
   "id": "d1ab46a0-61f5-429b-91b0-286c6197b242",
   "metadata": {},
   "outputs": [
    {
     "data": {
      "text/plain": [
       "('Arpita', 'B')"
      ]
     },
     "execution_count": 77,
     "metadata": {},
     "output_type": "execute_result"
    }
   ],
   "source": [
    "Bh.get_details()"
   ]
  },
  {
   "cell_type": "markdown",
   "id": "f45b49d1-3bf3-4afb-8fed-25dee9f60899",
   "metadata": {},
   "source": [
    "# Q5."
   ]
  },
  {
   "cell_type": "markdown",
   "id": "6c779c44-3cc7-4dc3-8e78-d40ca8046e2d",
   "metadata": {},
   "source": [
    "What is method overriding in python? Write a python code to demonstrate method overriding."
   ]
  },
  {
   "cell_type": "markdown",
   "id": "7ad852f2-6fa7-43d4-ad4a-528866cc1325",
   "metadata": {},
   "source": [
    "Method overriding is a feature of object-oriented programming in which a subclass provides a different implementation of a method that is already defined in its parent class. This allows the subclass to customize the behavior of the inherited method without modifying the parent class."
   ]
  },
  {
   "cell_type": "code",
   "execution_count": 80,
   "id": "83a19ee1-6216-46ea-baa8-a40803341fda",
   "metadata": {},
   "outputs": [
    {
     "name": "stdout",
     "output_type": "stream",
     "text": [
      "Generic\n",
      "Lofi\n",
      "Song\n"
     ]
    }
   ],
   "source": [
    "class Hola:\n",
    "    def umm(self):\n",
    "        print(\"Generic\")\n",
    "\n",
    "class Rat(Hola):\n",
    "    def umm(self):\n",
    "        print(\"Lofi\")\n",
    "\n",
    "class Go(Hola):\n",
    "    def umm(self):\n",
    "        print(\"Song\")\n",
    "\n",
    "Me = Hola()\n",
    "Me.umm()\n",
    "\n",
    "fat = Rat()\n",
    "fat.umm() \n",
    "\n",
    "zork = Go()\n",
    "zork.umm()\n"
   ]
  },
  {
   "cell_type": "code",
   "execution_count": null,
   "id": "1c2026c4-e1ce-43ea-b0ad-c3036557e0bc",
   "metadata": {},
   "outputs": [],
   "source": []
  }
 ],
 "metadata": {
  "kernelspec": {
   "display_name": "Python 3 (ipykernel)",
   "language": "python",
   "name": "python3"
  },
  "language_info": {
   "codemirror_mode": {
    "name": "ipython",
    "version": 3
   },
   "file_extension": ".py",
   "mimetype": "text/x-python",
   "name": "python",
   "nbconvert_exporter": "python",
   "pygments_lexer": "ipython3",
   "version": "3.10.8"
  }
 },
 "nbformat": 4,
 "nbformat_minor": 5
}
