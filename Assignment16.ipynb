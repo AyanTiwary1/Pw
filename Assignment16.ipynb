{
 "cells": [
  {
   "cell_type": "markdown",
   "id": "8324fdc7-f625-488b-9a79-2b3a1efc908f",
   "metadata": {},
   "source": [
    "# Assignment 16"
   ]
  },
  {
   "cell_type": "markdown",
   "id": "562284a4-013a-489d-b3ad-1573d75081d0",
   "metadata": {},
   "source": [
    "# Q1"
   ]
  },
  {
   "cell_type": "markdown",
   "id": "7e3ec163-281e-41dc-bcf4-6ad059dc0f59",
   "metadata": {},
   "source": [
    "A database is a structured collection of data that is organized in a way that allows for efficient storage, retrieval, and management of information. Databases are used in a variety of applications and industries"
   ]
  },
  {
   "cell_type": "markdown",
   "id": "eecd37e9-8ca4-4390-beb8-78ac5c5b0cc0",
   "metadata": {},
   "source": [
    " The main differences between the two are:\n",
    "\n",
    "Data Model: SQL databases use a relational data model, which organizes data into tables with rows and columns, and enforces strict relationships between them through foreign keys. NoSQL databases, on the other hand, use a non-relational data model, where data can be stored in various formats such as key-value, document-oriented, graph, or column-family.\n",
    "\n",
    "Schema: SQL databases require a predefined schema that specifies the structure of the data, including the types of data and relationships between tables. NoSQL databases are schemaless, meaning they do not have a predefined schema and can adapt to changing data models.\n",
    "\n",
    "Scalability: SQL databases are vertically scalable, meaning they can be scaled by adding more hardware resources such as CPU, memory, and storage to a single server. NoSQL databases are horizontally scalable, meaning they can be scaled by adding more servers to a distributed system, which can increase processing power and storage capacity.\n",
    "\n",
    "Query Language: SQL databases use SQL as the standard query language, which is used to create, modify, and query data. NoSQL databases do not have a standardized query language, and each database may use its own query language."
   ]
  },
  {
   "cell_type": "markdown",
   "id": "3c3aaa5b-70af-46ed-98d2-2a45194fe589",
   "metadata": {},
   "source": [
    "# Q2\n"
   ]
  },
  {
   "cell_type": "markdown",
   "id": "fb571c08-8eb8-41cd-ac37-9d2936899da4",
   "metadata": {},
   "source": [
    "DDL (Data Definition Language) is a subset of SQL (Structured Query Language) used to define the structure of a database and the objects within it. DDL statements are used to create, modify, and delete database objects such as tables, views, indexes, and procedures"
   ]
  },
  {
   "cell_type": "markdown",
   "id": "8f13e1e2-4232-49bb-8166-de622ec1466f",
   "metadata": {},
   "source": [
    "CREATE"
   ]
  },
  {
   "cell_type": "code",
   "execution_count": null,
   "id": "e1760373-5f96-41e5-9445-f5095ee2f094",
   "metadata": {},
   "outputs": [],
   "source": [
    "CREATE TABLE customers (\n",
    "    id INT PRIMARY KEY,\n",
    "    name VARCHAR(255),\n",
    "    email VARCHAR(255)\n",
    ");\n"
   ]
  },
  {
   "cell_type": "markdown",
   "id": "1c85b0df-8e19-496b-b951-023e07c76fab",
   "metadata": {},
   "source": [
    "DROP"
   ]
  },
  {
   "cell_type": "code",
   "execution_count": null,
   "id": "17837ab3-4080-471c-b006-bb8ac6f86f9c",
   "metadata": {},
   "outputs": [],
   "source": [
    "DROP TABLE customers;\n"
   ]
  },
  {
   "cell_type": "markdown",
   "id": "3946a57e-8e5d-4fd2-b802-aaae6898f786",
   "metadata": {},
   "source": [
    "ALTER"
   ]
  },
  {
   "cell_type": "code",
   "execution_count": null,
   "id": "f4c4f5a1-28f5-4494-915b-cde9717c4d6d",
   "metadata": {},
   "outputs": [],
   "source": [
    "ALTER TABLE customers ADD COLUMN phone VARCHAR(20);\n"
   ]
  },
  {
   "cell_type": "markdown",
   "id": "ca8a4a00-a8b4-4a40-bd9e-d70699fd3b0b",
   "metadata": {},
   "source": [
    "TRUNCATE"
   ]
  },
  {
   "cell_type": "code",
   "execution_count": null,
   "id": "1d41323d-4826-4e93-a148-5ddb6724af0c",
   "metadata": {},
   "outputs": [],
   "source": [
    "TRUNCATE TABLE customers;\n"
   ]
  },
  {
   "cell_type": "markdown",
   "id": "942a1553-7dc9-4dee-87f8-3d55f4c858ca",
   "metadata": {},
   "source": [
    "# Q3"
   ]
  },
  {
   "cell_type": "markdown",
   "id": "6f1fea0f-20a6-4178-8b83-b0785305915c",
   "metadata": {},
   "source": [
    "DML (Data Manipulation Language) is a subset of SQL (Structured Query Language) used to manipulate the data within a database."
   ]
  },
  {
   "cell_type": "markdown",
   "id": "c1f4167f-e63a-492f-b19b-e12df56defdb",
   "metadata": {},
   "source": [
    "INSERT"
   ]
  },
  {
   "cell_type": "code",
   "execution_count": null,
   "id": "16e35670-cbc0-46f3-9ce3-1fa99d6fc9e8",
   "metadata": {},
   "outputs": [],
   "source": [
    "INSERT INTO customers (id, name, email) VALUES (1, 'ayan', 'ayan@hotmail.com');\n"
   ]
  },
  {
   "cell_type": "markdown",
   "id": "2c451fdc-310f-4c24-81ca-9263aafcee20",
   "metadata": {},
   "source": [
    "UPDATE"
   ]
  },
  {
   "cell_type": "code",
   "execution_count": null,
   "id": "dcecf82e-2073-4701-91ce-76587b1747f0",
   "metadata": {},
   "outputs": [],
   "source": [
    "UPDATE customers SET email = 'jane.doe@example.com' WHERE id = 1;\n"
   ]
  },
  {
   "cell_type": "markdown",
   "id": "8ff37eda-9147-4b42-9b40-676d1de3ef0a",
   "metadata": {},
   "source": [
    "DELETE"
   ]
  },
  {
   "cell_type": "code",
   "execution_count": null,
   "id": "284572c6-e8df-418b-ac32-893ae59eb685",
   "metadata": {},
   "outputs": [],
   "source": [
    "DELETE FROM customers WHERE id = 1;\n"
   ]
  },
  {
   "cell_type": "markdown",
   "id": "98affbfc-d477-40c8-b220-f1cd26f6caab",
   "metadata": {},
   "source": [
    "# Q4"
   ]
  },
  {
   "cell_type": "markdown",
   "id": "75bf2a72-666d-4720-9195-f28b7962872f",
   "metadata": {},
   "source": [
    "DQL (Data Query Language) is a subset of SQL (Structured Query Language) used to retrieve data from a database. DQL statements are used to query data from tables."
   ]
  },
  {
   "cell_type": "markdown",
   "id": "46c1292e-61c0-455d-be11-43b0ef5e15f1",
   "metadata": {},
   "source": [
    "SELECT: The SELECT statement is used to retrieve data from one or more tables in a database."
   ]
  },
  {
   "cell_type": "code",
   "execution_count": null,
   "id": "193ed6b9-e34b-4000-b9d6-01fdcfabb164",
   "metadata": {},
   "outputs": [],
   "source": [
    "SELECT * FROM customers;  #ways to use select\n"
   ]
  },
  {
   "cell_type": "code",
   "execution_count": null,
   "id": "47c71f71-9e0c-4e6d-8a1f-daa2c084591e",
   "metadata": {},
   "outputs": [],
   "source": [
    "SELECT name, email FROM customers;  #ways to use select\n",
    " "
   ]
  },
  {
   "cell_type": "code",
   "execution_count": null,
   "id": "6d94267c-88b9-483b-9edf-420972046681",
   "metadata": {},
   "outputs": [],
   "source": [
    "SELECT * FROM customers WHERE id = 1; # ways to use select\n"
   ]
  },
  {
   "cell_type": "markdown",
   "id": "374820ed-b867-4417-86b0-8da753f8020f",
   "metadata": {},
   "source": [
    "# Q5"
   ]
  },
  {
   "cell_type": "markdown",
   "id": "c79ba069-1298-478c-9fe5-b60b3f7ec404",
   "metadata": {},
   "source": [
    "A Primary Key is a column or set of columns in a table that uniquely identifies each row in the table. Primary keys are used to ensure that each row in a table is unique and to provide a way to reference individual rows from other tables. A primary key is also used to enforce data integrity by preventing duplicate rows or null values from being inserted into a table."
   ]
  },
  {
   "cell_type": "markdown",
   "id": "62c2d476-edd6-47f8-8ac9-56f37b37372d",
   "metadata": {},
   "source": [
    " "
   ]
  },
  {
   "cell_type": "markdown",
   "id": "1912dffe-9dd8-4606-9b4b-870bd0448f60",
   "metadata": {},
   "source": [
    "A Foreign Key, on the other hand, is a column or set of columns in a table that references the primary key of another table. The foreign key establishes a relationship between the two tables, and ensures that the data in the referencing table is consistent with the data in the referenced table. The foreign key column in the referencing table must have the same data type as the primary key column in the referenced table."
   ]
  },
  {
   "cell_type": "markdown",
   "id": "0b72e3ed-a0b6-494f-9410-1a36e71a4ff4",
   "metadata": {},
   "source": [
    "# Q6"
   ]
  },
  {
   "cell_type": "code",
   "execution_count": null,
   "id": "80f3b146-73bb-4fc9-aed0-508fcd0768a8",
   "metadata": {},
   "outputs": [],
   "source": [
    "import mysql.connector\n",
    "\n",
    "# connect to the database\n",
    "mydb = mysql.connector.connect(\n",
    "  host=\"localhost\",\n",
    "  user=\"abc\",\n",
    "  password=\"password\",\n",
    "  database=\"database\"\n",
    ")\n",
    "\n",
    "mycursor = mydb.cursor()\n",
    "\n",
    "\n",
    "mycursor.execute(\"SELECT * FROM customers\")\n",
    "\n",
    "\n",
    "results = mycursor.fetchall()\n",
    "\n",
    "\n"
   ]
  },
  {
   "cell_type": "markdown",
   "id": "71fe60d1-a4fa-4b13-9b6a-3da360df568b",
   "metadata": {},
   "source": [
    "#  Q7"
   ]
  },
  {
   "cell_type": "code",
   "execution_count": null,
   "id": "5ed8383e-ff1b-4fe1-aea5-1eaf791e0818",
   "metadata": {},
   "outputs": [],
   "source": [
    "The order of execution of clauses in MYSQL is"
   ]
  }
 ],
 "metadata": {
  "kernelspec": {
   "display_name": "Python 3 (ipykernel)",
   "language": "python",
   "name": "python3"
  },
  "language_info": {
   "codemirror_mode": {
    "name": "ipython",
    "version": 3
   },
   "file_extension": ".py",
   "mimetype": "text/x-python",
   "name": "python",
   "nbconvert_exporter": "python",
   "pygments_lexer": "ipython3",
   "version": "3.10.8"
  }
 },
 "nbformat": 4,
 "nbformat_minor": 5
}
