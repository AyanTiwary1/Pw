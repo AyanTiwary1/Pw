{
 "cells": [
  {
   "cell_type": "markdown",
   "id": "5c235518-4dc6-435a-b7d9-da9e8604b94d",
   "metadata": {},
   "source": [
    "# Assignment 07"
   ]
  },
  {
   "cell_type": "markdown",
   "id": "d7377ec8-8d2e-4f3f-ada7-baf4ab5abbf2",
   "metadata": {},
   "source": [
    "# Q1"
   ]
  },
  {
   "cell_type": "code",
   "execution_count": 1,
   "id": "6f2e3fe7-7ff2-4dfa-b11a-66861ecaad64",
   "metadata": {},
   "outputs": [],
   "source": [
    "# To Check whether the password entered by the user meets all the conditions or not"
   ]
  },
  {
   "cell_type": "code",
   "execution_count": 17,
   "id": "ee5a8703-bd03-4e42-81fa-b8de1feac598",
   "metadata": {},
   "outputs": [],
   "source": [
    "def check(password):\n",
    "    capital = 0\n",
    "    small = 0\n",
    "    digit = 0\n",
    "    special = 0\n",
    "    for i in password:\n",
    "        \n",
    "        if i.isupper()==True:\n",
    "            capital=capital+1\n",
    "        elif i.islower()==True:\n",
    "            small=small+1\n",
    "        elif i.isdigit()==True:\n",
    "            digit=digit+1\n",
    "        \n",
    "        else:\n",
    "            special=special +1\n",
    "    \n",
    "    if len(password)!=10:\n",
    "            return \"Invalid Password\"\n",
    "            \n",
    "    \n",
    "    elif capital<2 or small<2:\n",
    "        \n",
    "        return \"Invalid Password\"\n",
    "    elif digit<1 or special<3:\n",
    "        return \"Invalid Password\"\n",
    "    else: \n",
    "        return \"Valid Password\""
   ]
  },
  {
   "cell_type": "code",
   "execution_count": 18,
   "id": "b061e3db-7964-47b0-b36d-e61a17b38033",
   "metadata": {},
   "outputs": [
    {
     "data": {
      "text/plain": [
       "'Valid Password'"
      ]
     },
     "execution_count": 18,
     "metadata": {},
     "output_type": "execute_result"
    }
   ],
   "source": [
    "check(\"AAaa1!@#aa\")"
   ]
  },
  {
   "cell_type": "code",
   "execution_count": 19,
   "id": "3a6658e7-9e27-4c03-8956-6c6bca008f4b",
   "metadata": {},
   "outputs": [
    {
     "data": {
      "text/plain": [
       "'Invalid Password'"
      ]
     },
     "execution_count": 19,
     "metadata": {},
     "output_type": "execute_result"
    }
   ],
   "source": [
    "check(\"1234567890\")"
   ]
  },
  {
   "cell_type": "markdown",
   "id": "49eea41b-af2a-4c21-a1a7-5e0eca799d1b",
   "metadata": {},
   "source": [
    "# Q2"
   ]
  },
  {
   "cell_type": "markdown",
   "id": "f8a00f6a-e37a-4a60-b99c-358a8a72eab4",
   "metadata": {},
   "source": [
    "To check if a string starts with a particular letter"
   ]
  },
  {
   "cell_type": "code",
   "execution_count": 26,
   "id": "e0387904-cc37-43ce-997b-d80cc8e5a08e",
   "metadata": {},
   "outputs": [],
   "source": [
    "a=lambda x:x.startswith('A')==True"
   ]
  },
  {
   "cell_type": "code",
   "execution_count": 29,
   "id": "1ed18fc7-6714-4253-84ab-7ee181a4ceaf",
   "metadata": {},
   "outputs": [
    {
     "data": {
      "text/plain": [
       "False"
      ]
     },
     "execution_count": 29,
     "metadata": {},
     "output_type": "execute_result"
    }
   ],
   "source": [
    "a(\"Byan\")"
   ]
  },
  {
   "cell_type": "code",
   "execution_count": 30,
   "id": "39cca8b6-5986-4ac8-9c67-378904956d37",
   "metadata": {},
   "outputs": [
    {
     "data": {
      "text/plain": [
       "True"
      ]
     },
     "execution_count": 30,
     "metadata": {},
     "output_type": "execute_result"
    }
   ],
   "source": [
    "a(\"Ayan\")"
   ]
  },
  {
   "cell_type": "markdown",
   "id": "7176d695-7660-4ccb-9e91-5f0f2e202905",
   "metadata": {},
   "source": [
    "# Q2 b"
   ]
  },
  {
   "cell_type": "markdown",
   "id": "d3741fc8-376c-4fac-867a-97d47a160d53",
   "metadata": {},
   "source": [
    "Check if the string is numeric"
   ]
  },
  {
   "cell_type": "code",
   "execution_count": 31,
   "id": "5578c284-daa3-4d13-b35e-303159a6fb12",
   "metadata": {},
   "outputs": [],
   "source": [
    "b=lambda x:x.isdigit()==True"
   ]
  },
  {
   "cell_type": "code",
   "execution_count": 33,
   "id": "0167f111-d877-4d23-9270-3a933fe71acd",
   "metadata": {},
   "outputs": [
    {
     "data": {
      "text/plain": [
       "True"
      ]
     },
     "execution_count": 33,
     "metadata": {},
     "output_type": "execute_result"
    }
   ],
   "source": [
    "b(\"123\")"
   ]
  },
  {
   "cell_type": "code",
   "execution_count": 34,
   "id": "e7696afd-64cf-4700-af20-c865030e2215",
   "metadata": {},
   "outputs": [
    {
     "data": {
      "text/plain": [
       "False"
      ]
     },
     "execution_count": 34,
     "metadata": {},
     "output_type": "execute_result"
    }
   ],
   "source": [
    "b(\"ayan\")"
   ]
  },
  {
   "cell_type": "markdown",
   "id": "aee460f8-f317-40a7-a177-5db819248ee0",
   "metadata": {},
   "source": [
    "# Q2 c"
   ]
  },
  {
   "cell_type": "markdown",
   "id": "856c450d-369c-449a-b401-ab1a9b53ff1d",
   "metadata": {},
   "source": [
    "Sort a list of tuples having fruit names and their quantity. [(\"mango\",99),(\"orange\",80), (\"grapes\", 1000)-"
   ]
  },
  {
   "cell_type": "code",
   "execution_count": 35,
   "id": "c66082ba-cdce-4b66-825f-969c9fb296c3",
   "metadata": {},
   "outputs": [
    {
     "name": "stdout",
     "output_type": "stream",
     "text": [
      "[('orange', 80), ('mango', 99), ('grapes', 1000)]\n"
     ]
    }
   ],
   "source": [
    "fruits = [(\"mango\", 99), (\"orange\", 80), (\"grapes\", 1000)]\n",
    "\n",
    "sorted_fruits = sorted(fruits, key=lambda x: x[1])\n",
    "\n",
    "print(sorted_fruits)\n"
   ]
  },
  {
   "cell_type": "markdown",
   "id": "da6ad7fc-2573-4954-804e-7f4b4ccd4e0e",
   "metadata": {},
   "source": [
    "# Q2 d"
   ]
  },
  {
   "cell_type": "markdown",
   "id": "89db25d6-f315-4ae8-a988-2d89cbfd0e0d",
   "metadata": {},
   "source": [
    " Find the squares of numbers from 1 to 10"
   ]
  },
  {
   "cell_type": "code",
   "execution_count": 40,
   "id": "c6f39650-2c68-4c7d-955d-e235a7546432",
   "metadata": {},
   "outputs": [],
   "source": [
    "k=list((map(lambda x:x**2,range(1,11))))"
   ]
  },
  {
   "cell_type": "code",
   "execution_count": 41,
   "id": "e8e65fb4-05d8-48e9-9164-bca8a8c01540",
   "metadata": {},
   "outputs": [
    {
     "name": "stdout",
     "output_type": "stream",
     "text": [
      "[1, 4, 9, 16, 25, 36, 49, 64, 81, 100]\n"
     ]
    }
   ],
   "source": [
    "print(k)"
   ]
  },
  {
   "cell_type": "markdown",
   "id": "821ce9de-452e-4e97-b7c4-b1b6645ad73c",
   "metadata": {},
   "source": [
    "# Q2 e"
   ]
  },
  {
   "cell_type": "markdown",
   "id": "51e22596-48b5-431d-9105-07fe5d252cdb",
   "metadata": {},
   "source": [
    "Find the cube root of numbers from 1 to 10"
   ]
  },
  {
   "cell_type": "code",
   "execution_count": 42,
   "id": "a07b1532-98a8-4613-aac4-560c0ff5f3fe",
   "metadata": {},
   "outputs": [
    {
     "name": "stdout",
     "output_type": "stream",
     "text": [
      "[1, 8, 27, 64, 125, 216, 343, 512, 729, 1000]\n"
     ]
    }
   ],
   "source": [
    "l=list((map(lambda x:x**3,range(1,11))))\n",
    "print(l)"
   ]
  },
  {
   "cell_type": "markdown",
   "id": "a8f31e95-d4ec-46f6-b9de-f95d14b4aee1",
   "metadata": {},
   "source": [
    "# Q2 f"
   ]
  },
  {
   "cell_type": "markdown",
   "id": "043529d5-e126-47f9-a413-c99d4fde5f09",
   "metadata": {},
   "source": [
    "Check if a given number is even"
   ]
  },
  {
   "cell_type": "code",
   "execution_count": 46,
   "id": "d3a3fa4d-7d3e-4c2f-9da2-b245fe29ecb8",
   "metadata": {},
   "outputs": [],
   "source": [
    "a=lambda x: print(\"even\")if x%2==0 else print(\"odd\")"
   ]
  },
  {
   "cell_type": "code",
   "execution_count": 47,
   "id": "8666b922-351f-4a72-b452-947807413216",
   "metadata": {},
   "outputs": [
    {
     "name": "stdout",
     "output_type": "stream",
     "text": [
      "even\n"
     ]
    }
   ],
   "source": [
    "a(2)"
   ]
  },
  {
   "cell_type": "code",
   "execution_count": 48,
   "id": "6cff63a6-9300-4d67-85d9-034006dc3418",
   "metadata": {},
   "outputs": [
    {
     "name": "stdout",
     "output_type": "stream",
     "text": [
      "odd\n"
     ]
    }
   ],
   "source": [
    "a(1)"
   ]
  },
  {
   "cell_type": "markdown",
   "id": "174964e9-04af-426f-a918-caa881e45aaa",
   "metadata": {},
   "source": [
    "# Q2 g"
   ]
  },
  {
   "cell_type": "markdown",
   "id": "dbb4ce65-2fb0-48d9-ae00-3c77b822af10",
   "metadata": {},
   "source": [
    "Filter odd numbers from the given list.\n",
    "\n",
    " [1,2,3,4,5,6,7,8,9,10]"
   ]
  },
  {
   "cell_type": "code",
   "execution_count": 3,
   "id": "1e54487b-0974-47f8-ba20-a260bd7cae7c",
   "metadata": {},
   "outputs": [
    {
     "name": "stdout",
     "output_type": "stream",
     "text": [
      "\n",
      "\n",
      "\n",
      "\n",
      "\n",
      "[1, 3, 5, 7, 9]\n"
     ]
    }
   ],
   "source": [
    "l=[1,2,3,4,5,6,7,8,9,10]\n",
    "c=list(filter(lambda x: x if x%2!=0 else print(\"\"), l))\n",
    "print(c)"
   ]
  },
  {
   "cell_type": "markdown",
   "id": "4410312d-e090-44bc-9aa9-5254e4711fe0",
   "metadata": {},
   "source": [
    "# Q2 h"
   ]
  },
  {
   "cell_type": "markdown",
   "id": "e15beb12-ee21-4914-bfe8-2e3ffa10973c",
   "metadata": {},
   "source": [
    "Sort a list of integers into positive and negative integers lists.\n",
    "\n",
    " [1,2,3,4,5,6,-1,-2,-3,-4,-5,0]"
   ]
  },
  {
   "cell_type": "code",
   "execution_count": 11,
   "id": "a22e2f96-1811-4624-b1bf-e2c40c680c28",
   "metadata": {},
   "outputs": [],
   "source": [
    "lis1=[1,2,3,4,5,6,-1,-2,-3,-4,-5,0]\n",
    "positive=list(filter(lambda x: x>=0,lis1))\n",
    "negative=list(filter(lambda x: x<0,lis1))"
   ]
  },
  {
   "cell_type": "code",
   "execution_count": 12,
   "id": "cb32ee29-bf04-4cbb-8fec-52f092d03cc4",
   "metadata": {},
   "outputs": [
    {
     "name": "stdout",
     "output_type": "stream",
     "text": [
      "[1, 2, 3, 4, 5, 6, 0]\n",
      "[-1, -2, -3, -4, -5]\n"
     ]
    }
   ],
   "source": [
    "print(positive)\n",
    "print(negative)"
   ]
  },
  {
   "cell_type": "code",
   "execution_count": null,
   "id": "63d04702-8df6-4ab0-b77d-586921522b16",
   "metadata": {},
   "outputs": [],
   "source": []
  }
 ],
 "metadata": {
  "kernelspec": {
   "display_name": "Python 3 (ipykernel)",
   "language": "python",
   "name": "python3"
  },
  "language_info": {
   "codemirror_mode": {
    "name": "ipython",
    "version": 3
   },
   "file_extension": ".py",
   "mimetype": "text/x-python",
   "name": "python",
   "nbconvert_exporter": "python",
   "pygments_lexer": "ipython3",
   "version": "3.10.8"
  }
 },
 "nbformat": 4,
 "nbformat_minor": 5
}
