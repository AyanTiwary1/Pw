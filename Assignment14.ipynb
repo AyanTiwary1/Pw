{
 "cells": [
  {
   "cell_type": "markdown",
   "id": "42444773-88a0-471f-a0b0-91d1c18f5fe4",
   "metadata": {},
   "source": [
    "# Q1"
   ]
  },
  {
   "cell_type": "markdown",
   "id": "9074e236-90c5-4e08-822d-07298395a86d",
   "metadata": {},
   "source": [
    "Multithreading is a technique in computer programming where a single process can execute multiple threads concurrently. In Python, multithreading can be used to perform multiple tasks simultaneously, such as I/O bound tasks, without blocking the main thread."
   ]
  },
  {
   "cell_type": "markdown",
   "id": "82d47d09-ba14-428a-b7c7-a07c19cd96c2",
   "metadata": {},
   "source": [
    "In Python, the threading module is used to handle threads. This module provides a high-level interface for creating and working with threads in Python. "
   ]
  },
  {
   "cell_type": "markdown",
   "id": "c2c0eed7-791c-4025-a842-d3ff2e0ec9ea",
   "metadata": {},
   "source": [
    "Multithreading in Python is commonly used to improve the responsiveness and performance of an application,"
   ]
  },
  {
   "cell_type": "markdown",
   "id": "57fd0f1c-b72e-4851-a98d-31c1ee6b1e85",
   "metadata": {},
   "source": [
    "# Q2\n"
   ]
  },
  {
   "cell_type": "markdown",
   "id": "1ca0f2db-d820-4cdc-80bc-2e2875172312",
   "metadata": {},
   "source": [
    "The threading module in Python is used to handle threads. It provides a high-level interface for creating and working with threads in Python."
   ]
  },
  {
   "cell_type": "markdown",
   "id": "458d3bfb-8a1a-4cb4-b74f-6394e3b29b07",
   "metadata": {},
   "source": [
    "\n",
    "\n",
    "active_count(): This function returns the number of thread objects that are currently active in the Python interpreter.\n",
    "\n",
    "current_thread(): This function returns a thread object representing the current thread. This function is useful for getting information about the current thread, such as its name or ID.\n",
    "\n",
    "enumerate(): This function returns a list of all thread objects that are currently active in the Python interpreter. This function is similar to the active() function, but it returns a list of thread objects instead of their IDs. It's useful for debugging and monitoring purposes, as well as for iterating over all active threads."
   ]
  },
  {
   "cell_type": "markdown",
   "id": "46057bca-2eda-432f-902e-bc0c931813a3",
   "metadata": {},
   "source": [
    "# Q3"
   ]
  },
  {
   "cell_type": "markdown",
   "id": "18bb0673-068f-40be-9034-63484c27e1c2",
   "metadata": {},
   "source": [
    "run(): This is the method that is called when a thread starts running. You can override this method in a subclass of the Thread class to provide the behavior that you want the thread to perform.\n",
    "\n",
    "start(): This method starts a thread by calling the run() method. This method should only be called once per thread object. If you call this method multiple times on the same thread object, a RuntimeError will be raised.\n",
    "\n",
    "join(): This method blocks the calling thread until the thread on which it's called has completed its execution. This is useful when you want to wait for a thread to finish before continuing with the rest of the program.\n",
    "\n",
    "is_alive(): This method returns True if the thread is currently executing, or False otherwise. This is useful when you want to check the status of a thread and take some action based on whether it's still running or not."
   ]
  },
  {
   "cell_type": "markdown",
   "id": "1eb0958c-2418-4943-9465-1d4d5a7c4414",
   "metadata": {},
   "source": [
    "# Q4"
   ]
  },
  {
   "cell_type": "code",
   "execution_count": 2,
   "id": "c8964b3d-ea90-412e-9fde-3396057ea59a",
   "metadata": {},
   "outputs": [],
   "source": [
    "import threading\n",
    "def square():\n",
    "    for i in range (1,11):\n",
    "        print(f\"The sqaure of {i} is {i**2}\")\n",
    "    \n",
    "def cubbe():\n",
    "    for j in range(1,11):\n",
    "        print(f\"The cube of {j} is {j**3}\")\n",
    "        "
   ]
  },
  {
   "cell_type": "code",
   "execution_count": 3,
   "id": "faf83edc-5383-4dc5-bc8d-01f855a42eee",
   "metadata": {},
   "outputs": [],
   "source": [
    "thread1=threading.Thread(target=square)"
   ]
  },
  {
   "cell_type": "code",
   "execution_count": 4,
   "id": "ac076304-fb84-4842-8dcf-4c2171def448",
   "metadata": {},
   "outputs": [],
   "source": [
    "thread2=threading.Thread(target=cubbe)"
   ]
  },
  {
   "cell_type": "code",
   "execution_count": 5,
   "id": "959b7151-4152-4cb4-a866-9c4560ec3eb9",
   "metadata": {},
   "outputs": [
    {
     "name": "stdout",
     "output_type": "stream",
     "text": [
      "The sqaure of 1 is 1\n",
      "The sqaure of 2 is 4\n",
      "The sqaure of 3 is 9\n",
      "The sqaure of 4 is 16\n",
      "The sqaure of 5 is 25\n",
      "The sqaure of 6 is 36\n",
      "The sqaure of 7 is 49\n",
      "The sqaure of 8 is 64\n",
      "The sqaure of 9 is 81\n",
      "The sqaure of 10 is 100\n"
     ]
    }
   ],
   "source": [
    "thread1.start()\n"
   ]
  },
  {
   "cell_type": "code",
   "execution_count": 6,
   "id": "543d7e36-68e8-4d90-9752-c05d0bb5260b",
   "metadata": {},
   "outputs": [
    {
     "name": "stdout",
     "output_type": "stream",
     "text": [
      "The cube of 1 is 1\n",
      "The cube of 2 is 8\n",
      "The cube of 3 is 27\n",
      "The cube of 4 is 64\n",
      "The cube of 5 is 125\n",
      "The cube of 6 is 216\n",
      "The cube of 7 is 343\n",
      "The cube of 8 is 512\n",
      "The cube of 9 is 729\n",
      "The cube of 10 is 1000\n"
     ]
    }
   ],
   "source": [
    "thread2.start()"
   ]
  },
  {
   "cell_type": "markdown",
   "id": "5bd79bdd-6a57-4f33-a530-e41d3b103789",
   "metadata": {},
   "source": [
    "# Q5"
   ]
  },
  {
   "cell_type": "markdown",
   "id": "c1ad77ef-28f2-475a-acae-646a9dc52408",
   "metadata": {},
   "source": [
    "Advantages of multiThreading are:\n",
    "\n",
    "1) Improved Performance \n",
    "\n",
    "2) Better Memory Utilisation\n",
    "\n",
    "3) Simplified programming\n",
    "\n",
    "Disadvantages of multithreading\n",
    " \n",
    "1) complexity\n",
    "\n",
    "2) debugging\n",
    "\n",
    "3) Overhead\n"
   ]
  },
  {
   "cell_type": "markdown",
   "id": "5218921a-3ebb-4114-9883-7c82534d1446",
   "metadata": {},
   "source": [
    "# Q6"
   ]
  },
  {
   "cell_type": "markdown",
   "id": "6b775b55-b521-437b-9636-5ed9b48db200",
   "metadata": {},
   "source": [
    "Deadlocks: A deadlock occurs when two or more threads are waiting for each other to release a resource, and none of them can proceed. This can happen when threads acquire multiple resources and hold onto them while waiting for other resources to become available. If the resources are never released, the threads can get stuck in a loop, waiting for each other to release the resources they need"
   ]
  },
  {
   "cell_type": "markdown",
   "id": "893d052b-d4a3-429a-9cf1-4523be0a951f",
   "metadata": {},
   "source": [
    "Race conditions: A race condition occurs when two or more threads access shared data or resources simultaneously, and the order of their access affects the final outcome. If the threads access the data or resources in an unexpected or unpredictable order, the final outcome can be different from what was intended."
   ]
  },
  {
   "cell_type": "code",
   "execution_count": null,
   "id": "3672f4d1-890d-46be-9646-50e7ef6bed41",
   "metadata": {},
   "outputs": [],
   "source": []
  }
 ],
 "metadata": {
  "kernelspec": {
   "display_name": "Python 3 (ipykernel)",
   "language": "python",
   "name": "python3"
  },
  "language_info": {
   "codemirror_mode": {
    "name": "ipython",
    "version": 3
   },
   "file_extension": ".py",
   "mimetype": "text/x-python",
   "name": "python",
   "nbconvert_exporter": "python",
   "pygments_lexer": "ipython3",
   "version": "3.10.8"
  }
 },
 "nbformat": 4,
 "nbformat_minor": 5
}
