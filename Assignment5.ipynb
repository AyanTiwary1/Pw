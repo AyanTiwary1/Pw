{
 "cells": [
  {
   "cell_type": "markdown",
   "id": "8ec786f6-e5b7-4bc8-9302-e06216ac198a",
   "metadata": {},
   "source": [
    "## Assingnment 05"
   ]
  },
  {
   "cell_type": "markdown",
   "id": "3155ceaf-6ec0-435e-8736-5539ec3e4886",
   "metadata": {},
   "source": [
    "# Q1"
   ]
  },
  {
   "cell_type": "markdown",
   "id": "f14c417e-395a-48a4-a6c0-8ccfaeecf66b",
   "metadata": {},
   "source": [
    "As we know that python is a object oriented programming language and all the codes in python are put into work by creating a special construct called classes, we use class so that similiar things can be put together. We do this by using the keyword class. \n",
    "Almost everything in python is obejct with its respective methods and properties and class is like a blueprint for creating object."
   ]
  },
  {
   "cell_type": "code",
   "execution_count": 1,
   "id": "26c4e9f0-812e-4b91-ba76-d33dca266fd0",
   "metadata": {},
   "outputs": [
    {
     "name": "stdout",
     "output_type": "stream",
     "text": [
      "<__main__.ayan object at 0x7fb3f042f3d0>\n"
     ]
    }
   ],
   "source": [
    "# example\n",
    "class ayan:\n",
    "    pass\n",
    "\n",
    "ayan = ayan()\n",
    "print(ayan)"
   ]
  },
  {
   "cell_type": "markdown",
   "id": "07b1a7d6-6be0-48e7-beb7-2020ae784a29",
   "metadata": {},
   "source": [
    "# Q2"
   ]
  },
  {
   "cell_type": "markdown",
   "id": "5141255d-4188-4222-ba8c-a0aafdb74d9a",
   "metadata": {},
   "source": [
    "The four pillars of oop are \n",
    "\n",
    "Inheritance\n",
    "\n",
    "Polymorphism\n",
    "\n",
    "Encapsulatin \n",
    "\n",
    "And Abstraction"
   ]
  },
  {
   "cell_type": "markdown",
   "id": "5c8613cc-c712-49b4-a709-8dc560fbca09",
   "metadata": {},
   "source": [
    "# Q3"
   ]
  },
  {
   "cell_type": "markdown",
   "id": "f87ab175-1c35-4a8a-89fb-defdfc928120",
   "metadata": {},
   "source": [
    "The   __init__() function is a built in function.\n",
    "All the classes have this function __init__() and this gets executed when the class is being initiated."
   ]
  },
  {
   "cell_type": "code",
   "execution_count": 2,
   "id": "a072d10a-eaf8-476b-ab74-d87b867bd129",
   "metadata": {},
   "outputs": [
    {
     "name": "stdout",
     "output_type": "stream",
     "text": [
      "Ayan\n",
      "22\n"
     ]
    }
   ],
   "source": [
    "#Example\n",
    "class Yolo:\n",
    "    def __init__(self,name,age):\n",
    "        self.name=name\n",
    "        self.age=age\n",
    "        \n",
    "tiw = Yolo(\"Ayan\",22)\n",
    "print(tiw.name)\n",
    "print(tiw.age)\n",
    "        "
   ]
  },
  {
   "cell_type": "markdown",
   "id": "548c27ef-0812-4e5b-b242-b037e7dd6541",
   "metadata": {},
   "source": [
    "# Q4"
   ]
  },
  {
   "cell_type": "markdown",
   "id": "5c33c899-659a-43b0-9dc7-a03fd9a4b62f",
   "metadata": {},
   "source": [
    "The self keyword represents the instance of the class and by using the self keyword we can access the attributes\n",
    "and methods of the class in python, \n",
    "\n",
    "Hence by using self we are able to access the variable of that particular class.\n",
    "\n",
    "\n",
    "Self is always pointing to current object.\n"
   ]
  },
  {
   "cell_type": "markdown",
   "id": "800a5728-da9a-4424-ad25-f98720daffa4",
   "metadata": {},
   "source": [
    "# Q5"
   ]
  },
  {
   "cell_type": "markdown",
   "id": "9e743330-6cad-40a7-b176-3ee876a920f9",
   "metadata": {},
   "source": [
    "Inheritance is a mechanism in object-oriented programming where a child class can inherit properties and behaviors from a parent class. It allows you to reuse the code from the parent class and can also add new functionality to the child class."
   ]
  },
  {
   "cell_type": "markdown",
   "id": "20627ed0-2bbd-4d56-b875-5f8c45dbf45f",
   "metadata": {},
   "source": [
    "Types of Inheritance\n",
    "\n",
    "a) Single Inheritance"
   ]
  },
  {
   "cell_type": "code",
   "execution_count": 8,
   "id": "a728bba2-5cb0-40ce-acbe-a33446b62afd",
   "metadata": {},
   "outputs": [
    {
     "name": "stdout",
     "output_type": "stream",
     "text": [
      "This function is in parent class.\n",
      "This function is in child class.\n"
     ]
    }
   ],
   "source": [
    "\n",
    "class Parent:\n",
    "    def func(self):\n",
    "        print(\"This function is in parent class.\")\n",
    "\n",
    "\n",
    "\n",
    "\n",
    "class Child(Parent):\n",
    "    def func2(self):\n",
    "        print(\"This function is in child class.\")\n",
    "\n",
    "\n",
    "# Driver's code\n",
    "object = Child()\n",
    "object.func()\n",
    "object.func2()\n"
   ]
  },
  {
   "cell_type": "markdown",
   "id": "1eb2803c-b1e2-4d1a-a27c-7c431984d149",
   "metadata": {},
   "source": [
    "In the above example we can see that the child class inherits from the parent class"
   ]
  },
  {
   "cell_type": "markdown",
   "id": "eb229e28-db0d-407d-ac77-060ec208b3bf",
   "metadata": {},
   "source": [
    "2) Multi level inheritance"
   ]
  },
  {
   "cell_type": "code",
   "execution_count": 12,
   "id": "a5042b53-e13e-4a36-8402-bbcf54fb8db1",
   "metadata": {},
   "outputs": [
    {
     "name": "stdout",
     "output_type": "stream",
     "text": [
      "Father : ALEX\n",
      "Mother : ALEXA\n"
     ]
    }
   ],
   "source": [
    "class Mom:\n",
    "    Momname = \"\"\n",
    "\n",
    "    def Mom(self):\n",
    "        print(self.Momname)\n",
    "\n",
    "# Base class2\n",
    "\n",
    "\n",
    "class Pops:\n",
    "    Popsname = \"\"\n",
    "\n",
    "    def Pops(self):\n",
    "        print(self.Popsname)\n",
    "\n",
    "# Derived class\n",
    "\n",
    "\n",
    "class Beta(Mom, Pops):\n",
    "    def parents(self):\n",
    "        print(\"Father :\", self.Popsname)\n",
    "        print(\"Mother :\", self.Momname)\n",
    "\n",
    "\n",
    "# Driver's code\n",
    "s1 = Beta()\n",
    "s1.Popsname = \"ALEX\"\n",
    "s1.Momname = \"ALEXA\"\n",
    "s1.parents()\n"
   ]
  },
  {
   "cell_type": "code",
   "execution_count": null,
   "id": "c05c6e80-0c20-4d1e-b45f-7e732cc20f21",
   "metadata": {},
   "outputs": [],
   "source": []
  }
 ],
 "metadata": {
  "kernelspec": {
   "display_name": "Python 3 (ipykernel)",
   "language": "python",
   "name": "python3"
  },
  "language_info": {
   "codemirror_mode": {
    "name": "ipython",
    "version": 3
   },
   "file_extension": ".py",
   "mimetype": "text/x-python",
   "name": "python",
   "nbconvert_exporter": "python",
   "pygments_lexer": "ipython3",
   "version": "3.10.8"
  }
 },
 "nbformat": 4,
 "nbformat_minor": 5
}
