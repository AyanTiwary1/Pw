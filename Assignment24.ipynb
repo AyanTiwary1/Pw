{
 "cells": [
  {
   "cell_type": "markdown",
   "id": "db112fe8-a405-48fd-93fd-49f836ba09ef",
   "metadata": {},
   "source": [
    "# Assignment 24"
   ]
  },
  {
   "cell_type": "markdown",
   "id": "c5661035-0069-4f59-a03f-c145571c3864",
   "metadata": {},
   "source": [
    "# Q1 "
   ]
  },
  {
   "cell_type": "markdown",
   "id": "5329360d-bd01-4bdb-95f6-588ea4768fdc",
   "metadata": {},
   "source": [
    "Here are five functions of the pandas library along with their execution\n",
    "\n",
    "\n",
    "read_csv(): This function is used to read data from a CSV file and create a DataFrame object.\n",
    "\n",
    "fillna(): This function is used to replace missing values in a DataFrame with a specified value or method. \n",
    "\n",
    "groupby(): This function is used to group data in a DataFrame based on one or more columns. \n",
    "\n",
    "merge(): This function is used to join two or more DataFrames based on a common column. \n",
    "\n",
    "pivot_table(): This function is used to create a pivot table from a DataFrame\n",
    "\n"
   ]
  },
  {
   "cell_type": "code",
   "execution_count": 1,
   "id": "ae90c8e4-141c-4771-b5b7-5f758f074e4b",
   "metadata": {},
   "outputs": [],
   "source": [
    "import pandas as pd"
   ]
  },
  {
   "cell_type": "code",
   "execution_count": 2,
   "id": "905c6bcd-ac7f-454d-9849-5eabaa495444",
   "metadata": {},
   "outputs": [],
   "source": [
    "df = pd.read_csv(\"https://raw.githubusercontent.com/datasciencedojo/datasets/master/titanic.csv\")"
   ]
  },
  {
   "cell_type": "code",
   "execution_count": 4,
   "id": "086ff22b-6f6f-4f56-8309-15d361e38367",
   "metadata": {},
   "outputs": [
    {
     "data": {
      "text/html": [
       "<div>\n",
       "<style scoped>\n",
       "    .dataframe tbody tr th:only-of-type {\n",
       "        vertical-align: middle;\n",
       "    }\n",
       "\n",
       "    .dataframe tbody tr th {\n",
       "        vertical-align: top;\n",
       "    }\n",
       "\n",
       "    .dataframe thead th {\n",
       "        text-align: right;\n",
       "    }\n",
       "</style>\n",
       "<table border=\"1\" class=\"dataframe\">\n",
       "  <thead>\n",
       "    <tr style=\"text-align: right;\">\n",
       "      <th></th>\n",
       "      <th>PassengerId</th>\n",
       "      <th>Survived</th>\n",
       "      <th>Pclass</th>\n",
       "      <th>Name</th>\n",
       "      <th>Sex</th>\n",
       "      <th>Age</th>\n",
       "      <th>SibSp</th>\n",
       "      <th>Parch</th>\n",
       "      <th>Ticket</th>\n",
       "      <th>Fare</th>\n",
       "      <th>Cabin</th>\n",
       "      <th>Embarked</th>\n",
       "    </tr>\n",
       "  </thead>\n",
       "  <tbody>\n",
       "    <tr>\n",
       "      <th>0</th>\n",
       "      <td>1</td>\n",
       "      <td>0</td>\n",
       "      <td>3</td>\n",
       "      <td>Braund, Mr. Owen Harris</td>\n",
       "      <td>male</td>\n",
       "      <td>22.0</td>\n",
       "      <td>1</td>\n",
       "      <td>0</td>\n",
       "      <td>A/5 21171</td>\n",
       "      <td>7.25</td>\n",
       "      <td>NaN</td>\n",
       "      <td>S</td>\n",
       "    </tr>\n",
       "  </tbody>\n",
       "</table>\n",
       "</div>"
      ],
      "text/plain": [
       "   PassengerId  Survived  Pclass                     Name   Sex   Age  SibSp  \\\n",
       "0            1         0       3  Braund, Mr. Owen Harris  male  22.0      1   \n",
       "\n",
       "   Parch     Ticket  Fare Cabin Embarked  \n",
       "0      0  A/5 21171  7.25   NaN        S  "
      ]
     },
     "execution_count": 4,
     "metadata": {},
     "output_type": "execute_result"
    }
   ],
   "source": [
    "df.head(1)"
   ]
  },
  {
   "cell_type": "code",
   "execution_count": null,
   "id": "a5a5776d-1119-491a-a99e-0219c29bb170",
   "metadata": {},
   "outputs": [],
   "source": [
    "df.fillna(0)"
   ]
  },
  {
   "cell_type": "code",
   "execution_count": 7,
   "id": "6fa43753-5527-41bf-9441-395951526475",
   "metadata": {},
   "outputs": [
    {
     "name": "stdout",
     "output_type": "stream",
     "text": [
      "gender\n",
      "F    40.0\n",
      "M    35.0\n",
      "Name: age, dtype: float64\n"
     ]
    }
   ],
   "source": [
    "# Example for groupby\n",
    "import pandas as pd\n",
    "\n",
    "# create a DataFrame\n",
    "data = {\n",
    "    'name': ['Alice', 'Bob', 'Charlie', 'David', 'Emily', 'Alice'],\n",
    "    'age': [25, 30, 35, 40, 45, 50],\n",
    "    'gender': ['F', 'M', 'M', 'M', 'F', 'F']\n",
    "}\n",
    "df = pd.DataFrame(data)\n",
    "\n",
    "# group the data by gender and calculate the mean age\n",
    "grouped_data = df.groupby('gender')['age'].mean()\n",
    "\n",
    "# print the result\n",
    "print(grouped_data)\n"
   ]
  },
  {
   "cell_type": "code",
   "execution_count": 8,
   "id": "e5d0ceb3-764c-441f-9c2a-10cb6608cb20",
   "metadata": {},
   "outputs": [
    {
     "name": "stdout",
     "output_type": "stream",
     "text": [
      "  name  age gender\n",
      "0  Bob   30      M\n"
     ]
    }
   ],
   "source": [
    "# Example for Merge\n",
    "\n",
    "# create two DataFrames\n",
    "df1 = pd.DataFrame({'name': ['Alice', 'Bob', 'Charlie'], 'age': [25, 30, 35]})\n",
    "df2 = pd.DataFrame({'name': ['Bob', 'David', 'Emily'], 'gender': ['M', 'M', 'F']})\n",
    "\n",
    "# merge the DataFrames based on the name column\n",
    "merged_df = pd.merge(df1, df2, on='name')\n",
    "\n",
    "# print the result\n",
    "print(merged_df)\n"
   ]
  },
  {
   "cell_type": "code",
   "execution_count": 9,
   "id": "e1491ab0-f7d2-4996-8747-5d4219680ef1",
   "metadata": {},
   "outputs": [
    {
     "data": {
      "text/html": [
       "<div>\n",
       "<style scoped>\n",
       "    .dataframe tbody tr th:only-of-type {\n",
       "        vertical-align: middle;\n",
       "    }\n",
       "\n",
       "    .dataframe tbody tr th {\n",
       "        vertical-align: top;\n",
       "    }\n",
       "\n",
       "    .dataframe thead th {\n",
       "        text-align: right;\n",
       "    }\n",
       "</style>\n",
       "<table border=\"1\" class=\"dataframe\">\n",
       "  <thead>\n",
       "    <tr style=\"text-align: right;\">\n",
       "      <th></th>\n",
       "      <th>name</th>\n",
       "      <th>age</th>\n",
       "      <th>gender</th>\n",
       "    </tr>\n",
       "  </thead>\n",
       "  <tbody>\n",
       "    <tr>\n",
       "      <th>0</th>\n",
       "      <td>Bob</td>\n",
       "      <td>30</td>\n",
       "      <td>M</td>\n",
       "    </tr>\n",
       "  </tbody>\n",
       "</table>\n",
       "</div>"
      ],
      "text/plain": [
       "  name  age gender\n",
       "0  Bob   30      M"
      ]
     },
     "execution_count": 9,
     "metadata": {},
     "output_type": "execute_result"
    }
   ],
   "source": [
    "merged_df"
   ]
  },
  {
   "cell_type": "markdown",
   "id": "0992af8b-809b-48c9-b9eb-0f5dacfe9eca",
   "metadata": {},
   "source": [
    "# Q2"
   ]
  },
  {
   "cell_type": "code",
   "execution_count": 32,
   "id": "9636752c-bd23-4551-a8eb-0beb6f070e58",
   "metadata": {},
   "outputs": [
    {
     "data": {
      "text/html": [
       "<div>\n",
       "<style scoped>\n",
       "    .dataframe tbody tr th:only-of-type {\n",
       "        vertical-align: middle;\n",
       "    }\n",
       "\n",
       "    .dataframe tbody tr th {\n",
       "        vertical-align: top;\n",
       "    }\n",
       "\n",
       "    .dataframe thead th {\n",
       "        text-align: right;\n",
       "    }\n",
       "</style>\n",
       "<table border=\"1\" class=\"dataframe\">\n",
       "  <thead>\n",
       "    <tr style=\"text-align: right;\">\n",
       "      <th></th>\n",
       "      <th>A</th>\n",
       "      <th>B</th>\n",
       "      <th>C</th>\n",
       "    </tr>\n",
       "  </thead>\n",
       "  <tbody>\n",
       "    <tr>\n",
       "      <th>0</th>\n",
       "      <td>565</td>\n",
       "      <td>Ay</td>\n",
       "      <td>1212121</td>\n",
       "    </tr>\n",
       "    <tr>\n",
       "      <th>1</th>\n",
       "      <td>343</td>\n",
       "      <td>AN</td>\n",
       "      <td>ddfd</td>\n",
       "    </tr>\n",
       "    <tr>\n",
       "      <th>2</th>\n",
       "      <td>7878</td>\n",
       "      <td>Mna</td>\n",
       "      <td>qqwqwqqq</td>\n",
       "    </tr>\n",
       "    <tr>\n",
       "      <th>3</th>\n",
       "      <td>1234</td>\n",
       "      <td>kisd</td>\n",
       "      <td>aaas</td>\n",
       "    </tr>\n",
       "  </tbody>\n",
       "</table>\n",
       "</div>"
      ],
      "text/plain": [
       "      A     B         C\n",
       "0   565    Ay   1212121\n",
       "1   343    AN      ddfd\n",
       "2  7878   Mna  qqwqwqqq\n",
       "3  1234  kisd      aaas"
      ]
     },
     "execution_count": 32,
     "metadata": {},
     "output_type": "execute_result"
    }
   ],
   "source": [
    "sata={\"A\":[565,343,7878,1234],\n",
    "      \"B\":[\"Ay\",\"AN\", \"Mna\", \"kisd\"],\n",
    "      \"C\": [1212121,\"ddfd\",\"qqwqwqqq\",\"aaas\"]}\n",
    "fk= pd.DataFrame(sata)\n",
    "fk"
   ]
  },
  {
   "cell_type": "code",
   "execution_count": 6,
   "id": "2c0ce9db-98b7-4bc7-a068-fc86a9ceb5b2",
   "metadata": {},
   "outputs": [],
   "source": [
    "# To reindex "
   ]
  },
  {
   "cell_type": "code",
   "execution_count": 33,
   "id": "aa01bd2b-00ec-445e-8022-52606780315b",
   "metadata": {},
   "outputs": [
    {
     "data": {
      "text/html": [
       "<div>\n",
       "<style scoped>\n",
       "    .dataframe tbody tr th:only-of-type {\n",
       "        vertical-align: middle;\n",
       "    }\n",
       "\n",
       "    .dataframe tbody tr th {\n",
       "        vertical-align: top;\n",
       "    }\n",
       "\n",
       "    .dataframe thead th {\n",
       "        text-align: right;\n",
       "    }\n",
       "</style>\n",
       "<table border=\"1\" class=\"dataframe\">\n",
       "  <thead>\n",
       "    <tr style=\"text-align: right;\">\n",
       "      <th></th>\n",
       "      <th>A</th>\n",
       "      <th>B</th>\n",
       "      <th>C</th>\n",
       "    </tr>\n",
       "    <tr>\n",
       "      <th>New_col</th>\n",
       "      <th></th>\n",
       "      <th></th>\n",
       "      <th></th>\n",
       "    </tr>\n",
       "  </thead>\n",
       "  <tbody>\n",
       "    <tr>\n",
       "      <th>1</th>\n",
       "      <td>565</td>\n",
       "      <td>Ay</td>\n",
       "      <td>1212121</td>\n",
       "    </tr>\n",
       "    <tr>\n",
       "      <th>3</th>\n",
       "      <td>343</td>\n",
       "      <td>AN</td>\n",
       "      <td>ddfd</td>\n",
       "    </tr>\n",
       "    <tr>\n",
       "      <th>5</th>\n",
       "      <td>7878</td>\n",
       "      <td>Mna</td>\n",
       "      <td>qqwqwqqq</td>\n",
       "    </tr>\n",
       "    <tr>\n",
       "      <th>7</th>\n",
       "      <td>1234</td>\n",
       "      <td>kisd</td>\n",
       "      <td>aaas</td>\n",
       "    </tr>\n",
       "  </tbody>\n",
       "</table>\n",
       "</div>"
      ],
      "text/plain": [
       "            A     B         C\n",
       "New_col                      \n",
       "1         565    Ay   1212121\n",
       "3         343    AN      ddfd\n",
       "5        7878   Mna  qqwqwqqq\n",
       "7        1234  kisd      aaas"
      ]
     },
     "execution_count": 33,
     "metadata": {},
     "output_type": "execute_result"
    }
   ],
   "source": [
    "fk['New_col'] = pp\n",
    "pp=[ i for i in range(1,9,2) ]\n",
    "fk.set_index(\"New_col\")\n",
    "\n"
   ]
  },
  {
   "cell_type": "markdown",
   "id": "11f67a00-d878-4025-9b78-d2e2eb24df62",
   "metadata": {},
   "source": [
    "# Q3"
   ]
  },
  {
   "cell_type": "code",
   "execution_count": 19,
   "id": "1bd6bf7f-084b-443d-84e3-f4dac4e880e1",
   "metadata": {},
   "outputs": [
    {
     "data": {
      "text/plain": [
       "65"
      ]
     },
     "execution_count": 19,
     "metadata": {},
     "output_type": "execute_result"
    }
   ],
   "source": [
    "data1= {\"Values\" :[11,20,34,47,51,69]}\n",
    "df=pd.DataFrame(data1)\n",
    "\n",
    "df['Values'][0:3].sum()"
   ]
  },
  {
   "cell_type": "code",
   "execution_count": 20,
   "id": "e95367b9-8860-46a7-9a50-7d01e8619105",
   "metadata": {},
   "outputs": [
    {
     "data": {
      "text/html": [
       "<div>\n",
       "<style scoped>\n",
       "    .dataframe tbody tr th:only-of-type {\n",
       "        vertical-align: middle;\n",
       "    }\n",
       "\n",
       "    .dataframe tbody tr th {\n",
       "        vertical-align: top;\n",
       "    }\n",
       "\n",
       "    .dataframe thead th {\n",
       "        text-align: right;\n",
       "    }\n",
       "</style>\n",
       "<table border=\"1\" class=\"dataframe\">\n",
       "  <thead>\n",
       "    <tr style=\"text-align: right;\">\n",
       "      <th></th>\n",
       "      <th>Values</th>\n",
       "    </tr>\n",
       "  </thead>\n",
       "  <tbody>\n",
       "    <tr>\n",
       "      <th>0</th>\n",
       "      <td>11</td>\n",
       "    </tr>\n",
       "    <tr>\n",
       "      <th>1</th>\n",
       "      <td>20</td>\n",
       "    </tr>\n",
       "    <tr>\n",
       "      <th>2</th>\n",
       "      <td>34</td>\n",
       "    </tr>\n",
       "    <tr>\n",
       "      <th>3</th>\n",
       "      <td>47</td>\n",
       "    </tr>\n",
       "    <tr>\n",
       "      <th>4</th>\n",
       "      <td>51</td>\n",
       "    </tr>\n",
       "    <tr>\n",
       "      <th>5</th>\n",
       "      <td>69</td>\n",
       "    </tr>\n",
       "  </tbody>\n",
       "</table>\n",
       "</div>"
      ],
      "text/plain": [
       "   Values\n",
       "0      11\n",
       "1      20\n",
       "2      34\n",
       "3      47\n",
       "4      51\n",
       "5      69"
      ]
     },
     "execution_count": 20,
     "metadata": {},
     "output_type": "execute_result"
    }
   ],
   "source": [
    "df"
   ]
  },
  {
   "cell_type": "code",
   "execution_count": 11,
   "id": "07959274-2d1a-4e0a-92de-4968a3c262dc",
   "metadata": {},
   "outputs": [
    {
     "name": "stdout",
     "output_type": "stream",
     "text": [
      "65\n"
     ]
    }
   ],
   "source": [
    "p=0\n",
    "for i in df['Values'][0:3]:\n",
    "    p=p+i\n",
    "print(p)"
   ]
  },
  {
   "cell_type": "markdown",
   "id": "22a95093-c731-44eb-a357-aceca2bb3c23",
   "metadata": {},
   "source": [
    "# Q4"
   ]
  },
  {
   "cell_type": "code",
   "execution_count": 6,
   "id": "02396b28-24ba-4159-ab0a-60d01bb4dd2f",
   "metadata": {},
   "outputs": [],
   "source": [
    "tet={\"Text\" : [\" My Name is Ayan Tiwary\", \" Yay ayay bdjsh fgfgf hjdh jdfhdfh\"]}\n",
    "fd= pd.DataFrame(tet)\n",
    "fd['word_count'] = fd['Text'].apply(lambda x : len(x.split()))"
   ]
  },
  {
   "cell_type": "code",
   "execution_count": 7,
   "id": "e221a4ed-0158-4246-98d8-5a91fe449544",
   "metadata": {},
   "outputs": [
    {
     "data": {
      "text/html": [
       "<div>\n",
       "<style scoped>\n",
       "    .dataframe tbody tr th:only-of-type {\n",
       "        vertical-align: middle;\n",
       "    }\n",
       "\n",
       "    .dataframe tbody tr th {\n",
       "        vertical-align: top;\n",
       "    }\n",
       "\n",
       "    .dataframe thead th {\n",
       "        text-align: right;\n",
       "    }\n",
       "</style>\n",
       "<table border=\"1\" class=\"dataframe\">\n",
       "  <thead>\n",
       "    <tr style=\"text-align: right;\">\n",
       "      <th></th>\n",
       "      <th>Text</th>\n",
       "      <th>word_count</th>\n",
       "    </tr>\n",
       "  </thead>\n",
       "  <tbody>\n",
       "    <tr>\n",
       "      <th>0</th>\n",
       "      <td>My Name is Ayan Tiwary</td>\n",
       "      <td>5</td>\n",
       "    </tr>\n",
       "    <tr>\n",
       "      <th>1</th>\n",
       "      <td>Yay ayay bdjsh fgfgf hjdh jdfhdfh</td>\n",
       "      <td>6</td>\n",
       "    </tr>\n",
       "  </tbody>\n",
       "</table>\n",
       "</div>"
      ],
      "text/plain": [
       "                                 Text  word_count\n",
       "0              My Name is Ayan Tiwary           5\n",
       "1   Yay ayay bdjsh fgfgf hjdh jdfhdfh           6"
      ]
     },
     "execution_count": 7,
     "metadata": {},
     "output_type": "execute_result"
    }
   ],
   "source": [
    "fd"
   ]
  },
  {
   "cell_type": "markdown",
   "id": "fae3c3e9-a3ae-4bea-962f-b76504813117",
   "metadata": {},
   "source": [
    "# Q5"
   ]
  },
  {
   "cell_type": "markdown",
   "id": "2fef99a7-a7ca-48df-aa18-cac18e6dd951",
   "metadata": {},
   "source": [
    "DataFrame.size and DataFrame.shape are both methods of Pandas DataFrame, but they return different information about the DataFrame.\n",
    "\n",
    "DataFrame.size returns the total number of elements in the DataFrame, which is the product of the number of rows and the number of columns.\n",
    "\n",
    "DataFrame.shape returns a tuple representing the dimensions of the DataFrame, i.e., the number of rows and columns in the DataFrame. The tuple contains two integers, the first integer is the number of rows, and the second integer is the number of columns."
   ]
  },
  {
   "cell_type": "markdown",
   "id": "0bb598c7-a2db-45e6-901e-1da0abfebf1f",
   "metadata": {},
   "source": [
    "# Q6"
   ]
  },
  {
   "cell_type": "markdown",
   "id": "1995a39a-83d1-4a67-9c81-7c3d79d92b18",
   "metadata": {},
   "source": [
    "df= pd.read_excel   \n",
    ".\n",
    "\n",
    "This function is used in  pandas to read an excel file."
   ]
  },
  {
   "cell_type": "markdown",
   "id": "0910de3f-a79e-475d-b8c3-c633f86d7ce8",
   "metadata": {},
   "source": [
    "# Q7"
   ]
  },
  {
   "cell_type": "code",
   "execution_count": 9,
   "id": "d0a1c0b4-c073-4785-8223-ec650a6cf0ea",
   "metadata": {},
   "outputs": [],
   "source": [
    "def extract(x):\n",
    "    p=\"\"\n",
    "    for i in x:\n",
    "        if i!= \"@\":\n",
    "            p=p+i\n",
    "        else:\n",
    "            break\n",
    "    return p"
   ]
  },
  {
   "cell_type": "code",
   "execution_count": 10,
   "id": "8d1b0016-94f4-4312-aa13-d1f54c0d8f35",
   "metadata": {},
   "outputs": [],
   "source": [
    "email = {\"EMAIL\": [\"ayanti@gmail.com\",\"pwskills@gmail.com\",\"gogogo@gmail.com\"]}\n",
    "sd= pd.DataFrame(email)\n",
    "sd[\"UserName\"] = sd[\"EMAIL\"].apply(extract)"
   ]
  },
  {
   "cell_type": "code",
   "execution_count": 11,
   "id": "5204b20c-e020-4aff-b7f9-da4dc0a82773",
   "metadata": {},
   "outputs": [
    {
     "data": {
      "text/html": [
       "<div>\n",
       "<style scoped>\n",
       "    .dataframe tbody tr th:only-of-type {\n",
       "        vertical-align: middle;\n",
       "    }\n",
       "\n",
       "    .dataframe tbody tr th {\n",
       "        vertical-align: top;\n",
       "    }\n",
       "\n",
       "    .dataframe thead th {\n",
       "        text-align: right;\n",
       "    }\n",
       "</style>\n",
       "<table border=\"1\" class=\"dataframe\">\n",
       "  <thead>\n",
       "    <tr style=\"text-align: right;\">\n",
       "      <th></th>\n",
       "      <th>EMAIL</th>\n",
       "      <th>UserName</th>\n",
       "    </tr>\n",
       "  </thead>\n",
       "  <tbody>\n",
       "    <tr>\n",
       "      <th>0</th>\n",
       "      <td>ayanti@gmail.com</td>\n",
       "      <td>ayanti</td>\n",
       "    </tr>\n",
       "    <tr>\n",
       "      <th>1</th>\n",
       "      <td>pwskills@gmail.com</td>\n",
       "      <td>pwskills</td>\n",
       "    </tr>\n",
       "    <tr>\n",
       "      <th>2</th>\n",
       "      <td>gogogo@gmail.com</td>\n",
       "      <td>gogogo</td>\n",
       "    </tr>\n",
       "  </tbody>\n",
       "</table>\n",
       "</div>"
      ],
      "text/plain": [
       "                EMAIL  UserName\n",
       "0    ayanti@gmail.com    ayanti\n",
       "1  pwskills@gmail.com  pwskills\n",
       "2    gogogo@gmail.com    gogogo"
      ]
     },
     "execution_count": 11,
     "metadata": {},
     "output_type": "execute_result"
    }
   ],
   "source": [
    "sd"
   ]
  },
  {
   "cell_type": "markdown",
   "id": "fb50b11b-310c-43ef-b55e-f0c78b9ccf92",
   "metadata": {},
   "source": [
    "# Q8"
   ]
  },
  {
   "cell_type": "code",
   "execution_count": 12,
   "id": "c12dff78-7657-470a-b228-e3d1f2b97ca4",
   "metadata": {},
   "outputs": [],
   "source": [
    "koka = {\"A\" : [1,2,3,4,5,6,7,8,9,10],\n",
    "        \"B\" : [11,12,34,2,3,5,6,14,6,9],\n",
    "        \"C\" : [1,2,3,4,54,32,1,2,4,1]}\n",
    "sa= pd.DataFrame(koka)\n",
    "        "
   ]
  },
  {
   "cell_type": "code",
   "execution_count": 16,
   "id": "a86d538d-1b1b-4578-9640-87dc579a3cbf",
   "metadata": {},
   "outputs": [],
   "source": [
    "qw = sa[(sa[\"A\"]>5) & (sa[\"B\"]<10)]"
   ]
  },
  {
   "cell_type": "code",
   "execution_count": 17,
   "id": "e86176b0-cb22-4bdc-8a35-659019b57d2d",
   "metadata": {},
   "outputs": [
    {
     "data": {
      "text/html": [
       "<div>\n",
       "<style scoped>\n",
       "    .dataframe tbody tr th:only-of-type {\n",
       "        vertical-align: middle;\n",
       "    }\n",
       "\n",
       "    .dataframe tbody tr th {\n",
       "        vertical-align: top;\n",
       "    }\n",
       "\n",
       "    .dataframe thead th {\n",
       "        text-align: right;\n",
       "    }\n",
       "</style>\n",
       "<table border=\"1\" class=\"dataframe\">\n",
       "  <thead>\n",
       "    <tr style=\"text-align: right;\">\n",
       "      <th></th>\n",
       "      <th>A</th>\n",
       "      <th>B</th>\n",
       "      <th>C</th>\n",
       "    </tr>\n",
       "  </thead>\n",
       "  <tbody>\n",
       "    <tr>\n",
       "      <th>5</th>\n",
       "      <td>6</td>\n",
       "      <td>5</td>\n",
       "      <td>32</td>\n",
       "    </tr>\n",
       "    <tr>\n",
       "      <th>6</th>\n",
       "      <td>7</td>\n",
       "      <td>6</td>\n",
       "      <td>1</td>\n",
       "    </tr>\n",
       "    <tr>\n",
       "      <th>8</th>\n",
       "      <td>9</td>\n",
       "      <td>6</td>\n",
       "      <td>4</td>\n",
       "    </tr>\n",
       "    <tr>\n",
       "      <th>9</th>\n",
       "      <td>10</td>\n",
       "      <td>9</td>\n",
       "      <td>1</td>\n",
       "    </tr>\n",
       "  </tbody>\n",
       "</table>\n",
       "</div>"
      ],
      "text/plain": [
       "    A  B   C\n",
       "5   6  5  32\n",
       "6   7  6   1\n",
       "8   9  6   4\n",
       "9  10  9   1"
      ]
     },
     "execution_count": 17,
     "metadata": {},
     "output_type": "execute_result"
    }
   ],
   "source": [
    "qw"
   ]
  },
  {
   "cell_type": "markdown",
   "id": "2fb6bca2-3b73-46b4-857f-36df6a7364fd",
   "metadata": {},
   "source": [
    "# Q9"
   ]
  },
  {
   "cell_type": "code",
   "execution_count": 22,
   "id": "3be89604-751f-4745-b7fd-bcf42298845a",
   "metadata": {},
   "outputs": [
    {
     "data": {
      "text/plain": [
       "count     6.000000\n",
       "mean     38.666667\n",
       "std      21.341665\n",
       "min      11.000000\n",
       "25%      23.500000\n",
       "50%      40.500000\n",
       "75%      50.000000\n",
       "max      69.000000\n",
       "Name: Values, dtype: float64"
      ]
     },
     "execution_count": 22,
     "metadata": {},
     "output_type": "execute_result"
    }
   ],
   "source": [
    "data2= {\"Values\" :[11,20,34,47,51,69]}\n",
    "wq= pd.DataFrame(data2)\n",
    "wq[\"Values\"].describe()\n"
   ]
  },
  {
   "cell_type": "markdown",
   "id": "984e7d04-b12a-4159-bd1e-b555993bfa27",
   "metadata": {},
   "source": [
    "# Q10"
   ]
  },
  {
   "cell_type": "code",
   "execution_count": 12,
   "id": "cdbe4a5a-b1cd-47c8-9b9a-fa6d1df226c0",
   "metadata": {},
   "outputs": [
    {
     "data": {
      "text/html": [
       "<div>\n",
       "<style scoped>\n",
       "    .dataframe tbody tr th:only-of-type {\n",
       "        vertical-align: middle;\n",
       "    }\n",
       "\n",
       "    .dataframe tbody tr th {\n",
       "        vertical-align: top;\n",
       "    }\n",
       "\n",
       "    .dataframe thead th {\n",
       "        text-align: right;\n",
       "    }\n",
       "</style>\n",
       "<table border=\"1\" class=\"dataframe\">\n",
       "  <thead>\n",
       "    <tr style=\"text-align: right;\">\n",
       "      <th></th>\n",
       "      <th>Sales</th>\n",
       "      <th>Date</th>\n",
       "      <th>MovingAverage</th>\n",
       "    </tr>\n",
       "  </thead>\n",
       "  <tbody>\n",
       "    <tr>\n",
       "      <th>0</th>\n",
       "      <td>100</td>\n",
       "      <td>2022-03-10</td>\n",
       "      <td>Avaliable from 7 th day</td>\n",
       "    </tr>\n",
       "    <tr>\n",
       "      <th>1</th>\n",
       "      <td>221</td>\n",
       "      <td>2022-03-11</td>\n",
       "      <td>Avaliable from 7 th day</td>\n",
       "    </tr>\n",
       "    <tr>\n",
       "      <th>2</th>\n",
       "      <td>311</td>\n",
       "      <td>2022-03-12</td>\n",
       "      <td>Avaliable from 7 th day</td>\n",
       "    </tr>\n",
       "    <tr>\n",
       "      <th>3</th>\n",
       "      <td>4412</td>\n",
       "      <td>2022-03-13</td>\n",
       "      <td>Avaliable from 7 th day</td>\n",
       "    </tr>\n",
       "    <tr>\n",
       "      <th>4</th>\n",
       "      <td>50</td>\n",
       "      <td>2022-03-14</td>\n",
       "      <td>Avaliable from 7 th day</td>\n",
       "    </tr>\n",
       "    <tr>\n",
       "      <th>5</th>\n",
       "      <td>206</td>\n",
       "      <td>2022-03-15</td>\n",
       "      <td>Avaliable from 7 th day</td>\n",
       "    </tr>\n",
       "    <tr>\n",
       "      <th>6</th>\n",
       "      <td>741</td>\n",
       "      <td>2022-03-16</td>\n",
       "      <td>863.0</td>\n",
       "    </tr>\n",
       "    <tr>\n",
       "      <th>7</th>\n",
       "      <td>8522</td>\n",
       "      <td>2022-03-17</td>\n",
       "      <td>2066.142857</td>\n",
       "    </tr>\n",
       "    <tr>\n",
       "      <th>8</th>\n",
       "      <td>902</td>\n",
       "      <td>2022-03-18</td>\n",
       "      <td>2163.428571</td>\n",
       "    </tr>\n",
       "    <tr>\n",
       "      <th>9</th>\n",
       "      <td>1052</td>\n",
       "      <td>2022-03-19</td>\n",
       "      <td>2269.285714</td>\n",
       "    </tr>\n",
       "    <tr>\n",
       "      <th>10</th>\n",
       "      <td>25</td>\n",
       "      <td>2022-03-20</td>\n",
       "      <td>1642.571429</td>\n",
       "    </tr>\n",
       "    <tr>\n",
       "      <th>11</th>\n",
       "      <td>3478</td>\n",
       "      <td>2022-03-21</td>\n",
       "      <td>2132.285714</td>\n",
       "    </tr>\n",
       "    <tr>\n",
       "      <th>12</th>\n",
       "      <td>402</td>\n",
       "      <td>2022-03-22</td>\n",
       "      <td>2160.285714</td>\n",
       "    </tr>\n",
       "    <tr>\n",
       "      <th>13</th>\n",
       "      <td>525</td>\n",
       "      <td>2022-03-23</td>\n",
       "      <td>2129.428571</td>\n",
       "    </tr>\n",
       "    <tr>\n",
       "      <th>14</th>\n",
       "      <td>605</td>\n",
       "      <td>2022-03-24</td>\n",
       "      <td>998.428571</td>\n",
       "    </tr>\n",
       "    <tr>\n",
       "      <th>15</th>\n",
       "      <td>702</td>\n",
       "      <td>2022-03-25</td>\n",
       "      <td>969.857143</td>\n",
       "    </tr>\n",
       "    <tr>\n",
       "      <th>16</th>\n",
       "      <td>845</td>\n",
       "      <td>2022-03-26</td>\n",
       "      <td>940.285714</td>\n",
       "    </tr>\n",
       "    <tr>\n",
       "      <th>17</th>\n",
       "      <td>9551</td>\n",
       "      <td>2022-03-27</td>\n",
       "      <td>2301.142857</td>\n",
       "    </tr>\n",
       "  </tbody>\n",
       "</table>\n",
       "</div>"
      ],
      "text/plain": [
       "    Sales       Date            MovingAverage\n",
       "0     100 2022-03-10  Avaliable from 7 th day\n",
       "1     221 2022-03-11  Avaliable from 7 th day\n",
       "2     311 2022-03-12  Avaliable from 7 th day\n",
       "3    4412 2022-03-13  Avaliable from 7 th day\n",
       "4      50 2022-03-14  Avaliable from 7 th day\n",
       "5     206 2022-03-15  Avaliable from 7 th day\n",
       "6     741 2022-03-16                    863.0\n",
       "7    8522 2022-03-17              2066.142857\n",
       "8     902 2022-03-18              2163.428571\n",
       "9    1052 2022-03-19              2269.285714\n",
       "10     25 2022-03-20              1642.571429\n",
       "11   3478 2022-03-21              2132.285714\n",
       "12    402 2022-03-22              2160.285714\n",
       "13    525 2022-03-23              2129.428571\n",
       "14    605 2022-03-24               998.428571\n",
       "15    702 2022-03-25               969.857143\n",
       "16    845 2022-03-26               940.285714\n",
       "17   9551 2022-03-27              2301.142857"
      ]
     },
     "execution_count": 12,
     "metadata": {},
     "output_type": "execute_result"
    }
   ],
   "source": [
    "kata = {\"Sales\" :[ 100,221,311,4412,50,206,741,8522,902,1052,25,3478,402,525,605,702,845,9551],\n",
    "        \"Date\" : pd.date_range(start = '2022-03-10' ,end = '2022-03-27')}\n",
    "aq =  pd.DataFrame(kata)\n",
    "aq['MovingAverage'] =  aq['Sales'].rolling(window = 7 ).mean()\n",
    "aq.fillna(\"Avaliable from 7 th day\")"
   ]
  },
  {
   "cell_type": "markdown",
   "id": "f45f184d-29a0-4f4d-bb69-f59b7615e7b7",
   "metadata": {},
   "source": [
    "# Q11"
   ]
  },
  {
   "cell_type": "code",
   "execution_count": 18,
   "id": "b495c8a1-80c0-4ca5-a97a-8efcb4a99821",
   "metadata": {},
   "outputs": [
    {
     "data": {
      "text/html": [
       "<div>\n",
       "<style scoped>\n",
       "    .dataframe tbody tr th:only-of-type {\n",
       "        vertical-align: middle;\n",
       "    }\n",
       "\n",
       "    .dataframe tbody tr th {\n",
       "        vertical-align: top;\n",
       "    }\n",
       "\n",
       "    .dataframe thead th {\n",
       "        text-align: right;\n",
       "    }\n",
       "</style>\n",
       "<table border=\"1\" class=\"dataframe\">\n",
       "  <thead>\n",
       "    <tr style=\"text-align: right;\">\n",
       "      <th></th>\n",
       "      <th>Date</th>\n",
       "      <th>Weekday</th>\n",
       "    </tr>\n",
       "  </thead>\n",
       "  <tbody>\n",
       "    <tr>\n",
       "      <th>0</th>\n",
       "      <td>2022-03-10</td>\n",
       "      <td>Thursday</td>\n",
       "    </tr>\n",
       "    <tr>\n",
       "      <th>1</th>\n",
       "      <td>2022-03-11</td>\n",
       "      <td>Friday</td>\n",
       "    </tr>\n",
       "    <tr>\n",
       "      <th>2</th>\n",
       "      <td>2022-03-12</td>\n",
       "      <td>Saturday</td>\n",
       "    </tr>\n",
       "    <tr>\n",
       "      <th>3</th>\n",
       "      <td>2022-03-13</td>\n",
       "      <td>Sunday</td>\n",
       "    </tr>\n",
       "    <tr>\n",
       "      <th>4</th>\n",
       "      <td>2022-03-14</td>\n",
       "      <td>Monday</td>\n",
       "    </tr>\n",
       "    <tr>\n",
       "      <th>5</th>\n",
       "      <td>2022-03-15</td>\n",
       "      <td>Tuesday</td>\n",
       "    </tr>\n",
       "    <tr>\n",
       "      <th>6</th>\n",
       "      <td>2022-03-16</td>\n",
       "      <td>Wednesday</td>\n",
       "    </tr>\n",
       "    <tr>\n",
       "      <th>7</th>\n",
       "      <td>2022-03-17</td>\n",
       "      <td>Thursday</td>\n",
       "    </tr>\n",
       "    <tr>\n",
       "      <th>8</th>\n",
       "      <td>2022-03-18</td>\n",
       "      <td>Friday</td>\n",
       "    </tr>\n",
       "    <tr>\n",
       "      <th>9</th>\n",
       "      <td>2022-03-19</td>\n",
       "      <td>Saturday</td>\n",
       "    </tr>\n",
       "    <tr>\n",
       "      <th>10</th>\n",
       "      <td>2022-03-20</td>\n",
       "      <td>Sunday</td>\n",
       "    </tr>\n",
       "    <tr>\n",
       "      <th>11</th>\n",
       "      <td>2022-03-21</td>\n",
       "      <td>Monday</td>\n",
       "    </tr>\n",
       "    <tr>\n",
       "      <th>12</th>\n",
       "      <td>2022-03-22</td>\n",
       "      <td>Tuesday</td>\n",
       "    </tr>\n",
       "    <tr>\n",
       "      <th>13</th>\n",
       "      <td>2022-03-23</td>\n",
       "      <td>Wednesday</td>\n",
       "    </tr>\n",
       "    <tr>\n",
       "      <th>14</th>\n",
       "      <td>2022-03-24</td>\n",
       "      <td>Thursday</td>\n",
       "    </tr>\n",
       "    <tr>\n",
       "      <th>15</th>\n",
       "      <td>2022-03-25</td>\n",
       "      <td>Friday</td>\n",
       "    </tr>\n",
       "    <tr>\n",
       "      <th>16</th>\n",
       "      <td>2022-03-26</td>\n",
       "      <td>Saturday</td>\n",
       "    </tr>\n",
       "    <tr>\n",
       "      <th>17</th>\n",
       "      <td>2022-03-27</td>\n",
       "      <td>Sunday</td>\n",
       "    </tr>\n",
       "  </tbody>\n",
       "</table>\n",
       "</div>"
      ],
      "text/plain": [
       "         Date    Weekday\n",
       "0  2022-03-10   Thursday\n",
       "1  2022-03-11     Friday\n",
       "2  2022-03-12   Saturday\n",
       "3  2022-03-13     Sunday\n",
       "4  2022-03-14     Monday\n",
       "5  2022-03-15    Tuesday\n",
       "6  2022-03-16  Wednesday\n",
       "7  2022-03-17   Thursday\n",
       "8  2022-03-18     Friday\n",
       "9  2022-03-19   Saturday\n",
       "10 2022-03-20     Sunday\n",
       "11 2022-03-21     Monday\n",
       "12 2022-03-22    Tuesday\n",
       "13 2022-03-23  Wednesday\n",
       "14 2022-03-24   Thursday\n",
       "15 2022-03-25     Friday\n",
       "16 2022-03-26   Saturday\n",
       "17 2022-03-27     Sunday"
      ]
     },
     "execution_count": 18,
     "metadata": {},
     "output_type": "execute_result"
    }
   ],
   "source": [
    "wata = {\"Date\" : pd.date_range(start = '2022-03-10' ,end = '2022-03-27')}\n",
    "zx =  pd.DataFrame(wata)\n",
    "zx['Weekday'] = zx[\"Date\"].dt.day_name()\n",
    "zx"
   ]
  },
  {
   "cell_type": "markdown",
   "id": "83c399ed-1572-4224-b728-fe811538c295",
   "metadata": {},
   "source": [
    "# Q12"
   ]
  },
  {
   "cell_type": "code",
   "execution_count": 29,
   "id": "59f1ccf3-c460-459f-8456-e325a6c07606",
   "metadata": {},
   "outputs": [
    {
     "data": {
      "text/html": [
       "<div>\n",
       "<style scoped>\n",
       "    .dataframe tbody tr th:only-of-type {\n",
       "        vertical-align: middle;\n",
       "    }\n",
       "\n",
       "    .dataframe tbody tr th {\n",
       "        vertical-align: top;\n",
       "    }\n",
       "\n",
       "    .dataframe thead th {\n",
       "        text-align: right;\n",
       "    }\n",
       "</style>\n",
       "<table border=\"1\" class=\"dataframe\">\n",
       "  <thead>\n",
       "    <tr style=\"text-align: right;\">\n",
       "      <th></th>\n",
       "      <th>Date</th>\n",
       "    </tr>\n",
       "  </thead>\n",
       "  <tbody>\n",
       "    <tr>\n",
       "      <th>21</th>\n",
       "      <td>2023-01-02</td>\n",
       "    </tr>\n",
       "    <tr>\n",
       "      <th>22</th>\n",
       "      <td>2023-01-03</td>\n",
       "    </tr>\n",
       "    <tr>\n",
       "      <th>23</th>\n",
       "      <td>2023-01-04</td>\n",
       "    </tr>\n",
       "    <tr>\n",
       "      <th>24</th>\n",
       "      <td>2023-01-05</td>\n",
       "    </tr>\n",
       "    <tr>\n",
       "      <th>25</th>\n",
       "      <td>2023-01-06</td>\n",
       "    </tr>\n",
       "    <tr>\n",
       "      <th>26</th>\n",
       "      <td>2023-01-07</td>\n",
       "    </tr>\n",
       "    <tr>\n",
       "      <th>27</th>\n",
       "      <td>2023-01-08</td>\n",
       "    </tr>\n",
       "    <tr>\n",
       "      <th>28</th>\n",
       "      <td>2023-01-09</td>\n",
       "    </tr>\n",
       "    <tr>\n",
       "      <th>29</th>\n",
       "      <td>2023-01-10</td>\n",
       "    </tr>\n",
       "    <tr>\n",
       "      <th>30</th>\n",
       "      <td>2023-01-11</td>\n",
       "    </tr>\n",
       "    <tr>\n",
       "      <th>31</th>\n",
       "      <td>2023-01-12</td>\n",
       "    </tr>\n",
       "    <tr>\n",
       "      <th>32</th>\n",
       "      <td>2023-01-13</td>\n",
       "    </tr>\n",
       "    <tr>\n",
       "      <th>33</th>\n",
       "      <td>2023-01-14</td>\n",
       "    </tr>\n",
       "    <tr>\n",
       "      <th>34</th>\n",
       "      <td>2023-01-15</td>\n",
       "    </tr>\n",
       "    <tr>\n",
       "      <th>35</th>\n",
       "      <td>2023-01-16</td>\n",
       "    </tr>\n",
       "    <tr>\n",
       "      <th>36</th>\n",
       "      <td>2023-01-17</td>\n",
       "    </tr>\n",
       "    <tr>\n",
       "      <th>37</th>\n",
       "      <td>2023-01-18</td>\n",
       "    </tr>\n",
       "    <tr>\n",
       "      <th>38</th>\n",
       "      <td>2023-01-19</td>\n",
       "    </tr>\n",
       "    <tr>\n",
       "      <th>39</th>\n",
       "      <td>2023-01-20</td>\n",
       "    </tr>\n",
       "    <tr>\n",
       "      <th>40</th>\n",
       "      <td>2023-01-21</td>\n",
       "    </tr>\n",
       "    <tr>\n",
       "      <th>41</th>\n",
       "      <td>2023-01-22</td>\n",
       "    </tr>\n",
       "    <tr>\n",
       "      <th>42</th>\n",
       "      <td>2023-01-23</td>\n",
       "    </tr>\n",
       "    <tr>\n",
       "      <th>43</th>\n",
       "      <td>2023-01-24</td>\n",
       "    </tr>\n",
       "    <tr>\n",
       "      <th>44</th>\n",
       "      <td>2023-01-25</td>\n",
       "    </tr>\n",
       "    <tr>\n",
       "      <th>45</th>\n",
       "      <td>2023-01-26</td>\n",
       "    </tr>\n",
       "    <tr>\n",
       "      <th>46</th>\n",
       "      <td>2023-01-27</td>\n",
       "    </tr>\n",
       "    <tr>\n",
       "      <th>47</th>\n",
       "      <td>2023-01-28</td>\n",
       "    </tr>\n",
       "    <tr>\n",
       "      <th>48</th>\n",
       "      <td>2023-01-29</td>\n",
       "    </tr>\n",
       "    <tr>\n",
       "      <th>49</th>\n",
       "      <td>2023-01-30</td>\n",
       "    </tr>\n",
       "  </tbody>\n",
       "</table>\n",
       "</div>"
      ],
      "text/plain": [
       "         Date\n",
       "21 2023-01-02\n",
       "22 2023-01-03\n",
       "23 2023-01-04\n",
       "24 2023-01-05\n",
       "25 2023-01-06\n",
       "26 2023-01-07\n",
       "27 2023-01-08\n",
       "28 2023-01-09\n",
       "29 2023-01-10\n",
       "30 2023-01-11\n",
       "31 2023-01-12\n",
       "32 2023-01-13\n",
       "33 2023-01-14\n",
       "34 2023-01-15\n",
       "35 2023-01-16\n",
       "36 2023-01-17\n",
       "37 2023-01-18\n",
       "38 2023-01-19\n",
       "39 2023-01-20\n",
       "40 2023-01-21\n",
       "41 2023-01-22\n",
       "42 2023-01-23\n",
       "43 2023-01-24\n",
       "44 2023-01-25\n",
       "45 2023-01-26\n",
       "46 2023-01-27\n",
       "47 2023-01-28\n",
       "48 2023-01-29\n",
       "49 2023-01-30"
      ]
     },
     "execution_count": 29,
     "metadata": {},
     "output_type": "execute_result"
    }
   ],
   "source": [
    "fta = {\"Date\" : pd.date_range(start = '2022-12-12' ,end = '2023-02-27')}\n",
    "cx = pd.DataFrame(fta)\n",
    "jh = cx[(cx[\"Date\"] > '2023-01-01') & (cx[\"Date\"]<'2023-01-31')]\n",
    "jh"
   ]
  },
  {
   "cell_type": "markdown",
   "id": "d18b635c-3f55-4ee1-af9b-232171adf8be",
   "metadata": {},
   "source": [
    "# Q13"
   ]
  },
  {
   "cell_type": "markdown",
   "id": "91edb96f-cc0a-4e16-818f-c7c551f72bfb",
   "metadata": {},
   "source": [
    "The first and foremost necessary library that needs to be imported to use the basic functions of pandas is pandas itself. In fact, the standard convention to import pandas is\n"
   ]
  },
  {
   "cell_type": "markdown",
   "id": "ed8cb99c-c522-4ba3-b528-5445118a2a04",
   "metadata": {},
   "source": [
    "import pandas as pd"
   ]
  }
 ],
 "metadata": {
  "kernelspec": {
   "display_name": "Python 3 (ipykernel)",
   "language": "python",
   "name": "python3"
  },
  "language_info": {
   "codemirror_mode": {
    "name": "ipython",
    "version": 3
   },
   "file_extension": ".py",
   "mimetype": "text/x-python",
   "name": "python",
   "nbconvert_exporter": "python",
   "pygments_lexer": "ipython3",
   "version": "3.10.8"
  }
 },
 "nbformat": 4,
 "nbformat_minor": 5
}
