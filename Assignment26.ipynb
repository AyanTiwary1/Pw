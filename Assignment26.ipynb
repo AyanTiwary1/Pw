{
 "cells": [
  {
   "cell_type": "markdown",
   "id": "597638af-90e2-4b59-a88a-1c8ef319dc53",
   "metadata": {},
   "source": [
    "# Assignment "
   ]
  },
  {
   "cell_type": "markdown",
   "id": "723d7a47-be3f-45b9-88e1-43332543d208",
   "metadata": {},
   "source": [
    "# Q1"
   ]
  },
  {
   "cell_type": "markdown",
   "id": "96315360-6bcc-43eb-bd2b-2626c777c582",
   "metadata": {},
   "source": [
    "Yes, there is a difference in the data type of variables list_ and array_list.\n",
    "\n",
    "The list_ variable is a list object which can contain elements of different data types, such as integers, floats, strings, etc. In this case, the elements are strings.\n",
    "\n",
    "The array_list variable, on the other hand, is a numpy array object which contains elements of a homogeneous data type. Since the elements in the list_ variable are strings, the array_list variable will also have elements of the string data type.\n",
    "\n",
    "To print the data types of both variables, you can use the type() function as follows:"
   ]
  },
  {
   "cell_type": "code",
   "execution_count": 1,
   "id": "edd5020e-6104-4f61-a36e-5cafedc6702a",
   "metadata": {
    "tags": []
   },
   "outputs": [
    {
     "name": "stdout",
     "output_type": "stream",
     "text": [
      "Data type of list_ variable: <class 'list'>\n",
      "Data type of array_list variable: <class 'numpy.ndarray'>\n"
     ]
    }
   ],
   "source": [
    "import numpy as np\n",
    "\n",
    "list_ = ['1', '2', '3', '4', '5']\n",
    "array_list = np.array(object=list_)\n",
    "\n",
    "print(\"Data type of list_ variable:\", type(list_))\n",
    "print(\"Data type of array_list variable:\", type(array_list))\n"
   ]
  },
  {
   "cell_type": "markdown",
   "id": "4b972bd6-78ad-48ef-ab6e-8e893eee4c8e",
   "metadata": {},
   "source": [
    "# Q2"
   ]
  },
  {
   "cell_type": "code",
   "execution_count": 3,
   "id": "6ba421de-474d-482a-8372-c0e290653d64",
   "metadata": {
    "tags": []
   },
   "outputs": [
    {
     "name": "stdout",
     "output_type": "stream",
     "text": [
      "Data type of elements in list_ variable:\n",
      "<class 'str'>\n",
      "<class 'str'>\n",
      "<class 'str'>\n",
      "<class 'str'>\n",
      "<class 'str'>\n",
      "\n",
      "Data type of elements in array_list variable:\n",
      "<class 'numpy.str_'>\n",
      "<class 'numpy.str_'>\n",
      "<class 'numpy.str_'>\n",
      "<class 'numpy.str_'>\n",
      "<class 'numpy.str_'>\n"
     ]
    }
   ],
   "source": [
    "import numpy as np\n",
    "\n",
    "list_ = ['1', '2', '3', '4', '5']\n",
    "array_list = np.array(object=list_)\n",
    "\n",
    "print(\"Data type of elements in list_ variable:\")\n",
    "for element in list_:\n",
    "    print(type(element))\n",
    "\n",
    "print(\"\\nData type of elements in array_list variable:\")\n",
    "for element in array_list:\n",
    "    print(type(element))\n"
   ]
  },
  {
   "cell_type": "markdown",
   "id": "62c8c264-c854-4893-9800-24cdff833e80",
   "metadata": {},
   "source": [
    "# Q3"
   ]
  },
  {
   "cell_type": "markdown",
   "id": "7c68ed20-556c-4c60-8294-8916d482c639",
   "metadata": {},
   "source": [
    "Yes, there will be a difference in the data type of the elements present in both list_ and array_list when array_list is created with dtype=int.\n",
    "\n",
    "When dtype=int is specified, the elements in list_ will be converted to integers before being stored in the array_list.\n",
    "\n",
    "Here's the code to print the data type of each element in both list_ and array_list after array_list is created with dtype=int:"
   ]
  },
  {
   "cell_type": "code",
   "execution_count": 5,
   "id": "8732025a-3189-47ae-b07e-2cdc189f364b",
   "metadata": {
    "tags": []
   },
   "outputs": [
    {
     "name": "stdout",
     "output_type": "stream",
     "text": [
      "Data type of elements in list_ variable:\n",
      "<class 'str'>\n",
      "<class 'str'>\n",
      "<class 'str'>\n",
      "<class 'str'>\n",
      "<class 'str'>\n",
      "\n",
      "Data type of elements in array_list variable:\n",
      "<class 'numpy.int32'>\n",
      "<class 'numpy.int32'>\n",
      "<class 'numpy.int32'>\n",
      "<class 'numpy.int32'>\n",
      "<class 'numpy.int32'>\n"
     ]
    }
   ],
   "source": [
    "import numpy as np\n",
    "\n",
    "list_ = ['1', '2', '3', '4', '5']\n",
    "array_list = np.array(object=list_, dtype=int)\n",
    "\n",
    "print(\"Data type of elements in list_ variable:\")\n",
    "for element in list_:\n",
    "    print(type(element))\n",
    "\n",
    "print(\"\\nData type of elements in array_list variable:\")\n",
    "for element in array_list:\n",
    "    print(type(element))\n"
   ]
  },
  {
   "cell_type": "code",
   "execution_count": 6,
   "id": "2f2c236c-fe04-44a1-ab12-faccc6b4d490",
   "metadata": {
    "tags": []
   },
   "outputs": [
    {
     "name": "stdout",
     "output_type": "stream",
     "text": [
      "Data type of elements in num_list variable:\n",
      "<class 'int'>\n",
      "<class 'int'>\n",
      "<class 'int'>\n",
      "<class 'int'>\n",
      "<class 'int'>\n",
      "<class 'int'>\n",
      "\n",
      "Data type of elements in num_array variable:\n",
      "<class 'numpy.int32'>\n",
      "<class 'numpy.int32'>\n",
      "<class 'numpy.int32'>\n",
      "<class 'numpy.int32'>\n",
      "<class 'numpy.int32'>\n",
      "<class 'numpy.int32'>\n"
     ]
    }
   ],
   "source": [
    "import numpy as np\n",
    "\n",
    "num_list = [[1, 2, 3], [4, 5, 6]]\n",
    "num_array = np.array(object=num_list)\n",
    "\n",
    "print(\"Data type of elements in num_list variable:\")\n",
    "for sublist in num_list:\n",
    "    for element in sublist:\n",
    "        print(type(element))\n",
    "\n",
    "print(\"\\nData type of elements in num_array variable:\")\n",
    "for sublist in num_array:\n",
    "    for element in sublist:\n",
    "        print(type(element))\n"
   ]
  },
  {
   "cell_type": "markdown",
   "id": "2c3f6bba-7815-4119-9c3a-1998bf1a37bc",
   "metadata": {},
   "source": [
    "# Q4"
   ]
  },
  {
   "cell_type": "code",
   "execution_count": 7,
   "id": "8515b700-9d7b-499d-bd0a-d6c82eb53c1d",
   "metadata": {
    "tags": []
   },
   "outputs": [
    {
     "name": "stdout",
     "output_type": "stream",
     "text": [
      "Shape of num_array: (2, 3)\n",
      "Size of num_array: 6\n"
     ]
    }
   ],
   "source": [
    "import numpy as np\n",
    "\n",
    "num_list = [[1, 2, 3], [4, 5, 6]]\n",
    "num_array = np.array(object=num_list)\n",
    "\n",
    "\n",
    "print(\"Shape of num_array:\", num_array.shape)\n",
    "\n",
    "\n",
    "print(\"Size of num_array:\", num_array.size)\n"
   ]
  },
  {
   "cell_type": "markdown",
   "id": "afc49140-5466-433d-b6e5-833a18a7068d",
   "metadata": {},
   "source": [
    "# Q5"
   ]
  },
  {
   "cell_type": "code",
   "execution_count": 8,
   "id": "5ada87fe-07c3-4c40-be42-12a269d6dddc",
   "metadata": {
    "tags": []
   },
   "outputs": [
    {
     "name": "stdout",
     "output_type": "stream",
     "text": [
      "[[0. 0. 0.]\n",
      " [0. 0. 0.]\n",
      " [0. 0. 0.]]\n"
     ]
    }
   ],
   "source": [
    "import numpy as np\n",
    "\n",
    "zeros_array = np.zeros((3, 3))\n",
    "\n",
    "# Print the array\n",
    "print(zeros_array)\n"
   ]
  },
  {
   "cell_type": "markdown",
   "id": "8f58eef9-c890-4285-8a3b-6f20ca83c6a6",
   "metadata": {},
   "source": [
    "# Q6"
   ]
  },
  {
   "cell_type": "code",
   "execution_count": 9,
   "id": "0cac634e-8d74-44c7-be88-7451e5c002ff",
   "metadata": {
    "tags": []
   },
   "outputs": [
    {
     "name": "stdout",
     "output_type": "stream",
     "text": [
      "[[1. 0. 0. 0. 0.]\n",
      " [0. 1. 0. 0. 0.]\n",
      " [0. 0. 1. 0. 0.]\n",
      " [0. 0. 0. 1. 0.]\n",
      " [0. 0. 0. 0. 1.]]\n"
     ]
    }
   ],
   "source": [
    "import numpy as np\n",
    "\n",
    "\n",
    "identity_matrix = np.eye(5)\n",
    "\n",
    "\n",
    "print(identity_matrix)\n"
   ]
  },
  {
   "cell_type": "code",
   "execution_count": null,
   "id": "12596b75-781d-4e06-a096-c7dc60ebd355",
   "metadata": {},
   "outputs": [],
   "source": []
  }
 ],
 "metadata": {
  "kernelspec": {
   "display_name": "Python 3 (ipykernel)",
   "language": "python",
   "name": "python3"
  },
  "language_info": {
   "codemirror_mode": {
    "name": "ipython",
    "version": 3
   },
   "file_extension": ".py",
   "mimetype": "text/x-python",
   "name": "python",
   "nbconvert_exporter": "python",
   "pygments_lexer": "ipython3",
   "version": "3.11.2"
  }
 },
 "nbformat": 4,
 "nbformat_minor": 5
}
