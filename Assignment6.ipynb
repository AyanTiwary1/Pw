{
 "cells": [
  {
   "cell_type": "markdown",
   "id": "85de50eb-9078-4c1b-b4d6-87beeffcf739",
   "metadata": {},
   "source": [
    "# Assignment 6 "
   ]
  },
  {
   "cell_type": "markdown",
   "id": "77eda14e-3787-4f4d-ad22-1a731e37e0bd",
   "metadata": {},
   "source": [
    "# Q1"
   ]
  },
  {
   "cell_type": "raw",
   "id": "3f81a574-f3db-4911-bae4-b04a03359919",
   "metadata": {},
   "source": [
    "To find the product of all the numbers present inside the given list"
   ]
  },
  {
   "cell_type": "code",
   "execution_count": 23,
   "id": "74124f09-a1a8-48a5-9245-71bbe06c9743",
   "metadata": {},
   "outputs": [],
   "source": [
    "   def products(a):\n",
    "        #list1 = [1,2,3,4, [44,55,66, True], False, (34,56,78,89,34), {1,2,3,3,2,1}, {1:34, \"key2\": [55, 67, 78, 89], 4: (45,\n",
    "#22, 61, 34)}, [56, 'data science'], 'Machine Learning']\n",
    "    \n",
    "    \n",
    "        l=[]\n",
    "        for i in a:\n",
    "            if type(i)==int:\n",
    "                l.append(i)\n",
    "            elif type(i)==list or type(i)==tuple:\n",
    "                for j in i:\n",
    "                    if type(j)==int:\n",
    "                        l.append(j)\n",
    "            elif type(i)==set:\n",
    "                for m in i:\n",
    "                    l.append(m)\n",
    "                    l.append(m) \n",
    "            elif type(i)==dict:\n",
    "                for k,v in i.items():\n",
    "                    if type(k)==int:\n",
    "                        l.append(k)\n",
    "                    if type(v)==int:\n",
    "                        l.append(v)\n",
    "                    if type(v)==list or type(v)==tuple:\n",
    "                        for c in v:\n",
    "                            l.append(c)\n",
    "        from functools import reduce\n",
    "        a=reduce(lambda x,y:x*y , l)\n",
    "        print(\"The sum of all the 30 numbers in the list is :\" , a)\n",
    "            "
   ]
  },
  {
   "cell_type": "code",
   "execution_count": 37,
   "id": "e9fd6c35-357f-47eb-abf5-555455bdb96e",
   "metadata": {},
   "outputs": [
    {
     "name": "stdout",
     "output_type": "stream",
     "text": [
      "The sum of all the 30 numbers in the list is : 24808271033922512873003047452672000\n"
     ]
    }
   ],
   "source": [
    "products([1,2,3,4, [44,55,66, True], False, (34,56,78,89,34), {1,2,3,3,2,1}, {1:34, \"key2\": [55, 67, 78, 89], 4: (45,\n",
    "22, 61, 34)}, [56, 'data science'], 'Machine Learning'])"
   ]
  },
  {
   "cell_type": "code",
   "execution_count": 38,
   "id": "eaeb7534-eedc-43b9-8c79-a4d79e0b83c4",
   "metadata": {},
   "outputs": [],
   "source": [
    "# Set had duplicates of each number I have multiplies the dupicates as well"
   ]
  },
  {
   "cell_type": "markdown",
   "id": "6c9321d5-d235-492c-8a0b-5a93eb603331",
   "metadata": {},
   "source": [
    "# Q2"
   ]
  },
  {
   "cell_type": "raw",
   "id": "a5e1f472-a5a8-46de-b327-ea13c14db413",
   "metadata": {},
   "source": [
    "For Encryption of a message sent by friend"
   ]
  },
  {
   "cell_type": "code",
   "execution_count": 35,
   "id": "a6a7d600-6288-49a6-a46e-b4008bc6c08b",
   "metadata": {},
   "outputs": [],
   "source": [
    "def encryption(sms):\n",
    "    sms=sms.lower() #Converted the message into lower case\n",
    "    letter_change = {'a': 'z','b': 'y','c': 'x','d': 'w','e': 'v','f': 'u', 'g': 't','h': 's','i': 'r','j': 'q','k': 'p','l': 'o', 'm': 'n','n': 'm',  'o': 'l',  'p': 'k',  'q': 'j',   'r': 'i','s': 'h', 't': 'g', 'u': 'f', 'v': 'e', 'w': 'd', 'x': 'c', 'y': 'b', 'z': 'a'}\n",
    "    Encryption = \"\"\n",
    "    for character in sms:\n",
    "        if character.isalpha():\n",
    "            Encryption  = Encryption+letter_change[character]\n",
    "        elif character.isspace():\n",
    "            Encryption = Encryption+'$'\n",
    "        else:\n",
    "            Encryption = Encryption + character\n",
    "    print(Encryption)"
   ]
  },
  {
   "cell_type": "code",
   "execution_count": 36,
   "id": "9d9d79aa-24da-41ef-a88b-f444bbf265df",
   "metadata": {},
   "outputs": [
    {
     "name": "stdout",
     "output_type": "stream",
     "text": [
      "r$dzmg$gl$yvxlnv$z$wzgz$hxrvmgrhg\n"
     ]
    }
   ],
   "source": [
    "encryption(\"I want to become a Data Scientist\")"
   ]
  }
 ],
 "metadata": {
  "kernelspec": {
   "display_name": "Python 3 (ipykernel)",
   "language": "python",
   "name": "python3"
  },
  "language_info": {
   "codemirror_mode": {
    "name": "ipython",
    "version": 3
   },
   "file_extension": ".py",
   "mimetype": "text/x-python",
   "name": "python",
   "nbconvert_exporter": "python",
   "pygments_lexer": "ipython3",
   "version": "3.10.8"
  }
 },
 "nbformat": 4,
 "nbformat_minor": 5
}
