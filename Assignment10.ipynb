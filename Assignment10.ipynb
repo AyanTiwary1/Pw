{
 "cells": [
  {
   "cell_type": "markdown",
   "id": "1dcf751c-6ab4-45fe-b50c-09edd044cfe4",
   "metadata": {},
   "source": [
    "# Assignment 10"
   ]
  },
  {
   "cell_type": "markdown",
   "id": "5577d772-9583-4e3c-a445-272f0a95617c",
   "metadata": {},
   "source": [
    "# Q1"
   ]
  },
  {
   "cell_type": "markdown",
   "id": "f8b58b50-ecb2-4163-9a0e-8451deb1c741",
   "metadata": {},
   "source": [
    "The built-in function open() is used to open a file. This function takes two arguments - the first is the file path, and the second is the mode in which to open the fi"
   ]
  },
  {
   "cell_type": "markdown",
   "id": "296a93d0-49d1-439a-baba-504119bb3578",
   "metadata": {},
   "source": [
    "Functions can be opened in 3 ways\n",
    "'r': This mode is used to open a file for reading. The file pointer is placed at the beginning of the file, and if the file does not exist, an error is raised.\n",
    "\n",
    "'w': This mode is used to open a file for writing. If the file already exists, its contents are truncated. If the file does not exist, a new file is created.\n",
    "\n",
    "'a': This mode is used to open a file for appending. The file pointer is placed at the end of the file, and any new data written to the file is added to the end. If the file does not exist, a new file is created.\n",
    "\n",
    "'x': This mode is used to open a file for exclusive creation. If the file already exists, an error is raised.\n",
    "\n",
    "'b': This mode is used to open a file in binary mode. This is used for non-text files, such as images, audio, or video.\n",
    "\n",
    "'t': This mode is used to open a file in text mode. This is the default mode, and it is used for text files, such as .txt files.\n",
    "\n",
    "'+': This mode is used to open a file for both reading and writing."
   ]
  },
  {
   "cell_type": "markdown",
   "id": "361b7f7f-4115-4507-8663-34aaa476d066",
   "metadata": {},
   "source": [
    "# Q2"
   ]
  },
  {
   "cell_type": "markdown",
   "id": "033d083c-a74b-462c-a129-80e29bed9e37",
   "metadata": {},
   "source": [
    "The close() function is used to close a file that has been opened with the open() function. It is important to close a file after it has been used because it frees up system resources that were being used by the file."
   ]
  },
  {
   "cell_type": "markdown",
   "id": "6dc1d6e4-d51a-4523-8a50-b7c9ae1ec946",
   "metadata": {},
   "source": [
    "When a file is opened, it takes up system resources such as memory and file descriptors. If the file is not closed, these resources will continue to be used by the file, which can cause performance issues and even lead to crashes."
   ]
  },
  {
   "cell_type": "markdown",
   "id": "3b2e573a-add9-4024-a773-44e26cdbefd5",
   "metadata": {},
   "source": [
    "When a file is closed, any unsaved data is written to the file. If a file is not closed, any data that has not been written to the file will be lost."
   ]
  },
  {
   "cell_type": "markdown",
   "id": "c84bb937-c33f-4122-8541-0d9466252935",
   "metadata": {},
   "source": [
    "# Q3"
   ]
  },
  {
   "cell_type": "code",
   "execution_count": 1,
   "id": "9bc3e1a9-d670-474d-97b8-3af454380cd5",
   "metadata": {},
   "outputs": [],
   "source": [
    "f=open(\"text.txt\",'w')\n",
    "f.write(\"I want to become Data scientist\")\n",
    "f.close()"
   ]
  },
  {
   "cell_type": "code",
   "execution_count": 4,
   "id": "7e2f6585-f35e-4763-b755-97e63db2c876",
   "metadata": {},
   "outputs": [
    {
     "data": {
      "text/plain": [
       "'I want to become Data scientist'"
      ]
     },
     "execution_count": 4,
     "metadata": {},
     "output_type": "execute_result"
    }
   ],
   "source": [
    "tarr=open(\"text.txt\",\"r\")\n",
    "tarr.read()"
   ]
  },
  {
   "cell_type": "markdown",
   "id": "d1178b4a-9c45-40ad-a1b9-b7b59f7dbbab",
   "metadata": {},
   "source": [
    "# Q4"
   ]
  },
  {
   "cell_type": "markdown",
   "id": "82c405b9-d834-4b4e-84b7-841dbe25df18",
   "metadata": {},
   "source": [
    "READ"
   ]
  },
  {
   "cell_type": "markdown",
   "id": "72c63182-eb73-4831-999d-2769cf112da0",
   "metadata": {},
   "source": [
    "read(): This method is used to read the entire content of a file as a single string. It takes an optional argument that specifies the number of bytes to read. If no argument is passed, it reads the entire file."
   ]
  },
  {
   "cell_type": "code",
   "execution_count": null,
   "id": "e545f54c-0c2e-4226-ab96-dda83aaa225e",
   "metadata": {},
   "outputs": [],
   "source": [
    "f=open(\"text.txt\",'w')\n",
    "f.write(\"I want to become Data scientist\")\n",
    "f.close()"
   ]
  },
  {
   "cell_type": "code",
   "execution_count": 5,
   "id": "203e3a80-8a9c-4eda-8a4d-43e05720cb0f",
   "metadata": {},
   "outputs": [
    {
     "data": {
      "text/plain": [
       "'I want to become Data scientist'"
      ]
     },
     "execution_count": 5,
     "metadata": {},
     "output_type": "execute_result"
    }
   ],
   "source": [
    "tarr=open(\"text.txt\",\"r\")\n",
    "tarr.read()"
   ]
  },
  {
   "cell_type": "markdown",
   "id": "fe9bf185-63d3-4da0-bb69-b8cc105c3152",
   "metadata": {},
   "source": [
    " READLINE"
   ]
  },
  {
   "cell_type": "code",
   "execution_count": 22,
   "id": "6c38a8bc-ed83-4139-82cf-7e8d4da55a3c",
   "metadata": {},
   "outputs": [],
   "source": [
    "f=open(\"teeext.txt\",'w')\n",
    "f.write(\"I want to become Data scientist \\n And Get Full Marks\")\n",
    "f.close()"
   ]
  },
  {
   "cell_type": "code",
   "execution_count": 26,
   "id": "68368570-7616-4370-9704-91f3fe19a531",
   "metadata": {},
   "outputs": [
    {
     "name": "stdout",
     "output_type": "stream",
     "text": [
      "I want to become Data scientist \n",
      "\n"
     ]
    }
   ],
   "source": [
    "marry=open(\"teeext.txt\",\"r\")\n",
    "te = marry.readline()\n",
    "print(te) # reads only the first line of the text"
   ]
  },
  {
   "cell_type": "markdown",
   "id": "a1eb852a-8a86-4fd5-a173-15d7ca9d478f",
   "metadata": {},
   "source": [
    "READLINES"
   ]
  },
  {
   "cell_type": "code",
   "execution_count": 29,
   "id": "a2e43c93-2028-4d77-88c6-b8f429e0db0e",
   "metadata": {},
   "outputs": [],
   "source": [
    "f=open(\"trrxt.txt\",'w')\n",
    "f.write(\"I want to become Data scientist \\n And Get Full Marks \\n and get 100percentile \")\n",
    "f.close()"
   ]
  },
  {
   "cell_type": "code",
   "execution_count": 30,
   "id": "239b9ab9-a9ec-41ca-a2e9-f7b2323b5f23",
   "metadata": {},
   "outputs": [
    {
     "name": "stdout",
     "output_type": "stream",
     "text": [
      "I want to become Data scientist \n",
      "\n",
      " And Get Full Marks \n",
      "\n",
      " and get 100percentile \n"
     ]
    }
   ],
   "source": [
    "marry=open(\"trrxt.txt\",\"r\")\n",
    "te = marry.readlines()\n",
    "for i in te:\n",
    "    print(i)"
   ]
  },
  {
   "cell_type": "markdown",
   "id": "f436deb0-ee1c-471f-81a3-2ef548000526",
   "metadata": {},
   "source": [
    "# Q5"
   ]
  },
  {
   "cell_type": "markdown",
   "id": "cb9d0f8f-ac5b-4a54-8bfc-52b290c7a2b2",
   "metadata": {},
   "source": [
    "The advantage of using the with statement with open() is that it automatically handles the opening and closing of the file. \n",
    "\n",
    "When the with block is entered, the file is automatically opened, and when the block is exited, the file is automatically closed. \n",
    "\n",
    "This ensures that the file is always closed, even if an exception is raised."
   ]
  },
  {
   "cell_type": "markdown",
   "id": "1d89e111-5e17-4cca-adcf-1d82562de543",
   "metadata": {},
   "source": [
    "# Q6"
   ]
  },
  {
   "cell_type": "markdown",
   "id": "1a27ac4c-1cae-47d0-9709-2b161bf23786",
   "metadata": {},
   "source": [
    "The write() function is used to write a single string to a file. If the file does not exist, it will be created"
   ]
  },
  {
   "cell_type": "code",
   "execution_count": 32,
   "id": "76b960f8-e2db-458d-9c42-85316d5a1180",
   "metadata": {},
   "outputs": [],
   "source": [
    "with open('example.txt', 'w') as f:\n",
    "    f.write('HEy whats up \\n ')\n",
    "    f.write('This is some text.\\n')\n"
   ]
  },
  {
   "cell_type": "code",
   "execution_count": null,
   "id": "569ea10b-095f-4551-b3a2-be3790c12118",
   "metadata": {},
   "outputs": [],
   "source": []
  },
  {
   "cell_type": "markdown",
   "id": "c4bcc962-bd8e-4174-8b89-057af4fd6217",
   "metadata": {},
   "source": [
    "The writelines() function is used to write a sequence of strings to a file. Each string is written on a separate line. "
   ]
  },
  {
   "cell_type": "code",
   "execution_count": null,
   "id": "a02e1932-9f00-4528-9268-128fc486a49d",
   "metadata": {},
   "outputs": [],
   "source": []
  }
 ],
 "metadata": {
  "kernelspec": {
   "display_name": "Python 3 (ipykernel)",
   "language": "python",
   "name": "python3"
  },
  "language_info": {
   "codemirror_mode": {
    "name": "ipython",
    "version": 3
   },
   "file_extension": ".py",
   "mimetype": "text/x-python",
   "name": "python",
   "nbconvert_exporter": "python",
   "pygments_lexer": "ipython3",
   "version": "3.10.8"
  }
 },
 "nbformat": 4,
 "nbformat_minor": 5
}
